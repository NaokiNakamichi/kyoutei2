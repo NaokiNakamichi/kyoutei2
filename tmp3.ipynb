{
 "cells": [
  {
   "cell_type": "code",
   "execution_count": 59,
   "metadata": {
    "collapsed": true
   },
   "outputs": [],
   "source": [
    "import lightgbm as lgb\n",
    "import pandas as pd # 基本ライブラリ\n",
    "import numpy as np # 基本ライブラリ\n",
    "import matplotlib.pyplot as plt # グラフ描画用\n",
    "from sklearn.model_selection import train_test_split # データセット分割用\n",
    "from sklearn.metrics import accuracy_score # モデル評価用(正答率)\n",
    "from sklearn.metrics import log_loss # モデル評価用(logloss)\n",
    "from sklearn.metrics import roc_auc_score # モデル評価用(auc)\n",
    "from sklearn.metrics import confusion_matrix\n",
    "from sklearn.metrics import accuracy_score\n",
    "from sklearn.metrics import classification_report\n",
    "\n",
    "\n",
    "from sklearn.metrics import recall_score\n",
    "\n",
    "\n",
    "# データフレームを綺麗に出力する関数\n",
    "import IPython\n",
    "def display(*dfs, head=True):\n",
    "    for df in dfs:\n",
    "        IPython.display.display(df.head() if head else df)"
   ]
  },
  {
   "cell_type": "code",
   "execution_count": 38,
   "outputs": [
    {
     "name": "stderr",
     "output_type": "stream",
     "text": [
      "/var/folders/s6/7jf_zlp94gg5cpb8c5lrx2j80000gn/T/ipykernel_56914/1450870400.py:1: DtypeWarning: Columns (4,5,6,7,8,9) have mixed types. Specify dtype option on import or set low_memory=False.\n",
      "  hoge = pd.read_csv(\"dataset/all_data_2021.csv\", index_col=0)\n"
     ]
    }
   ],
   "source": [
    "hoge = pd.read_csv(\"dataset/all_data_2021.csv\", index_col=0)"
   ],
   "metadata": {
    "collapsed": false,
    "pycharm": {
     "name": "#%%\n"
    }
   }
  },
  {
   "cell_type": "code",
   "execution_count": 39,
   "outputs": [
    {
     "data": {
      "text/plain": "           date  place_cd  race_no SC_1 SC_2 SC_3 SC_4 SC_5 SC_6  ST_1  ...  \\\n0    2021-05-04        21        2    1    3    4    2    5    6  0.14  ...   \n1    2021-05-04        21        4    1    2    3    4    5    6  0.17  ...   \n2    2021-05-04        21        5    1    2    3    4    5    6  0.11  ...   \n3    2021-05-04        21        6    1    2    3    4    5    6  0.24  ...   \n4    2021-05-04        21        9    1    2    3    4    5    6  0.10  ...   \n..          ...       ...      ...  ...  ...  ...  ...  ...  ...   ...  ...   \n132  2021-05-09         2        8    1    2    3    6    4    5  0.05  ...   \n133  2021-05-09         2        9    1    2    3    4    5    6  0.20  ...   \n134  2021-05-09         2       10    1    2    3    5    4    6  0.06  ...   \n135  2021-05-09         2       11    1    2    3    4    5    6  0.04  ...   \n136  2021-05-09         2       12    1    2    3    4    5    6  0.16  ...   \n\n     ESC_3  ESC_4  ESC_5  ESC_6  wether  air_t  wind_d  wind_v  water_t  \\\n0        4      2      5      6       晴   20.0      15     1.0     17.0   \n1        3      4      5      6       晴   22.0      13     2.0     17.0   \n2        3      4      5      6       晴   23.0       5     3.0     17.0   \n3        3      4      5      6       晴   23.0       1     2.0     17.0   \n4        3      4      5      6      曇り   22.0       1     3.0     17.0   \n..     ...    ...    ...    ...     ...    ...     ...     ...      ...   \n132      3      6      4      5       晴   27.0      16     2.0     22.0   \n133      3      4      5      6      曇り   27.0      16     1.0     22.0   \n134      3      4      5      6       晴   27.0       4     1.0     22.0   \n135      3      4      5      6       晴   27.0       4     3.0     22.0   \n136      3      4      5      6       晴   27.0       4     1.0     22.0   \n\n     wave_h  \n0       1.0  \n1       2.0  \n2       3.0  \n3       2.0  \n4       3.0  \n..      ...  \n132     1.0  \n133     0.0  \n134     1.0  \n135     2.0  \n136     1.0  \n\n[44798 rows x 177 columns]",
      "text/html": "<div>\n<style scoped>\n    .dataframe tbody tr th:only-of-type {\n        vertical-align: middle;\n    }\n\n    .dataframe tbody tr th {\n        vertical-align: top;\n    }\n\n    .dataframe thead th {\n        text-align: right;\n    }\n</style>\n<table border=\"1\" class=\"dataframe\">\n  <thead>\n    <tr style=\"text-align: right;\">\n      <th></th>\n      <th>date</th>\n      <th>place_cd</th>\n      <th>race_no</th>\n      <th>SC_1</th>\n      <th>SC_2</th>\n      <th>SC_3</th>\n      <th>SC_4</th>\n      <th>SC_5</th>\n      <th>SC_6</th>\n      <th>ST_1</th>\n      <th>...</th>\n      <th>ESC_3</th>\n      <th>ESC_4</th>\n      <th>ESC_5</th>\n      <th>ESC_6</th>\n      <th>wether</th>\n      <th>air_t</th>\n      <th>wind_d</th>\n      <th>wind_v</th>\n      <th>water_t</th>\n      <th>wave_h</th>\n    </tr>\n  </thead>\n  <tbody>\n    <tr>\n      <th>0</th>\n      <td>2021-05-04</td>\n      <td>21</td>\n      <td>2</td>\n      <td>1</td>\n      <td>3</td>\n      <td>4</td>\n      <td>2</td>\n      <td>5</td>\n      <td>6</td>\n      <td>0.14</td>\n      <td>...</td>\n      <td>4</td>\n      <td>2</td>\n      <td>5</td>\n      <td>6</td>\n      <td>晴</td>\n      <td>20.0</td>\n      <td>15</td>\n      <td>1.0</td>\n      <td>17.0</td>\n      <td>1.0</td>\n    </tr>\n    <tr>\n      <th>1</th>\n      <td>2021-05-04</td>\n      <td>21</td>\n      <td>4</td>\n      <td>1</td>\n      <td>2</td>\n      <td>3</td>\n      <td>4</td>\n      <td>5</td>\n      <td>6</td>\n      <td>0.17</td>\n      <td>...</td>\n      <td>3</td>\n      <td>4</td>\n      <td>5</td>\n      <td>6</td>\n      <td>晴</td>\n      <td>22.0</td>\n      <td>13</td>\n      <td>2.0</td>\n      <td>17.0</td>\n      <td>2.0</td>\n    </tr>\n    <tr>\n      <th>2</th>\n      <td>2021-05-04</td>\n      <td>21</td>\n      <td>5</td>\n      <td>1</td>\n      <td>2</td>\n      <td>3</td>\n      <td>4</td>\n      <td>5</td>\n      <td>6</td>\n      <td>0.11</td>\n      <td>...</td>\n      <td>3</td>\n      <td>4</td>\n      <td>5</td>\n      <td>6</td>\n      <td>晴</td>\n      <td>23.0</td>\n      <td>5</td>\n      <td>3.0</td>\n      <td>17.0</td>\n      <td>3.0</td>\n    </tr>\n    <tr>\n      <th>3</th>\n      <td>2021-05-04</td>\n      <td>21</td>\n      <td>6</td>\n      <td>1</td>\n      <td>2</td>\n      <td>3</td>\n      <td>4</td>\n      <td>5</td>\n      <td>6</td>\n      <td>0.24</td>\n      <td>...</td>\n      <td>3</td>\n      <td>4</td>\n      <td>5</td>\n      <td>6</td>\n      <td>晴</td>\n      <td>23.0</td>\n      <td>1</td>\n      <td>2.0</td>\n      <td>17.0</td>\n      <td>2.0</td>\n    </tr>\n    <tr>\n      <th>4</th>\n      <td>2021-05-04</td>\n      <td>21</td>\n      <td>9</td>\n      <td>1</td>\n      <td>2</td>\n      <td>3</td>\n      <td>4</td>\n      <td>5</td>\n      <td>6</td>\n      <td>0.10</td>\n      <td>...</td>\n      <td>3</td>\n      <td>4</td>\n      <td>5</td>\n      <td>6</td>\n      <td>曇り</td>\n      <td>22.0</td>\n      <td>1</td>\n      <td>3.0</td>\n      <td>17.0</td>\n      <td>3.0</td>\n    </tr>\n    <tr>\n      <th>...</th>\n      <td>...</td>\n      <td>...</td>\n      <td>...</td>\n      <td>...</td>\n      <td>...</td>\n      <td>...</td>\n      <td>...</td>\n      <td>...</td>\n      <td>...</td>\n      <td>...</td>\n      <td>...</td>\n      <td>...</td>\n      <td>...</td>\n      <td>...</td>\n      <td>...</td>\n      <td>...</td>\n      <td>...</td>\n      <td>...</td>\n      <td>...</td>\n      <td>...</td>\n      <td>...</td>\n    </tr>\n    <tr>\n      <th>132</th>\n      <td>2021-05-09</td>\n      <td>2</td>\n      <td>8</td>\n      <td>1</td>\n      <td>2</td>\n      <td>3</td>\n      <td>6</td>\n      <td>4</td>\n      <td>5</td>\n      <td>0.05</td>\n      <td>...</td>\n      <td>3</td>\n      <td>6</td>\n      <td>4</td>\n      <td>5</td>\n      <td>晴</td>\n      <td>27.0</td>\n      <td>16</td>\n      <td>2.0</td>\n      <td>22.0</td>\n      <td>1.0</td>\n    </tr>\n    <tr>\n      <th>133</th>\n      <td>2021-05-09</td>\n      <td>2</td>\n      <td>9</td>\n      <td>1</td>\n      <td>2</td>\n      <td>3</td>\n      <td>4</td>\n      <td>5</td>\n      <td>6</td>\n      <td>0.20</td>\n      <td>...</td>\n      <td>3</td>\n      <td>4</td>\n      <td>5</td>\n      <td>6</td>\n      <td>曇り</td>\n      <td>27.0</td>\n      <td>16</td>\n      <td>1.0</td>\n      <td>22.0</td>\n      <td>0.0</td>\n    </tr>\n    <tr>\n      <th>134</th>\n      <td>2021-05-09</td>\n      <td>2</td>\n      <td>10</td>\n      <td>1</td>\n      <td>2</td>\n      <td>3</td>\n      <td>5</td>\n      <td>4</td>\n      <td>6</td>\n      <td>0.06</td>\n      <td>...</td>\n      <td>3</td>\n      <td>4</td>\n      <td>5</td>\n      <td>6</td>\n      <td>晴</td>\n      <td>27.0</td>\n      <td>4</td>\n      <td>1.0</td>\n      <td>22.0</td>\n      <td>1.0</td>\n    </tr>\n    <tr>\n      <th>135</th>\n      <td>2021-05-09</td>\n      <td>2</td>\n      <td>11</td>\n      <td>1</td>\n      <td>2</td>\n      <td>3</td>\n      <td>4</td>\n      <td>5</td>\n      <td>6</td>\n      <td>0.04</td>\n      <td>...</td>\n      <td>3</td>\n      <td>4</td>\n      <td>5</td>\n      <td>6</td>\n      <td>晴</td>\n      <td>27.0</td>\n      <td>4</td>\n      <td>3.0</td>\n      <td>22.0</td>\n      <td>2.0</td>\n    </tr>\n    <tr>\n      <th>136</th>\n      <td>2021-05-09</td>\n      <td>2</td>\n      <td>12</td>\n      <td>1</td>\n      <td>2</td>\n      <td>3</td>\n      <td>4</td>\n      <td>5</td>\n      <td>6</td>\n      <td>0.16</td>\n      <td>...</td>\n      <td>3</td>\n      <td>4</td>\n      <td>5</td>\n      <td>6</td>\n      <td>晴</td>\n      <td>27.0</td>\n      <td>4</td>\n      <td>1.0</td>\n      <td>22.0</td>\n      <td>1.0</td>\n    </tr>\n  </tbody>\n</table>\n<p>44798 rows × 177 columns</p>\n</div>"
     },
     "execution_count": 39,
     "metadata": {},
     "output_type": "execute_result"
    }
   ],
   "source": [
    "hoge"
   ],
   "metadata": {
    "collapsed": false,
    "pycharm": {
     "name": "#%%\n"
    }
   }
  },
  {
   "cell_type": "code",
   "execution_count": 40,
   "outputs": [],
   "source": [
    "X_df = pd.read_csv(\"dataset/v1_features/v1.csv\",index_col=0)"
   ],
   "metadata": {
    "collapsed": false,
    "pycharm": {
     "name": "#%%\n"
    }
   }
  },
  {
   "cell_type": "code",
   "execution_count": 41,
   "outputs": [],
   "source": [
    "X = X_df.values\n",
    "\n",
    "Y = hoge[\"tkt_1t\"].values"
   ],
   "metadata": {
    "collapsed": false,
    "pycharm": {
     "name": "#%%\n"
    }
   }
  },
  {
   "cell_type": "code",
   "execution_count": 42,
   "outputs": [],
   "source": [
    "X_train, X_test, y_train, y_test = train_test_split(X, Y,test_size=0.20, random_state=2)"
   ],
   "metadata": {
    "collapsed": false,
    "pycharm": {
     "name": "#%%\n"
    }
   }
  },
  {
   "cell_type": "code",
   "execution_count": 43,
   "outputs": [
    {
     "data": {
      "text/plain": "(35838, 60)"
     },
     "execution_count": 43,
     "metadata": {},
     "output_type": "execute_result"
    }
   ],
   "source": [
    "X_train.shape"
   ],
   "metadata": {
    "collapsed": false,
    "pycharm": {
     "name": "#%%\n"
    }
   }
  },
  {
   "cell_type": "code",
   "execution_count": 44,
   "outputs": [
    {
     "data": {
      "text/plain": "(35838,)"
     },
     "execution_count": 44,
     "metadata": {},
     "output_type": "execute_result"
    }
   ],
   "source": [
    "y_train.shape"
   ],
   "metadata": {
    "collapsed": false,
    "pycharm": {
     "name": "#%%\n"
    }
   }
  },
  {
   "cell_type": "code",
   "execution_count": 45,
   "outputs": [],
   "source": [
    "# モデルの学習\n",
    "model = lgb.LGBMClassifier() # モデルのインスタンスの作成\n",
    "model.fit(X_train, y_train) # モデルの学習\n",
    "\n",
    "# テストデータの予測クラス (予測クラス(0 or 1 or 2)を返す)\n",
    "y_pred = model.predict(X_test)\n",
    "# テストデータのクラス予測確率 (各クラスの予測確率 [クラス0の予測確率,クラス1の予測確率,クラス2の予測確率] を返す)\n",
    "y_pred_prob = model.predict_proba(X_test)"
   ],
   "metadata": {
    "collapsed": false,
    "pycharm": {
     "name": "#%%\n"
    }
   }
  },
  {
   "cell_type": "code",
   "execution_count": 46,
   "outputs": [],
   "source": [
    "# 真値と予測値の表示\n",
    "df_pred = pd.DataFrame({'target':y_test,'target_pred':y_pred})\n",
    "\n",
    "\n",
    "# 真値と予測確率の表示\n",
    "df_pred_prob = pd.DataFrame({'y':y_test, 'target0_prob':y_pred_prob[:,0], 'target1_prob':y_pred_prob[:,1], 'target2_prob':y_pred_prob[:,2], 'target3_prob':y_pred_prob[:,3], 'target4_prob':y_pred_prob[:,4], 'target5_prob':y_pred_prob[:,5]})"
   ],
   "metadata": {
    "collapsed": false,
    "pycharm": {
     "name": "#%%\n"
    }
   }
  },
  {
   "cell_type": "code",
   "execution_count": 47,
   "outputs": [],
   "source": [
    "df_pred.to_csv(\"tmp.csv\" , encoding='utf_8_sig')"
   ],
   "metadata": {
    "collapsed": false,
    "pycharm": {
     "name": "#%%\n"
    }
   }
  },
  {
   "cell_type": "code",
   "execution_count": 48,
   "outputs": [
    {
     "data": {
      "text/plain": "array(['1', '2', '3', '4', '5', '6', '特払い'], dtype=object)"
     },
     "execution_count": 48,
     "metadata": {},
     "output_type": "execute_result"
    }
   ],
   "source": [
    "np.unique(y_train)"
   ],
   "metadata": {
    "collapsed": false,
    "pycharm": {
     "name": "#%%\n"
    }
   }
  },
  {
   "cell_type": "code",
   "execution_count": 52,
   "outputs": [],
   "source": [
    "val_mat = confusion_matrix(y_test, y_pred)"
   ],
   "metadata": {
    "collapsed": false,
    "pycharm": {
     "name": "#%%\n"
    }
   }
  },
  {
   "cell_type": "code",
   "execution_count": 53,
   "outputs": [
    {
     "data": {
      "text/plain": "array([[4376,  206,  125,   89,   27,   20,   52],\n       [ 886,  260,   71,   47,   14,   14,    7],\n       [ 797,   90,  118,   31,   14,   17,   10],\n       [ 724,   65,   37,   64,    8,    4,   15],\n       [ 381,   42,   20,   10,   16,    5,    3],\n       [ 204,   29,   19,    3,    3,   24,    4],\n       [   9,    0,    0,    0,    0,    0,    0]])"
     },
     "execution_count": 53,
     "metadata": {},
     "output_type": "execute_result"
    }
   ],
   "source": [
    "val_mat"
   ],
   "metadata": {
    "collapsed": false,
    "pycharm": {
     "name": "#%%\n"
    }
   }
  },
  {
   "cell_type": "code",
   "execution_count": 55,
   "outputs": [
    {
     "data": {
      "text/plain": "0.5421875"
     },
     "execution_count": 55,
     "metadata": {},
     "output_type": "execute_result"
    }
   ],
   "source": [
    "accuracy_score(y_test, y_pred)\n"
   ],
   "metadata": {
    "collapsed": false,
    "pycharm": {
     "name": "#%%\n"
    }
   }
  },
  {
   "cell_type": "code",
   "execution_count": 58,
   "outputs": [
    {
     "name": "stdout",
     "output_type": "stream",
     "text": [
      "[0.89397344 0.20015396 0.1095636  0.0697928  0.03354298 0.08391608\n",
      " 0.        ]\n"
     ]
    }
   ],
   "source": [
    "rec_score = recall_score(y_test, y_pred, average=None)\n",
    "print(rec_score)"
   ],
   "metadata": {
    "collapsed": false,
    "pycharm": {
     "name": "#%%\n"
    }
   }
  },
  {
   "cell_type": "code",
   "execution_count": 61,
   "outputs": [
    {
     "name": "stdout",
     "output_type": "stream",
     "text": [
      "              precision    recall  f1-score   support\n",
      "\n",
      "           1       0.59      0.89      0.71      4895\n",
      "           2       0.38      0.20      0.26      1299\n",
      "           3       0.30      0.11      0.16      1077\n",
      "           4       0.26      0.07      0.11       917\n",
      "           5       0.20      0.03      0.06       477\n",
      "           6       0.29      0.08      0.13       286\n",
      "         特払い       0.00      0.00      0.00         9\n",
      "\n",
      "    accuracy                           0.54      8960\n",
      "   macro avg       0.29      0.20      0.20      8960\n",
      "weighted avg       0.46      0.54      0.47      8960\n",
      "\n"
     ]
    }
   ],
   "source": [
    "print(classification_report(y_test, y_pred))"
   ],
   "metadata": {
    "collapsed": false,
    "pycharm": {
     "name": "#%%\n"
    }
   }
  },
  {
   "cell_type": "code",
   "execution_count": null,
   "outputs": [],
   "source": [],
   "metadata": {
    "collapsed": false,
    "pycharm": {
     "name": "#%%\n"
    }
   }
  }
 ],
 "metadata": {
  "kernelspec": {
   "display_name": "Python 3",
   "language": "python",
   "name": "python3"
  },
  "language_info": {
   "codemirror_mode": {
    "name": "ipython",
    "version": 2
   },
   "file_extension": ".py",
   "mimetype": "text/x-python",
   "name": "python",
   "nbconvert_exporter": "python",
   "pygments_lexer": "ipython2",
   "version": "2.7.6"
  }
 },
 "nbformat": 4,
 "nbformat_minor": 0
}