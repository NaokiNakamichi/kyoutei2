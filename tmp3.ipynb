{
 "cells": [
  {
   "cell_type": "code",
   "execution_count": 14,
   "metadata": {
    "collapsed": true
   },
   "outputs": [],
   "source": [
    "import lightgbm as lgb\n",
    "import pandas as pd # 基本ライブラリ\n",
    "import numpy as np # 基本ライブラリ\n",
    "import matplotlib.pyplot as plt # グラフ描画用\n",
    "from sklearn.model_selection import train_test_split # データセット分割用\n",
    "from sklearn.metrics import accuracy_score # モデル評価用(正答率)\n",
    "from sklearn.metrics import log_loss # モデル評価用(logloss)\n",
    "from sklearn.metrics import roc_auc_score # モデル評価用(auc)\n",
    "from sklearn.metrics import confusion_matrix\n",
    "from sklearn.metrics import accuracy_score\n",
    "from sklearn.metrics import classification_report\n",
    "import pickle\n",
    "\n",
    "\n",
    "from sklearn.metrics import recall_score\n",
    "from imblearn.over_sampling import SMOTE\n",
    "\n",
    "\n",
    "# データフレームを綺麗に出力する関数\n",
    "import IPython\n",
    "def display(*dfs, head=True):\n",
    "    for df in dfs:\n",
    "        IPython.display.display(df.head() if head else df)"
   ]
  },
  {
   "cell_type": "code",
   "execution_count": 15,
   "outputs": [
    {
     "name": "stderr",
     "output_type": "stream",
     "text": [
      "/var/folders/s6/7jf_zlp94gg5cpb8c5lrx2j80000gn/T/ipykernel_38110/735921726.py:1: DtypeWarning: Columns (4,5,6,7,8,9) have mixed types. Specify dtype option on import or set low_memory=False.\n",
      "  hoge = pd.read_csv(\"dataset/all_data_2021_2022_03.csv\", index_col=0)\n"
     ]
    }
   ],
   "source": [
    "hoge = pd.read_csv(\"dataset/all_data_2021_2022_03.csv\", index_col=0)"
   ],
   "metadata": {
    "collapsed": false,
    "pycharm": {
     "name": "#%%\n"
    }
   }
  },
  {
   "cell_type": "code",
   "execution_count": 16,
   "outputs": [],
   "source": [
    "X_df = pd.read_csv(\"dataset/v1_features/v1.csv\",index_col=0)"
   ],
   "metadata": {
    "collapsed": false,
    "pycharm": {
     "name": "#%%\n"
    }
   }
  },
  {
   "cell_type": "code",
   "execution_count": 17,
   "outputs": [],
   "source": [
    "X = X_df.values\n",
    "\n",
    "Y = hoge[\"tkt_1t\"].values\n",
    "odds = hoge[\"odds_1t\"]"
   ],
   "metadata": {
    "collapsed": false,
    "pycharm": {
     "name": "#%%\n"
    }
   }
  },
  {
   "cell_type": "code",
   "execution_count": 18,
   "outputs": [],
   "source": [
    "X_train, X_test, y_train, y_test, odds_train, odds_test = train_test_split(X, Y, odds,test_size=0.20,shuffle=False)\n"
   ],
   "metadata": {
    "collapsed": false,
    "pycharm": {
     "name": "#%%\n"
    }
   }
  },
  {
   "cell_type": "code",
   "execution_count": 19,
   "outputs": [],
   "source": [
    "# モデルの学習\n",
    "model = lgb.LGBMClassifier() # モデルのインスタンスの作成\n",
    "model.fit(X, Y) # モデルの学習\n",
    "\n",
    "# テストデータの予測クラス (予測クラス(0 or 1 or 2)を返す)\n",
    "y_pred = model.predict(X_test)\n",
    "# テストデータのクラス予測確率 (各クラスの予測確率 [クラス0の予測確率,クラス1の予測確率,クラス2の予測確率] を返す)\n",
    "y_pred_prob = model.predict_proba(X_test)"
   ],
   "metadata": {
    "collapsed": false,
    "pycharm": {
     "name": "#%%\n"
    }
   }
  },
  {
   "cell_type": "code",
   "execution_count": 20,
   "outputs": [],
   "source": [
    "filename = '0402model.sav'\n",
    "pickle.dump(model, open(filename, 'wb'))"
   ],
   "metadata": {
    "collapsed": false,
    "pycharm": {
     "name": "#%%\n"
    }
   }
  },
  {
   "cell_type": "code",
   "execution_count": 21,
   "outputs": [],
   "source": [
    "# 真値と予測値の表示\n",
    "df_pred = pd.DataFrame({'target':y_test,'target_pred':y_pred})\n",
    "\n",
    "\n",
    "# 真値と予測確率の表示\n",
    "df_pred_prob = pd.DataFrame({'y':y_test, 'target0_prob':y_pred_prob[:,0], 'target1_prob':y_pred_prob[:,1], 'target2_prob':y_pred_prob[:,2], 'target3_prob':y_pred_prob[:,3], 'target4_prob':y_pred_prob[:,4], 'target5_prob':y_pred_prob[:,5]})"
   ],
   "metadata": {
    "collapsed": false,
    "pycharm": {
     "name": "#%%\n"
    }
   }
  },
  {
   "cell_type": "code",
   "execution_count": 22,
   "outputs": [],
   "source": [
    "df_pred.to_csv(\"tmp.csv\" , encoding='utf_8_sig')"
   ],
   "metadata": {
    "collapsed": false,
    "pycharm": {
     "name": "#%%\n"
    }
   }
  },
  {
   "cell_type": "code",
   "execution_count": 23,
   "outputs": [
    {
     "data": {
      "text/plain": "array([1, 2, 3, 4, 5, 6])"
     },
     "execution_count": 23,
     "metadata": {},
     "output_type": "execute_result"
    }
   ],
   "source": [
    "np.unique(y_train)"
   ],
   "metadata": {
    "collapsed": false,
    "pycharm": {
     "name": "#%%\n"
    }
   }
  },
  {
   "cell_type": "code",
   "execution_count": 24,
   "outputs": [
    {
     "data": {
      "text/plain": "array([[6043,   97,   49,   17,    4,    7],\n       [1061,  534,   45,   12,    1,    3],\n       [ 932,   73,  334,   20,    4,    5],\n       [ 840,   60,   39,  215,    1,    0],\n       [ 436,   27,   17,    5,  128,    1],\n       [ 191,   11,    5,    1,    0,  114]])"
     },
     "execution_count": 24,
     "metadata": {},
     "output_type": "execute_result"
    }
   ],
   "source": [
    "val_mat = confusion_matrix(y_test, y_pred)\n",
    "\n",
    "val_mat"
   ],
   "metadata": {
    "collapsed": false,
    "pycharm": {
     "name": "#%%\n"
    }
   }
  },
  {
   "cell_type": "code",
   "execution_count": 25,
   "outputs": [
    {
     "data": {
      "text/plain": "0.6501941404871161"
     },
     "execution_count": 25,
     "metadata": {},
     "output_type": "execute_result"
    }
   ],
   "source": [
    "accuracy_score(y_test, y_pred)\n"
   ],
   "metadata": {
    "collapsed": false,
    "pycharm": {
     "name": "#%%\n"
    }
   }
  },
  {
   "cell_type": "code",
   "execution_count": 26,
   "outputs": [
    {
     "name": "stdout",
     "output_type": "stream",
     "text": [
      "[0.97201222 0.32246377 0.24415205 0.18614719 0.20846906 0.35403727]\n"
     ]
    }
   ],
   "source": [
    "rec_score = recall_score(y_test, y_pred, average=None)\n",
    "print(rec_score)"
   ],
   "metadata": {
    "collapsed": false,
    "pycharm": {
     "name": "#%%\n"
    }
   }
  },
  {
   "cell_type": "code",
   "execution_count": 27,
   "outputs": [
    {
     "name": "stdout",
     "output_type": "stream",
     "text": [
      "              precision    recall  f1-score   support\n",
      "\n",
      "           1       0.64      0.97      0.77      6217\n",
      "           2       0.67      0.32      0.43      1656\n",
      "           3       0.68      0.24      0.36      1368\n",
      "           4       0.80      0.19      0.30      1155\n",
      "           5       0.93      0.21      0.34       614\n",
      "           6       0.88      0.35      0.50       322\n",
      "\n",
      "    accuracy                           0.65     11332\n",
      "   macro avg       0.76      0.38      0.45     11332\n",
      "weighted avg       0.68      0.65      0.59     11332\n",
      "\n"
     ]
    }
   ],
   "source": [
    "print(classification_report(y_test, y_pred))"
   ],
   "metadata": {
    "collapsed": false,
    "pycharm": {
     "name": "#%%\n"
    }
   }
  },
  {
   "cell_type": "code",
   "execution_count": 28,
   "outputs": [
    {
     "data": {
      "text/plain": "2.6789269325803033"
     },
     "execution_count": 28,
     "metadata": {},
     "output_type": "execute_result"
    }
   ],
   "source": [
    "kane = 0\n",
    "tousi = 0\n",
    "atari = []\n",
    "for target ,pred_i, odds_i in zip(y_test, y_pred, odds):\n",
    "    if target == pred_i:\n",
    "        kane += odds_i * 100\n",
    "        atari.append(odds_i)\n",
    "    tousi += 100\n",
    "\n",
    "\n",
    "kane / tousi"
   ],
   "metadata": {
    "collapsed": false,
    "pycharm": {
     "name": "#%%\n"
    }
   }
  },
  {
   "cell_type": "code",
   "execution_count": 29,
   "outputs": [
    {
     "data": {
      "text/plain": "(array([6406,  619,  184,   66,   25,   26,   19,    6,    2,    2,    3,\n           1,    2,    0,    0,    2,    1,    1,    2,    1]),\n array([  1.   ,   7.435,  13.87 ,  20.305,  26.74 ,  33.175,  39.61 ,\n         46.045,  52.48 ,  58.915,  65.35 ,  71.785,  78.22 ,  84.655,\n         91.09 ,  97.525, 103.96 , 110.395, 116.83 , 123.265, 129.7  ]))"
     },
     "execution_count": 29,
     "metadata": {},
     "output_type": "execute_result"
    }
   ],
   "source": [
    "np.histogram(atari,bins=20)"
   ],
   "metadata": {
    "collapsed": false,
    "pycharm": {
     "name": "#%%\n"
    }
   }
  },
  {
   "cell_type": "code",
   "execution_count": 30,
   "outputs": [
    {
     "data": {
      "text/plain": "<AxesSubplot:xlabel='0'>"
     },
     "execution_count": 30,
     "metadata": {},
     "output_type": "execute_result"
    },
    {
     "data": {
      "text/plain": "<Figure size 432x288 with 1 Axes>",
      "image/png": "[encoded data removed]"
     },
     "metadata": {
      "needs_background": "light"
     },
     "output_type": "display_data"
    }
   ],
   "source": [
    "sm = SMOTE()\n",
    "x_resampled, y_resampled = sm.fit_resample(X, Y)\n",
    "\n",
    "pd.DataFrame(y_resampled).value_counts().plot(kind=\"bar\")"
   ],
   "metadata": {
    "collapsed": false,
    "pycharm": {
     "name": "#%%\n"
    }
   }
  },
  {
   "cell_type": "code",
   "execution_count": 31,
   "outputs": [
    {
     "data": {
      "text/plain": "<AxesSubplot:xlabel='0'>"
     },
     "execution_count": 31,
     "metadata": {},
     "output_type": "execute_result"
    },
    {
     "data": {
      "text/plain": "<Figure size 432x288 with 1 Axes>",
      "image/png": "[encoded data removed]"
     },
     "metadata": {
      "needs_background": "light"
     },
     "output_type": "display_data"
    }
   ],
   "source": [
    "pd.DataFrame(y_pred).value_counts().plot(kind=\"bar\")"
   ],
   "metadata": {
    "collapsed": false,
    "pycharm": {
     "name": "#%%\n"
    }
   }
  },
  {
   "cell_type": "code",
   "execution_count": 32,
   "outputs": [
    {
     "data": {
      "text/plain": "<AxesSubplot:xlabel='0'>"
     },
     "execution_count": 32,
     "metadata": {},
     "output_type": "execute_result"
    },
    {
     "data": {
      "text/plain": "<Figure size 432x288 with 1 Axes>",
      "image/png": "[encoded data removed]"
     },
     "metadata": {
      "needs_background": "light"
     },
     "output_type": "display_data"
    }
   ],
   "source": [
    "pd.DataFrame(y_test).value_counts().plot(kind=\"bar\")"
   ],
   "metadata": {
    "collapsed": false,
    "pycharm": {
     "name": "#%%\n"
    }
   }
  },
  {
   "cell_type": "code",
   "execution_count": 33,
   "outputs": [
    {
     "data": {
      "text/plain": "       y  target0_prob  target1_prob  target2_prob  target3_prob  \\\n0      3      0.549962      0.036337      0.242109      0.060630   \n1      3      0.530988      0.035466      0.173120      0.233394   \n2      1      0.669937      0.098170      0.145773      0.060875   \n3      2      0.762580      0.140750      0.026182      0.042170   \n4      6      0.499372      0.116414      0.205154      0.053131   \n...   ..           ...           ...           ...           ...   \n11327  3      0.613385      0.102945      0.100897      0.035171   \n11328  1      0.552472      0.046800      0.127582      0.243203   \n11329  1      0.696619      0.062303      0.084725      0.070537   \n11330  3      0.670565      0.138813      0.065864      0.101396   \n11331  4      0.607499      0.065374      0.143964      0.127240   \n\n       target4_prob  target5_prob  \n0          0.096256      0.014705  \n1          0.021991      0.005042  \n2          0.022336      0.002910  \n3          0.015804      0.012514  \n4          0.078432      0.047497  \n...             ...           ...  \n11327      0.054884      0.092718  \n11328      0.024865      0.005078  \n11329      0.074974      0.010843  \n11330      0.017515      0.005847  \n11331      0.045153      0.010770  \n\n[11332 rows x 7 columns]",
      "text/html": "<div>\n<style scoped>\n    .dataframe tbody tr th:only-of-type {\n        vertical-align: middle;\n    }\n\n    .dataframe tbody tr th {\n        vertical-align: top;\n    }\n\n    .dataframe thead th {\n        text-align: right;\n    }\n</style>\n<table border=\"1\" class=\"dataframe\">\n  <thead>\n    <tr style=\"text-align: right;\">\n      <th></th>\n      <th>y</th>\n      <th>target0_prob</th>\n      <th>target1_prob</th>\n      <th>target2_prob</th>\n      <th>target3_prob</th>\n      <th>target4_prob</th>\n      <th>target5_prob</th>\n    </tr>\n  </thead>\n  <tbody>\n    <tr>\n      <th>0</th>\n      <td>3</td>\n      <td>0.549962</td>\n      <td>0.036337</td>\n      <td>0.242109</td>\n      <td>0.060630</td>\n      <td>0.096256</td>\n      <td>0.014705</td>\n    </tr>\n    <tr>\n      <th>1</th>\n      <td>3</td>\n      <td>0.530988</td>\n      <td>0.035466</td>\n      <td>0.173120</td>\n      <td>0.233394</td>\n      <td>0.021991</td>\n      <td>0.005042</td>\n    </tr>\n    <tr>\n      <th>2</th>\n      <td>1</td>\n      <td>0.669937</td>\n      <td>0.098170</td>\n      <td>0.145773</td>\n      <td>0.060875</td>\n      <td>0.022336</td>\n      <td>0.002910</td>\n    </tr>\n    <tr>\n      <th>3</th>\n      <td>2</td>\n      <td>0.762580</td>\n      <td>0.140750</td>\n      <td>0.026182</td>\n      <td>0.042170</td>\n      <td>0.015804</td>\n      <td>0.012514</td>\n    </tr>\n    <tr>\n      <th>4</th>\n      <td>6</td>\n      <td>0.499372</td>\n      <td>0.116414</td>\n      <td>0.205154</td>\n      <td>0.053131</td>\n      <td>0.078432</td>\n      <td>0.047497</td>\n    </tr>\n    <tr>\n      <th>...</th>\n      <td>...</td>\n      <td>...</td>\n      <td>...</td>\n      <td>...</td>\n      <td>...</td>\n      <td>...</td>\n      <td>...</td>\n    </tr>\n    <tr>\n      <th>11327</th>\n      <td>3</td>\n      <td>0.613385</td>\n      <td>0.102945</td>\n      <td>0.100897</td>\n      <td>0.035171</td>\n      <td>0.054884</td>\n      <td>0.092718</td>\n    </tr>\n    <tr>\n      <th>11328</th>\n      <td>1</td>\n      <td>0.552472</td>\n      <td>0.046800</td>\n      <td>0.127582</td>\n      <td>0.243203</td>\n      <td>0.024865</td>\n      <td>0.005078</td>\n    </tr>\n    <tr>\n      <th>11329</th>\n      <td>1</td>\n      <td>0.696619</td>\n      <td>0.062303</td>\n      <td>0.084725</td>\n      <td>0.070537</td>\n      <td>0.074974</td>\n      <td>0.010843</td>\n    </tr>\n    <tr>\n      <th>11330</th>\n      <td>3</td>\n      <td>0.670565</td>\n      <td>0.138813</td>\n      <td>0.065864</td>\n      <td>0.101396</td>\n      <td>0.017515</td>\n      <td>0.005847</td>\n    </tr>\n    <tr>\n      <th>11331</th>\n      <td>4</td>\n      <td>0.607499</td>\n      <td>0.065374</td>\n      <td>0.143964</td>\n      <td>0.127240</td>\n      <td>0.045153</td>\n      <td>0.010770</td>\n    </tr>\n  </tbody>\n</table>\n<p>11332 rows × 7 columns</p>\n</div>"
     },
     "execution_count": 33,
     "metadata": {},
     "output_type": "execute_result"
    }
   ],
   "source": [
    "df_pred_prob"
   ],
   "metadata": {
    "collapsed": false,
    "pycharm": {
     "name": "#%%\n"
    }
   }
  },
  {
   "cell_type": "code",
   "execution_count": 34,
   "outputs": [],
   "source": [
    "# モデルの学習\n",
    "model = lgb.LGBMClassifier() # モデルのインスタンスの作成\n",
    "model.fit(x_resampled, y_resampled) # モデルの学習\n",
    "filename = '0331SMOTEmodel.sav'\n",
    "pickle.dump(model, open(filename, 'wb'))\n",
    "\n",
    "# テストデータの予測クラス (予測クラス(0 or 1 or 2)を返す)\n",
    "y_pred = model.predict(X_test)\n",
    "# テストデータのクラス予測確率 (各クラスの予測確率 [クラス0の予測確率,クラス1の予測確率,クラス2の予測確率] を返す)\n",
    "y_pred_prob = model.predict_proba(X_test)"
   ],
   "metadata": {
    "collapsed": false,
    "pycharm": {
     "name": "#%%\n"
    }
   }
  },
  {
   "cell_type": "code",
   "execution_count": 35,
   "outputs": [],
   "source": [
    "# 真値と予測値の表示\n",
    "df_pred = pd.DataFrame({'target':y_test,'target_pred':y_pred})\n",
    "\n",
    "\n",
    "# 真値と予測確率の表示\n",
    "df_pred_prob = pd.DataFrame({'y':y_test, 'target0_prob':y_pred_prob[:,0], 'target1_prob':y_pred_prob[:,1], 'target2_prob':y_pred_prob[:,2], 'target3_prob':y_pred_prob[:,3], 'target4_prob':y_pred_prob[:,4], 'target5_prob':y_pred_prob[:,5]})"
   ],
   "metadata": {
    "collapsed": false,
    "pycharm": {
     "name": "#%%\n"
    }
   }
  },
  {
   "cell_type": "code",
   "execution_count": 36,
   "outputs": [],
   "source": [
    "df_pred.to_csv(\"tmp.csv\" , encoding='utf_8_sig')"
   ],
   "metadata": {
    "collapsed": false,
    "pycharm": {
     "name": "#%%\n"
    }
   }
  },
  {
   "cell_type": "code",
   "execution_count": 37,
   "outputs": [
    {
     "data": {
      "text/plain": "array([1, 2, 3, 4, 5, 6])"
     },
     "execution_count": 37,
     "metadata": {},
     "output_type": "execute_result"
    }
   ],
   "source": [
    "np.unique(y_train)"
   ],
   "metadata": {
    "collapsed": false,
    "pycharm": {
     "name": "#%%\n"
    }
   }
  },
  {
   "cell_type": "code",
   "execution_count": 38,
   "outputs": [
    {
     "data": {
      "text/plain": "array([[5192,  288,  220,  231,  153,  133],\n       [ 855,  567,   78,   67,   49,   40],\n       [ 780,   93,  358,   49,   49,   39],\n       [ 655,   63,   50,  342,   23,   22],\n       [ 348,   31,   21,   21,  182,   11],\n       [ 162,    8,    6,    7,    0,  139]])"
     },
     "execution_count": 38,
     "metadata": {},
     "output_type": "execute_result"
    }
   ],
   "source": [
    "val_mat = confusion_matrix(y_test, y_pred)\n",
    "\n",
    "val_mat"
   ],
   "metadata": {
    "collapsed": false,
    "pycharm": {
     "name": "#%%\n"
    }
   }
  },
  {
   "cell_type": "code",
   "execution_count": 39,
   "outputs": [
    {
     "data": {
      "text/plain": "0.598305683021532"
     },
     "execution_count": 39,
     "metadata": {},
     "output_type": "execute_result"
    }
   ],
   "source": [
    "accuracy_score(y_test, y_pred)"
   ],
   "metadata": {
    "collapsed": false,
    "pycharm": {
     "name": "#%%\n"
    }
   }
  },
  {
   "cell_type": "code",
   "execution_count": 40,
   "outputs": [
    {
     "name": "stdout",
     "output_type": "stream",
     "text": [
      "[0.83512948 0.3423913  0.26169591 0.2961039  0.29641694 0.43167702]\n"
     ]
    }
   ],
   "source": [
    "rec_score = recall_score(y_test, y_pred, average=None)\n",
    "print(rec_score)"
   ],
   "metadata": {
    "collapsed": false,
    "pycharm": {
     "name": "#%%\n"
    }
   }
  },
  {
   "cell_type": "code",
   "execution_count": 41,
   "outputs": [
    {
     "name": "stdout",
     "output_type": "stream",
     "text": [
      "              precision    recall  f1-score   support\n",
      "\n",
      "           1       0.65      0.84      0.73      6217\n",
      "           2       0.54      0.34      0.42      1656\n",
      "           3       0.49      0.26      0.34      1368\n",
      "           4       0.48      0.30      0.37      1155\n",
      "           5       0.40      0.30      0.34       614\n",
      "           6       0.36      0.43      0.39       322\n",
      "\n",
      "    accuracy                           0.60     11332\n",
      "   macro avg       0.49      0.41      0.43     11332\n",
      "weighted avg       0.57      0.60      0.57     11332\n",
      "\n"
     ]
    }
   ],
   "source": [
    "print(classification_report(y_test, y_pred))"
   ],
   "metadata": {
    "collapsed": false,
    "pycharm": {
     "name": "#%%\n"
    }
   }
  },
  {
   "cell_type": "code",
   "execution_count": 42,
   "outputs": [
    {
     "data": {
      "text/plain": "1655620.0"
     },
     "execution_count": 42,
     "metadata": {},
     "output_type": "execute_result"
    }
   ],
   "source": [
    "kane = 0\n",
    "tousi = 0\n",
    "atari = []\n",
    "for target ,pred_i, odds_i in zip(y_test, y_pred, odds):\n",
    "    kane -= 100\n",
    "    if target == pred_i:\n",
    "        kane += odds_i * 100\n",
    "        atari.append(odds_i)\n",
    "    tousi += 100\n",
    "\n",
    "\n",
    "kane"
   ],
   "metadata": {
    "collapsed": false,
    "pycharm": {
     "name": "#%%\n"
    }
   }
  },
  {
   "cell_type": "code",
   "execution_count": 43,
   "outputs": [
    {
     "data": {
      "text/plain": "<AxesSubplot:xlabel='0'>"
     },
     "execution_count": 43,
     "metadata": {},
     "output_type": "execute_result"
    },
    {
     "data": {
      "text/plain": "<Figure size 432x288 with 1 Axes>",
      "image/png": "[encoded data removed]"
     },
     "metadata": {
      "needs_background": "light"
     },
     "output_type": "display_data"
    }
   ],
   "source": [
    "pd.DataFrame(y_pred).value_counts().plot(kind=\"bar\")"
   ],
   "metadata": {
    "collapsed": false,
    "pycharm": {
     "name": "#%%\n"
    }
   }
  },
  {
   "cell_type": "code",
   "execution_count": 44,
   "outputs": [
    {
     "data": {
      "text/plain": "<AxesSubplot:xlabel='0'>"
     },
     "execution_count": 44,
     "metadata": {},
     "output_type": "execute_result"
    },
    {
     "data": {
      "text/plain": "<Figure size 432x288 with 1 Axes>",
      "image/png": "[encoded data removed]"
     },
     "metadata": {
      "needs_background": "light"
     },
     "output_type": "display_data"
    }
   ],
   "source": [
    "pd.DataFrame(y_test).value_counts().plot(kind=\"bar\")"
   ],
   "metadata": {
    "collapsed": false,
    "pycharm": {
     "name": "#%%\n"
    }
   }
  },
  {
   "cell_type": "code",
   "execution_count": 44,
   "outputs": [],
   "source": [],
   "metadata": {
    "collapsed": false,
    "pycharm": {
     "name": "#%%\n"
    }
   }
  },
  {
   "cell_type": "code",
   "execution_count": 45,
   "outputs": [
    {
     "data": {
      "text/plain": "(array([5893,  570,  169,   60,   22,   25,   17,    8,    2,    3,    2,\n           1,    2,    0,    0,    1,    1,    1,    2,    1]),\n array([  1.   ,   7.435,  13.87 ,  20.305,  26.74 ,  33.175,  39.61 ,\n         46.045,  52.48 ,  58.915,  65.35 ,  71.785,  78.22 ,  84.655,\n         91.09 ,  97.525, 103.96 , 110.395, 116.83 , 123.265, 129.7  ]))"
     },
     "execution_count": 45,
     "metadata": {},
     "output_type": "execute_result"
    }
   ],
   "source": [
    "np.histogram(atari,bins=20)"
   ],
   "metadata": {
    "collapsed": false,
    "pycharm": {
     "name": "#%%\n"
    }
   }
  },
  {
   "cell_type": "code",
   "execution_count": 45,
   "outputs": [],
   "source": [],
   "metadata": {
    "collapsed": false,
    "pycharm": {
     "name": "#%%\n"
    }
   }
  }
 ],
 "metadata": {
  "kernelspec": {
   "display_name": "Python 3",
   "language": "python",
   "name": "python3"
  },
  "language_info": {
   "codemirror_mode": {
    "name": "ipython",
    "version": 2
   },
   "file_extension": ".py",
   "mimetype": "text/x-python",
   "name": "python",
   "nbconvert_exporter": "python",
   "pygments_lexer": "ipython2",
   "version": "2.7.6"
  }
 },
 "nbformat": 4,
 "nbformat_minor": 0
}