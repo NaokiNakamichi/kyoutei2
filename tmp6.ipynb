{
 "cells": [
  {
   "cell_type": "code",
   "execution_count": 1,
   "outputs": [],
   "source": [
    "\n",
    "import lightgbm as lgb\n",
    "import pandas as pd # 基本ライブラリ\n",
    "import numpy as np # 基本ライブラリ\n",
    "import matplotlib.pyplot as plt # グラフ描画用\n",
    "\n",
    "import data_get\n",
    "import race_before_data\n",
    "import pickle\n",
    "import time\n",
    "import before_odds\n",
    "\n",
    "from sklearn.metrics import recall_score"
   ],
   "metadata": {
    "collapsed": false,
    "pycharm": {
     "name": "#%%\n"
    }
   }
  },
  {
   "cell_type": "code",
   "execution_count": 22,
   "outputs": [
    {
     "name": "stdout",
     "output_type": "stream",
     "text": [
      "オッズ込み予想1, 結果：1 ,オッズ1.0\n",
      "0.7871212634198343\n",
      "0\n",
      "オッズ込み予想1, 結果：3 ,オッズ1.3\n",
      "1.045685685017452\n",
      "0\n",
      "オッズ込み予想2, 結果：1 ,オッズ40.1\n",
      "2.1675392111945966\n",
      "-100\n",
      "オッズ込み予想2, 結果：1 ,オッズ6.0\n",
      "1.600416237156701\n",
      "-100\n",
      "オッズ込み予想2, 結果：1 ,オッズ8.0\n",
      "0.83314130190787\n",
      "-100\n",
      "オッズ込み予想1, 結果：1 ,オッズ2.2\n",
      "1.0935945539466654\n",
      "-100\n",
      "オッズ込み予想3, 結果：3 ,オッズ9.6\n",
      "1.0180713481257626\n",
      "-100\n",
      "オッズ込み予想1, 結果：1 ,オッズ1.2\n",
      "0.8200312364387434\n",
      "-100\n",
      "オッズ込み予想4, 結果：1 ,オッズ25.7\n",
      "1.7068796678403633\n",
      "-100\n",
      "index 0 is out of bounds for axis 0 with size 0\n",
      "オッズ込み予想1, 結果：1 ,オッズ2.6\n",
      "1.339992993008406\n",
      "-100\n",
      "index 0 is out of bounds for axis 0 with size 0\n",
      "オッズ込み予想1, 結果：1 ,オッズ3.5\n",
      "1.2588921933652428\n",
      "-100\n",
      "index 0 is out of bounds for axis 0 with size 0\n",
      "index 0 is out of bounds for axis 0 with size 0\n",
      "オッズ込み予想2, 結果：2 ,オッズ4.1\n",
      "1.0132121237918823\n",
      "-100\n",
      "index 0 is out of bounds for axis 0 with size 0\n",
      "index 0 is out of bounds for axis 0 with size 0\n",
      "オッズ込み予想5, 結果：1 ,オッズ57.3\n",
      "3.4368077893610764\n",
      "-200\n",
      "index 0 is out of bounds for axis 0 with size 0\n",
      "index 0 is out of bounds for axis 0 with size 0\n",
      "オッズ込み予想2, 結果：5 ,オッズ10.8\n",
      "1.3849846372229135\n",
      "-200\n",
      "index 0 is out of bounds for axis 0 with size 0\n",
      "index 0 is out of bounds for axis 0 with size 0\n",
      "オッズ込み予想6, 結果：1 ,オッズ12.3\n",
      "1.2561497886829658\n",
      "-200\n",
      "index 0 is out of bounds for axis 0 with size 0\n",
      "index 0 is out of bounds for axis 0 with size 0\n",
      "オッズ込み予想2, 結果：1 ,オッズ28.9\n",
      "1.7152010564934126\n",
      "-200\n",
      "index 0 is out of bounds for axis 0 with size 0\n",
      "index 0 is out of bounds for axis 0 with size 0\n",
      "index 0 is out of bounds for axis 0 with size 0\n",
      "オッズ込み予想4, 結果：1 ,オッズ9.5\n",
      "2.2734096696140105\n",
      "-300\n",
      "index 0 is out of bounds for axis 0 with size 0\n",
      "オッズ込み予想1, 結果：3 ,オッズ1.6\n",
      "0.8395088524896533\n",
      "-300\n",
      "index 0 is out of bounds for axis 0 with size 0\n",
      "index 0 is out of bounds for axis 0 with size 0\n",
      "index 0 is out of bounds for axis 0 with size 0\n",
      "index 0 is out of bounds for axis 0 with size 0\n",
      "オッズ込み予想3, 結果：5 ,オッズ35.5\n",
      "2.2205234674167635\n",
      "-400\n",
      "index 0 is out of bounds for axis 0 with size 0\n",
      "オッズ込み予想4, 結果：2 ,オッズ5.4\n",
      "1.0443003325349043\n",
      "-400\n",
      "index 0 is out of bounds for axis 0 with size 0\n",
      "index 0 is out of bounds for axis 0 with size 0\n",
      "index 0 is out of bounds for axis 0 with size 0\n",
      "index 0 is out of bounds for axis 0 with size 0\n",
      "オッズ込み予想4, 結果：1 ,オッズ16.5\n",
      "1.9446819004518268\n",
      "-400\n",
      "オッズ込み予想1, 結果：1 ,オッズ2.3\n",
      "1.4931371919381042\n",
      "-400\n",
      "index 0 is out of bounds for axis 0 with size 0\n",
      "index 0 is out of bounds for axis 0 with size 0\n",
      "index 0 is out of bounds for axis 0 with size 0\n",
      "index 0 is out of bounds for axis 0 with size 0\n",
      "index 0 is out of bounds for axis 0 with size 0\n",
      "オッズ込み予想2, 結果：1 ,オッズ13.5\n",
      "1.1921800807552239\n",
      "-400\n",
      "オッズ込み予想3, 結果：5 ,オッズ60.3\n",
      "2.57405953999883\n",
      "-500\n",
      "index 0 is out of bounds for axis 0 with size 0\n",
      "index 0 is out of bounds for axis 0 with size 0\n",
      "index 0 is out of bounds for axis 0 with size 0\n",
      "index 0 is out of bounds for axis 0 with size 0\n",
      "index 0 is out of bounds for axis 0 with size 0\n",
      "index 0 is out of bounds for axis 0 with size 0\n",
      "index 0 is out of bounds for axis 0 with size 0\n",
      "index 0 is out of bounds for axis 0 with size 0\n",
      "index 0 is out of bounds for axis 0 with size 0\n",
      "index 0 is out of bounds for axis 0 with size 0\n",
      "index 0 is out of bounds for axis 0 with size 0\n",
      "index 0 is out of bounds for axis 0 with size 0\n",
      "index 0 is out of bounds for axis 0 with size 0\n",
      "index 0 is out of bounds for axis 0 with size 0\n",
      "index 0 is out of bounds for axis 0 with size 0\n",
      "index 0 is out of bounds for axis 0 with size 0\n",
      "index 0 is out of bounds for axis 0 with size 0\n",
      "index 0 is out of bounds for axis 0 with size 0\n",
      "index 0 is out of bounds for axis 0 with size 0\n",
      "index 0 is out of bounds for axis 0 with size 0\n",
      "index 0 is out of bounds for axis 0 with size 0\n",
      "index 0 is out of bounds for axis 0 with size 0\n",
      "index 0 is out of bounds for axis 0 with size 0\n",
      "index 0 is out of bounds for axis 0 with size 0\n",
      "index 0 is out of bounds for axis 0 with size 0\n",
      "index 0 is out of bounds for axis 0 with size 0\n",
      "index 0 is out of bounds for axis 0 with size 0\n",
      "index 0 is out of bounds for axis 0 with size 0\n",
      "0\n",
      "0\n",
      "0\n",
      "0\n",
      "0\n",
      "0\n",
      "0\n",
      "0\n",
      "0\n",
      "0\n",
      "0\n",
      "0\n",
      "0\n",
      "0\n",
      "0\n",
      "使った金額500\n",
      "当選金額0\n"
     ]
    }
   ],
   "source": [
    "date = '2022-04-10'\n",
    "data_get.download_file('racelists', date)\n",
    "df_race = data_get.get_racelists(date)\n",
    "\n",
    "df_race.to_csv(f\"dataset/rawdata_syussouhyou/{date}_race_list.csv\", encoding='utf_8_sig')\n",
    "df_race = df_race.sort_values(by=\"deadline\")\n",
    "\n",
    "data_get.download_file('results', date)\n",
    "df_result = data_get.get_results(date)\n",
    "kane = 0\n",
    "tousi = 0\n",
    "\n",
    "odds_in_kane = 0\n",
    "\n",
    "filename = '0402model.sav'\n",
    "model = pickle.load(open(filename, 'rb'))\n",
    "\n",
    "def hensachi(x):\n",
    "    x = x.astype(float)\n",
    "    if x.std() == 0:\n",
    "        return pd.Series(np.full(6,50.0))\n",
    "\n",
    "    hensa = (x - x.mean())*10/x.std()+50\n",
    "\n",
    "    return hensa\n",
    "\n",
    "for  index, row in df_race.iterrows():\n",
    "\n",
    "\n",
    "    try:\n",
    "        time.sleep(1)\n",
    "        place_cd , race_no, date = row[\"place_cd\"] ,row[\"race_no\"], row[\"date\"]\n",
    "        bi = race_before_data.get_beforeinfo(date, place_cd, race_no)\n",
    "        tmp = pd.merge(pd.DataFrame(row).T, pd.DataFrame(bi).T, on=[\"race_no\", \"place_cd\"])\n",
    "        usecols = [f'{k}_{i}' for k in ('class', 'glob_win', 'glob_in2',\n",
    "                                    'loc_win', 'loc_in2', 'moter_in2', 'boat_in2', 'EST','ESC' )\n",
    "                for i in range(1, 7)]\n",
    "        usecols += [f'ET_{i}'\n",
    "                    for i in range(1, 7)]\n",
    "\n",
    "        tmp = tmp[usecols]\n",
    "\n",
    "        def rank_mapper(x):\n",
    "            if 'A1' in x:\n",
    "                y = 4\n",
    "            elif 'A2' in x:\n",
    "                y = 3\n",
    "            elif 'B1' in x:\n",
    "                y = 2\n",
    "            else:\n",
    "                y = 1\n",
    "            return y\n",
    "\n",
    "        for i in range(1,7):\n",
    "            col_name_class = f\"class_{i}\"\n",
    "            tmp[col_name_class] = tmp[col_name_class].map(rank_mapper)\n",
    "        class_col = [s for s in tmp.columns if \"class\" in s]\n",
    "\n",
    "\n",
    "        tmp.loc[:, class_col] = tmp.loc[:,class_col].apply(hensachi,axis=1)\n",
    "\n",
    "        hensa_col = ['glob_win', 'glob_in2','loc_win', 'loc_in2', 'moter_in2', 'boat_in2', 'EST', \"ET\",\"ESC\"]\n",
    "\n",
    "        for i in hensa_col:\n",
    "            class_col = [s for s in tmp.columns if i in s]\n",
    "            tmp[class_col] = tmp.loc[:, class_col].apply(hensachi,axis=1)\n",
    "\n",
    "\n",
    "        X = tmp.values\n",
    "        y_pred = model.predict(X)\n",
    "        # テストデータのクラス予測確率 (各クラスの予測確率 [クラス0の予測確率,クラス1の予測確率,クラス2の予測確率...] を返す)\n",
    "        y_pred_prob = model.predict_proba(X)\n",
    "\n",
    "        result_row = df_result[(df_result['place_cd'] == place_cd) & (df_result['race_no'] == race_no)]\n",
    "        odds = result_row[\"odds_1t\"].values[0]\n",
    "        resu = result_row[\"tkt_1t\"].values[0]\n",
    "        hoge = before_odds.get_odds(BET_TYPE=\"tf\",race_no=race_no,place_cd=place_cd, date=date)\n",
    "\n",
    "        before_odds_list = []\n",
    "\n",
    "        for i in hoge.select(\"td.oddsPoint\"):\n",
    "            before_odds_list.append(i.text)\n",
    "\n",
    "        hoge = [float(s) for s in before_odds_list]\n",
    "\n",
    "\n",
    "\n",
    "        # print(f\"予測確率：{y_pred_prob}\")\n",
    "        # print(f\"直前オッズ:{hoge}\")\n",
    "        # print(f\"オッズ＊予測{hoge*y_pred_prob}\")\n",
    "        oddsinpred = np.argmax(hoge * y_pred_prob)\n",
    "        print(f\"オッズ込み予想{oddsinpred +1}, 結果：{resu} ,オッズ{hoge[oddsinpred]}\")\n",
    "        # print(f\"予想：{y_pred},結果：{resu},オッズ：{odds}\")\n",
    "\n",
    "        # # 勝率のみ回収率\n",
    "        # kane -= 100\n",
    "        # if y_pred[0] == int(resu):\n",
    "        #     kane += odds * 100\n",
    "        # print(kane)\n",
    "\n",
    "        # オッズ込み回収率\n",
    "        print(np.max(hoge * y_pred_prob))\n",
    "        if resu == \"特払い\":\n",
    "            print(\"特払い\")\n",
    "\n",
    "        elif np.max(hoge * y_pred_prob) > 2:\n",
    "            odds_in_kane -= 100\n",
    "            tousi += 100\n",
    "            if (int(oddsinpred)+1) == int(resu):\n",
    "                print(odds)\n",
    "                print(f\"当選金：{odds * 100}\")\n",
    "                odds_in_kane += odds * 100\n",
    "                kane += odds * 100\n",
    "        print(odds_in_kane)\n",
    "\n",
    "    except Exception as e:\n",
    "        print(e, flush=True)\n",
    "\n",
    "\n",
    "print(f\"使った金額{tousi}\")\n",
    "print(f\"当選金額{kane}\")\n",
    "\n"
   ],
   "metadata": {
    "collapsed": false,
    "pycharm": {
     "name": "#%%\n"
    }
   }
  },
  {
   "cell_type": "code",
   "execution_count": 29,
   "outputs": [
    {
     "data": {
      "text/plain": "13.2"
     },
     "execution_count": 29,
     "metadata": {},
     "output_type": "execute_result"
    }
   ],
   "source": [
    "result_row[\"odds_1t\"].values[0]"
   ],
   "metadata": {
    "collapsed": false,
    "pycharm": {
     "name": "#%%\n"
    }
   }
  },
  {
   "cell_type": "code",
   "execution_count": 38,
   "outputs": [
    {
     "data": {
      "text/plain": "0      08:59\n1      09:28\n2      09:57\n3      10:26\n43     10:30\n       ...  \n113    20:05\n41     20:14\n114    20:37\n23     20:39\n42     20:43\nName: deadline, Length: 115, dtype: object"
     },
     "execution_count": 38,
     "metadata": {},
     "output_type": "execute_result"
    }
   ],
   "source": [
    "\n",
    "df_race[\"deadline\"]"
   ],
   "metadata": {
    "collapsed": false,
    "pycharm": {
     "name": "#%%\n"
    }
   }
  },
  {
   "cell_type": "code",
   "execution_count": 39,
   "outputs": [
    {
     "data": {
      "text/plain": "                        title  day        date  place_cd place  race_no  \\\n0                  日本MB選手会会長杯    3  2022-04-03        21    芦屋        1   \n1                  日本MB選手会会長杯    3  2022-04-03        21    芦屋        2   \n2                  日本MB選手会会長杯    3  2022-04-03        21    芦屋        3   \n3                  日本MB選手会会長杯    3  2022-04-03        21    芦屋        4   \n43        BTS養老開設5周年記念よーたんカップ    6  2022-04-03         9     津        1   \n..                        ...  ...         ...       ...   ...      ...   \n113  ルーキーシリーズ第7戦第15回ドラキリュウカップ    2  2022-04-03         1    桐生       11   \n41        Bカードメンバー大感謝祭日本トーター杯    7  2022-04-03        15    丸亀       11   \n114  ルーキーシリーズ第7戦第15回ドラキリュウカップ    2  2022-04-03         1    桐生       12   \n23                  シャボン玉石けん杯    3  2022-04-03        20    若松       12   \n42        Bカードメンバー大感謝祭日本トーター杯    7  2022-04-03        15    丸亀       12   \n\n    race_type  distance deadline toban_1  ... boat_no_3 boat_no_4 boat_no_5  \\\n0          予選      1800    08:59    3606  ...        33        57        40   \n1          予選      1800    09:28    3582  ...        56        14        23   \n2          予選      1800    09:57    4384  ...        19        67        58   \n3          予選      1800    10:26    4189  ...        26        31        11   \n43     ツッキーレー      1800    10:30    4191  ...        13        61        15   \n..        ...       ...      ...     ...  ...       ...       ...       ...   \n113      予選特選      1800    20:05    5043  ...        49        15        56   \n41      特別選抜戦      1800    20:14    3556  ...         8        36        40   \n114      桐生特選      1800    20:37    4769  ...        21        20        12   \n23       予選特選      1800    20:39    3388  ...        47        70        36   \n42        優勝戦      1800    20:43    4002  ...         9        61         6   \n\n    boat_no_6 boat_in2_1 boat_in2_2 boat_in2_3 boat_in2_4 boat_in2_5  \\\n0          45      34.62      58.10      31.51      37.44      33.78   \n1          20      34.56      32.87      30.59      31.78      33.33   \n2          73      36.00      39.57      33.04      31.66      30.73   \n3          21      31.42      34.91      34.08      31.94      35.42   \n43         38      33.09      26.89      35.77      39.16      37.23   \n..        ...        ...        ...        ...        ...        ...   \n113        27      22.08      55.13      44.44      26.32      27.54   \n41         64      33.78      32.64      37.75      43.97      24.83   \n114        47      44.44      45.00      39.19      30.26      27.50   \n23         29      26.82      36.31      32.45      32.00      28.32   \n42         28      30.46      31.51      35.17      24.14      26.47   \n\n    boat_in2_6  \n0        35.74  \n1        32.86  \n2        30.84  \n3        37.44  \n43       27.35  \n..         ...  \n113      36.84  \n41       35.81  \n114      35.44  \n23       34.12  \n42       32.21  \n\n[115 rows x 93 columns]",
      "text/html": "<div>\n<style scoped>\n    .dataframe tbody tr th:only-of-type {\n        vertical-align: middle;\n    }\n\n    .dataframe tbody tr th {\n        vertical-align: top;\n    }\n\n    .dataframe thead th {\n        text-align: right;\n    }\n</style>\n<table border=\"1\" class=\"dataframe\">\n  <thead>\n    <tr style=\"text-align: right;\">\n      <th></th>\n      <th>title</th>\n      <th>day</th>\n      <th>date</th>\n      <th>place_cd</th>\n      <th>place</th>\n      <th>race_no</th>\n      <th>race_type</th>\n      <th>distance</th>\n      <th>deadline</th>\n      <th>toban_1</th>\n      <th>...</th>\n      <th>boat_no_3</th>\n      <th>boat_no_4</th>\n      <th>boat_no_5</th>\n      <th>boat_no_6</th>\n      <th>boat_in2_1</th>\n      <th>boat_in2_2</th>\n      <th>boat_in2_3</th>\n      <th>boat_in2_4</th>\n      <th>boat_in2_5</th>\n      <th>boat_in2_6</th>\n    </tr>\n  </thead>\n  <tbody>\n    <tr>\n      <th>0</th>\n      <td>日本MB選手会会長杯</td>\n      <td>3</td>\n      <td>2022-04-03</td>\n      <td>21</td>\n      <td>芦屋</td>\n      <td>1</td>\n      <td>予選</td>\n      <td>1800</td>\n      <td>08:59</td>\n      <td>3606</td>\n      <td>...</td>\n      <td>33</td>\n      <td>57</td>\n      <td>40</td>\n      <td>45</td>\n      <td>34.62</td>\n      <td>58.10</td>\n      <td>31.51</td>\n      <td>37.44</td>\n      <td>33.78</td>\n      <td>35.74</td>\n    </tr>\n    <tr>\n      <th>1</th>\n      <td>日本MB選手会会長杯</td>\n      <td>3</td>\n      <td>2022-04-03</td>\n      <td>21</td>\n      <td>芦屋</td>\n      <td>2</td>\n      <td>予選</td>\n      <td>1800</td>\n      <td>09:28</td>\n      <td>3582</td>\n      <td>...</td>\n      <td>56</td>\n      <td>14</td>\n      <td>23</td>\n      <td>20</td>\n      <td>34.56</td>\n      <td>32.87</td>\n      <td>30.59</td>\n      <td>31.78</td>\n      <td>33.33</td>\n      <td>32.86</td>\n    </tr>\n    <tr>\n      <th>2</th>\n      <td>日本MB選手会会長杯</td>\n      <td>3</td>\n      <td>2022-04-03</td>\n      <td>21</td>\n      <td>芦屋</td>\n      <td>3</td>\n      <td>予選</td>\n      <td>1800</td>\n      <td>09:57</td>\n      <td>4384</td>\n      <td>...</td>\n      <td>19</td>\n      <td>67</td>\n      <td>58</td>\n      <td>73</td>\n      <td>36.00</td>\n      <td>39.57</td>\n      <td>33.04</td>\n      <td>31.66</td>\n      <td>30.73</td>\n      <td>30.84</td>\n    </tr>\n    <tr>\n      <th>3</th>\n      <td>日本MB選手会会長杯</td>\n      <td>3</td>\n      <td>2022-04-03</td>\n      <td>21</td>\n      <td>芦屋</td>\n      <td>4</td>\n      <td>予選</td>\n      <td>1800</td>\n      <td>10:26</td>\n      <td>4189</td>\n      <td>...</td>\n      <td>26</td>\n      <td>31</td>\n      <td>11</td>\n      <td>21</td>\n      <td>31.42</td>\n      <td>34.91</td>\n      <td>34.08</td>\n      <td>31.94</td>\n      <td>35.42</td>\n      <td>37.44</td>\n    </tr>\n    <tr>\n      <th>43</th>\n      <td>BTS養老開設5周年記念よーたんカップ</td>\n      <td>6</td>\n      <td>2022-04-03</td>\n      <td>9</td>\n      <td>津</td>\n      <td>1</td>\n      <td>ツッキーレー</td>\n      <td>1800</td>\n      <td>10:30</td>\n      <td>4191</td>\n      <td>...</td>\n      <td>13</td>\n      <td>61</td>\n      <td>15</td>\n      <td>38</td>\n      <td>33.09</td>\n      <td>26.89</td>\n      <td>35.77</td>\n      <td>39.16</td>\n      <td>37.23</td>\n      <td>27.35</td>\n    </tr>\n    <tr>\n      <th>...</th>\n      <td>...</td>\n      <td>...</td>\n      <td>...</td>\n      <td>...</td>\n      <td>...</td>\n      <td>...</td>\n      <td>...</td>\n      <td>...</td>\n      <td>...</td>\n      <td>...</td>\n      <td>...</td>\n      <td>...</td>\n      <td>...</td>\n      <td>...</td>\n      <td>...</td>\n      <td>...</td>\n      <td>...</td>\n      <td>...</td>\n      <td>...</td>\n      <td>...</td>\n      <td>...</td>\n    </tr>\n    <tr>\n      <th>113</th>\n      <td>ルーキーシリーズ第7戦第15回ドラキリュウカップ</td>\n      <td>2</td>\n      <td>2022-04-03</td>\n      <td>1</td>\n      <td>桐生</td>\n      <td>11</td>\n      <td>予選特選</td>\n      <td>1800</td>\n      <td>20:05</td>\n      <td>5043</td>\n      <td>...</td>\n      <td>49</td>\n      <td>15</td>\n      <td>56</td>\n      <td>27</td>\n      <td>22.08</td>\n      <td>55.13</td>\n      <td>44.44</td>\n      <td>26.32</td>\n      <td>27.54</td>\n      <td>36.84</td>\n    </tr>\n    <tr>\n      <th>41</th>\n      <td>Bカードメンバー大感謝祭日本トーター杯</td>\n      <td>7</td>\n      <td>2022-04-03</td>\n      <td>15</td>\n      <td>丸亀</td>\n      <td>11</td>\n      <td>特別選抜戦</td>\n      <td>1800</td>\n      <td>20:14</td>\n      <td>3556</td>\n      <td>...</td>\n      <td>8</td>\n      <td>36</td>\n      <td>40</td>\n      <td>64</td>\n      <td>33.78</td>\n      <td>32.64</td>\n      <td>37.75</td>\n      <td>43.97</td>\n      <td>24.83</td>\n      <td>35.81</td>\n    </tr>\n    <tr>\n      <th>114</th>\n      <td>ルーキーシリーズ第7戦第15回ドラキリュウカップ</td>\n      <td>2</td>\n      <td>2022-04-03</td>\n      <td>1</td>\n      <td>桐生</td>\n      <td>12</td>\n      <td>桐生特選</td>\n      <td>1800</td>\n      <td>20:37</td>\n      <td>4769</td>\n      <td>...</td>\n      <td>21</td>\n      <td>20</td>\n      <td>12</td>\n      <td>47</td>\n      <td>44.44</td>\n      <td>45.00</td>\n      <td>39.19</td>\n      <td>30.26</td>\n      <td>27.50</td>\n      <td>35.44</td>\n    </tr>\n    <tr>\n      <th>23</th>\n      <td>シャボン玉石けん杯</td>\n      <td>3</td>\n      <td>2022-04-03</td>\n      <td>20</td>\n      <td>若松</td>\n      <td>12</td>\n      <td>予選特選</td>\n      <td>1800</td>\n      <td>20:39</td>\n      <td>3388</td>\n      <td>...</td>\n      <td>47</td>\n      <td>70</td>\n      <td>36</td>\n      <td>29</td>\n      <td>26.82</td>\n      <td>36.31</td>\n      <td>32.45</td>\n      <td>32.00</td>\n      <td>28.32</td>\n      <td>34.12</td>\n    </tr>\n    <tr>\n      <th>42</th>\n      <td>Bカードメンバー大感謝祭日本トーター杯</td>\n      <td>7</td>\n      <td>2022-04-03</td>\n      <td>15</td>\n      <td>丸亀</td>\n      <td>12</td>\n      <td>優勝戦</td>\n      <td>1800</td>\n      <td>20:43</td>\n      <td>4002</td>\n      <td>...</td>\n      <td>9</td>\n      <td>61</td>\n      <td>6</td>\n      <td>28</td>\n      <td>30.46</td>\n      <td>31.51</td>\n      <td>35.17</td>\n      <td>24.14</td>\n      <td>26.47</td>\n      <td>32.21</td>\n    </tr>\n  </tbody>\n</table>\n<p>115 rows × 93 columns</p>\n</div>"
     },
     "execution_count": 39,
     "metadata": {},
     "output_type": "execute_result"
    }
   ],
   "source": [
    "df_race"
   ],
   "metadata": {
    "collapsed": false,
    "pycharm": {
     "name": "#%%\n"
    }
   }
  },
  {
   "cell_type": "code",
   "execution_count": 41,
   "outputs": [
    {
     "data": {
      "text/plain": "[1.9, 12.5, 4.0, 3.2, 7.3, 16.1]"
     },
     "execution_count": 41,
     "metadata": {},
     "output_type": "execute_result"
    }
   ],
   "source": [
    "\n",
    "hoge"
   ],
   "metadata": {
    "collapsed": false,
    "pycharm": {
     "name": "#%%\n"
    }
   }
  },
  {
   "cell_type": "code",
   "execution_count": 3,
   "outputs": [],
   "source": [
    "df_result = data_get.get_results(date)\n"
   ],
   "metadata": {
    "collapsed": false,
    "pycharm": {
     "name": "#%%\n"
    }
   }
  },
  {
   "cell_type": "code",
   "execution_count": 4,
   "outputs": [],
   "source": [],
   "metadata": {
    "collapsed": false,
    "pycharm": {
     "name": "#%%\n"
    }
   }
  },
  {
   "cell_type": "code",
   "execution_count": 9,
   "outputs": [],
   "source": [
    "\n",
    "df_result"
   ],
   "metadata": {
    "collapsed": false,
    "pycharm": {
     "name": "#%%\n"
    }
   }
  },
  {
   "cell_type": "code",
   "execution_count": null,
   "outputs": [],
   "source": [],
   "metadata": {
    "collapsed": false,
    "pycharm": {
     "name": "#%%\n"
    }
   }
  }
 ],
 "metadata": {
  "kernelspec": {
   "display_name": "Python 3",
   "language": "python",
   "name": "python3"
  },
  "language_info": {
   "codemirror_mode": {
    "name": "ipython",
    "version": 2
   },
   "file_extension": ".py",
   "mimetype": "text/x-python",
   "name": "python",
   "nbconvert_exporter": "python",
   "pygments_lexer": "ipython2",
   "version": "2.7.6"
  }
 },
 "nbformat": 4,
 "nbformat_minor": 0
}