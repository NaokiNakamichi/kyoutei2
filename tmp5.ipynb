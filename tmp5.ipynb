{
 "cells": [
  {
   "cell_type": "code",
   "execution_count": 1,
   "metadata": {
    "collapsed": true
   },
   "outputs": [],
   "source": [
    "import lightgbm as lgb\n",
    "import pandas as pd # 基本ライブラリ\n",
    "import numpy as np # 基本ライブラリ\n",
    "import matplotlib.pyplot as plt # グラフ描画用\n",
    "from sklearn.model_selection import train_test_split # データセット分割用\n",
    "from sklearn.metrics import accuracy_score # モデル評価用(正答率)\n",
    "from sklearn.metrics import log_loss # モデル評価用(logloss)\n",
    "from sklearn.metrics import roc_auc_score # モデル評価用(auc)\n",
    "from sklearn.metrics import confusion_matrix\n",
    "from sklearn.metrics import accuracy_score\n",
    "from sklearn.metrics import classification_report\n",
    "from sklearn.metrics import recall_score\n",
    "from imblearn.over_sampling import SMOTE\n",
    "\n",
    "import glob\n",
    "\n",
    "# データフレームを綺麗に出力する関数\n",
    "import IPython\n",
    "def display(*dfs, head=True):\n",
    "    for df in dfs:\n",
    "        IPython.display.display(df.head() if head else df)"
   ]
  },
  {
   "cell_type": "code",
   "execution_count": 2,
   "outputs": [
    {
     "name": "stdout",
     "output_type": "stream",
     "text": [
      "dataset/place/三国.csv dataset/v1_features/place/三国_v1.csv\n",
      "[[200   8   5   0   0   0]\n",
      " [ 36   9   3   0   0   0]\n",
      " [ 33   3   5   2   0   2]\n",
      " [ 26   3   5   3   0   0]\n",
      " [ 12   1   0   0   2   0]\n",
      " [  7   0   0   0   0   0]]\n",
      "[0.93896714 0.1875     0.11111111 0.08108108 0.13333333 0.        ]\n",
      "              precision    recall  f1-score   support\n",
      "\n",
      "           1       0.64      0.94      0.76       213\n",
      "           2       0.38      0.19      0.25        48\n",
      "           3       0.28      0.11      0.16        45\n",
      "           4       0.60      0.08      0.14        37\n",
      "           5       1.00      0.13      0.24        15\n",
      "           6       0.00      0.00      0.00         7\n",
      "\n",
      "    accuracy                           0.60       365\n",
      "   macro avg       0.48      0.24      0.26       365\n",
      "weighted avg       0.56      0.60      0.52       365\n",
      "\n",
      "dataset/place/下関.csv dataset/v1_features/place/下関_v1.csv\n",
      "[[211   1   9   3   2   0]\n",
      " [ 39   2   4   0   0   0]\n",
      " [ 20   1   5   0   0   0]\n",
      " [ 32   2   0   1   0   0]\n",
      " [ 21   0   0   1   1   0]\n",
      " [ 12   0   1   0   0   1]]\n",
      "[0.93362832 0.04444444 0.19230769 0.02857143 0.04347826 0.07142857]\n",
      "              precision    recall  f1-score   support\n",
      "\n",
      "           1       0.63      0.93      0.75       226\n",
      "           2       0.33      0.04      0.08        45\n",
      "           3       0.26      0.19      0.22        26\n",
      "           4       0.20      0.03      0.05        35\n",
      "           5       0.33      0.04      0.08        23\n",
      "           6       1.00      0.07      0.13        14\n",
      "\n",
      "    accuracy                           0.60       369\n",
      "   macro avg       0.46      0.22      0.22       369\n",
      "weighted avg       0.52      0.60      0.50       369\n",
      "\n",
      "dataset/place/丸亀.csv dataset/v1_features/place/丸亀_v1.csv\n",
      "[[191  14   7   5   0   1]\n",
      " [ 57   9   4   2   1   0]\n",
      " [ 42   1   3   1   1   0]\n",
      " [ 41   2   0   1   0   0]\n",
      " [ 26   0   1   0   0   0]\n",
      " [  6   0   0   0   0   0]]\n",
      "[0.87614679 0.12328767 0.0625     0.02272727 0.         0.        ]\n",
      "              precision    recall  f1-score   support\n",
      "\n",
      "           1       0.53      0.88      0.66       218\n",
      "           2       0.35      0.12      0.18        73\n",
      "           3       0.20      0.06      0.10        48\n",
      "           4       0.11      0.02      0.04        44\n",
      "           5       0.00      0.00      0.00        27\n",
      "           6       0.00      0.00      0.00         6\n",
      "\n",
      "    accuracy                           0.49       416\n",
      "   macro avg       0.20      0.18      0.16       416\n",
      "weighted avg       0.37      0.49      0.39       416\n",
      "\n",
      "dataset/place/住之江.csv dataset/v1_features/place/住之江_v1.csv\n",
      "[[193  12   5   5   0   0]\n",
      " [ 38   5   4   0   0   0]\n",
      " [ 38   3   6   1   0   0]\n",
      " [ 23   1   1   0   0   0]\n",
      " [ 17   1   1   1   0   0]\n",
      " [  4   0   0   0   0   1]]\n",
      "[0.89767442 0.10638298 0.125      0.         0.         0.2       ]\n",
      "              precision    recall  f1-score   support\n",
      "\n",
      "           1       0.62      0.90      0.73       215\n",
      "           2       0.23      0.11      0.14        47\n",
      "           3       0.35      0.12      0.18        48\n",
      "           4       0.00      0.00      0.00        25\n",
      "           5       0.00      0.00      0.00        20\n",
      "           6       1.00      0.20      0.33         5\n",
      "\n",
      "    accuracy                           0.57       360\n",
      "   macro avg       0.37      0.22      0.23       360\n",
      "weighted avg       0.46      0.57      0.48       360\n",
      "\n",
      "dataset/place/児島.csv dataset/v1_features/place/児島_v1.csv\n"
     ]
    },
    {
     "name": "stderr",
     "output_type": "stream",
     "text": [
      "/Users/naoki/.pyenv/versions/kyoutei2/lib/python3.8/site-packages/sklearn/metrics/_classification.py:1318: UndefinedMetricWarning: Precision and F-score are ill-defined and being set to 0.0 in labels with no predicted samples. Use `zero_division` parameter to control this behavior.\n",
      "  _warn_prf(average, modifier, msg_start, len(result))\n",
      "/Users/naoki/.pyenv/versions/kyoutei2/lib/python3.8/site-packages/sklearn/metrics/_classification.py:1318: UndefinedMetricWarning: Precision and F-score are ill-defined and being set to 0.0 in labels with no predicted samples. Use `zero_division` parameter to control this behavior.\n",
      "  _warn_prf(average, modifier, msg_start, len(result))\n",
      "/Users/naoki/.pyenv/versions/kyoutei2/lib/python3.8/site-packages/sklearn/metrics/_classification.py:1318: UndefinedMetricWarning: Precision and F-score are ill-defined and being set to 0.0 in labels with no predicted samples. Use `zero_division` parameter to control this behavior.\n",
      "  _warn_prf(average, modifier, msg_start, len(result))\n"
     ]
    },
    {
     "name": "stdout",
     "output_type": "stream",
     "text": [
      "[[216  11  11   3   1   0]\n",
      " [ 44   9   7   3   0   1]\n",
      " [ 40   5   5   1   1   0]\n",
      " [ 38   3   2   2   0   0]\n",
      " [ 18   1   1   0   0   0]\n",
      " [  5   0   1   0   0   0]]\n",
      "[0.89256198 0.140625   0.09615385 0.04444444 0.         0.        ]\n",
      "              precision    recall  f1-score   support\n",
      "\n",
      "           1       0.60      0.89      0.72       242\n",
      "           2       0.31      0.14      0.19        64\n",
      "           3       0.19      0.10      0.13        52\n",
      "           4       0.22      0.04      0.07        45\n",
      "           5       0.00      0.00      0.00        20\n",
      "           6       0.00      0.00      0.00         6\n",
      "\n",
      "    accuracy                           0.54       429\n",
      "   macro avg       0.22      0.20      0.19       429\n",
      "weighted avg       0.43      0.54      0.46       429\n",
      "\n",
      "dataset/place/唐津.csv dataset/v1_features/place/唐津_v1.csv\n",
      "[[173  13   7   4   0   1]\n",
      " [ 39  15   5   2   0   0]\n",
      " [ 38   3   8   1   1   0]\n",
      " [ 31   4   3   4   0   0]\n",
      " [ 19   2   3   0   2   0]\n",
      " [  7   1   1   2   0   1]]\n",
      "[0.87373737 0.24590164 0.15686275 0.0952381  0.07692308 0.08333333]\n",
      "              precision    recall  f1-score   support\n",
      "\n",
      "           1       0.56      0.87      0.69       198\n",
      "           2       0.39      0.25      0.30        61\n",
      "           3       0.30      0.16      0.21        51\n",
      "           4       0.31      0.10      0.15        42\n",
      "           5       0.67      0.08      0.14        26\n",
      "           6       0.50      0.08      0.14        12\n",
      "\n",
      "    accuracy                           0.52       390\n",
      "   macro avg       0.45      0.26      0.27       390\n",
      "weighted avg       0.48      0.52      0.45       390\n",
      "\n",
      "dataset/place/多摩川.csv dataset/v1_features/place/多摩川_v1.csv\n",
      "[[173  11   5   4   0   0]\n",
      " [ 50  14   1   3   0   0]\n",
      " [ 39   6   4   3   0   0]\n",
      " [ 39   3   4   3   0   0]\n",
      " [ 18   1   1   0   0   0]\n",
      " [ 11   5   0   0   0   0]]\n",
      "[0.89637306 0.20588235 0.07692308 0.06122449 0.         0.        ]\n",
      "              precision    recall  f1-score   support\n",
      "\n",
      "           1       0.52      0.90      0.66       193\n",
      "           2       0.35      0.21      0.26        68\n",
      "           3       0.27      0.08      0.12        52\n",
      "           4       0.23      0.06      0.10        49\n",
      "           5       0.00      0.00      0.00        20\n",
      "           6       0.00      0.00      0.00        16\n",
      "\n",
      "    accuracy                           0.49       398\n",
      "   macro avg       0.23      0.21      0.19       398\n",
      "weighted avg       0.38      0.49      0.39       398\n",
      "\n",
      "dataset/place/大村.csv dataset/v1_features/place/大村_v1.csv\n"
     ]
    },
    {
     "name": "stderr",
     "output_type": "stream",
     "text": [
      "/Users/naoki/.pyenv/versions/kyoutei2/lib/python3.8/site-packages/sklearn/metrics/_classification.py:1318: UndefinedMetricWarning: Precision and F-score are ill-defined and being set to 0.0 in labels with no predicted samples. Use `zero_division` parameter to control this behavior.\n",
      "  _warn_prf(average, modifier, msg_start, len(result))\n",
      "/Users/naoki/.pyenv/versions/kyoutei2/lib/python3.8/site-packages/sklearn/metrics/_classification.py:1318: UndefinedMetricWarning: Precision and F-score are ill-defined and being set to 0.0 in labels with no predicted samples. Use `zero_division` parameter to control this behavior.\n",
      "  _warn_prf(average, modifier, msg_start, len(result))\n",
      "/Users/naoki/.pyenv/versions/kyoutei2/lib/python3.8/site-packages/sklearn/metrics/_classification.py:1318: UndefinedMetricWarning: Precision and F-score are ill-defined and being set to 0.0 in labels with no predicted samples. Use `zero_division` parameter to control this behavior.\n",
      "  _warn_prf(average, modifier, msg_start, len(result))\n"
     ]
    },
    {
     "name": "stdout",
     "output_type": "stream",
     "text": [
      "[[261   8   2   3   0   0]\n",
      " [ 40   6   0   1   1   0]\n",
      " [ 35   1   3   1   0   0]\n",
      " [ 32   0   3   2   0   0]\n",
      " [ 17   0   0   1   0   0]\n",
      " [ 10   2   0   1   0   2]]\n",
      "[0.95255474 0.125      0.075      0.05405405 0.         0.13333333]\n",
      "              precision    recall  f1-score   support\n",
      "\n",
      "           1       0.66      0.95      0.78       274\n",
      "           2       0.35      0.12      0.18        48\n",
      "           3       0.38      0.07      0.12        40\n",
      "           4       0.22      0.05      0.09        37\n",
      "           5       0.00      0.00      0.00        18\n",
      "           6       1.00      0.13      0.24        15\n",
      "\n",
      "    accuracy                           0.63       432\n",
      "   macro avg       0.44      0.22      0.24       432\n",
      "weighted avg       0.55      0.63      0.54       432\n",
      "\n",
      "dataset/place/宮島.csv dataset/v1_features/place/宮島_v1.csv\n",
      "[[241   6   3   3   0   0]\n",
      " [ 27   7   1   1   0   0]\n",
      " [ 41   4   4   1   0   0]\n",
      " [ 35   4   1   1   0   0]\n",
      " [ 30   1   2   0   0   0]\n",
      " [ 14   1   0   1   0   0]]\n",
      "[0.95256917 0.19444444 0.08       0.02439024 0.         0.        ]\n",
      "              precision    recall  f1-score   support\n",
      "\n",
      "           1       0.62      0.95      0.75       253\n",
      "           2       0.30      0.19      0.24        36\n",
      "           3       0.36      0.08      0.13        50\n",
      "           4       0.14      0.02      0.04        41\n",
      "           5       0.00      0.00      0.00        33\n",
      "           6       0.00      0.00      0.00        16\n",
      "\n",
      "    accuracy                           0.59       429\n",
      "   macro avg       0.24      0.21      0.19       429\n",
      "weighted avg       0.45      0.59      0.48       429\n",
      "\n",
      "dataset/place/尼崎.csv dataset/v1_features/place/尼崎_v1.csv\n"
     ]
    },
    {
     "name": "stderr",
     "output_type": "stream",
     "text": [
      "/Users/naoki/.pyenv/versions/kyoutei2/lib/python3.8/site-packages/sklearn/metrics/_classification.py:1318: UndefinedMetricWarning: Precision and F-score are ill-defined and being set to 0.0 in labels with no predicted samples. Use `zero_division` parameter to control this behavior.\n",
      "  _warn_prf(average, modifier, msg_start, len(result))\n",
      "/Users/naoki/.pyenv/versions/kyoutei2/lib/python3.8/site-packages/sklearn/metrics/_classification.py:1318: UndefinedMetricWarning: Precision and F-score are ill-defined and being set to 0.0 in labels with no predicted samples. Use `zero_division` parameter to control this behavior.\n",
      "  _warn_prf(average, modifier, msg_start, len(result))\n",
      "/Users/naoki/.pyenv/versions/kyoutei2/lib/python3.8/site-packages/sklearn/metrics/_classification.py:1318: UndefinedMetricWarning: Precision and F-score are ill-defined and being set to 0.0 in labels with no predicted samples. Use `zero_division` parameter to control this behavior.\n",
      "  _warn_prf(average, modifier, msg_start, len(result))\n"
     ]
    },
    {
     "name": "stdout",
     "output_type": "stream",
     "text": [
      "[[199   2   1   2   0   0]\n",
      " [ 40   5   1   0   0   0]\n",
      " [ 39   7   3   2   0   1]\n",
      " [ 37   4   2   0   0   0]\n",
      " [ 21   0   0   0   0   0]\n",
      " [  7   0   0   0   0   0]]\n",
      "[0.9754902  0.10869565 0.05769231 0.         0.         0.        ]\n",
      "              precision    recall  f1-score   support\n",
      "\n",
      "           1       0.58      0.98      0.73       204\n",
      "           2       0.28      0.11      0.16        46\n",
      "           3       0.43      0.06      0.10        52\n",
      "           4       0.00      0.00      0.00        43\n",
      "           5       0.00      0.00      0.00        21\n",
      "           6       0.00      0.00      0.00         7\n",
      "\n",
      "    accuracy                           0.55       373\n",
      "   macro avg       0.21      0.19      0.16       373\n",
      "weighted avg       0.41      0.55      0.43       373\n",
      "\n",
      "dataset/place/常滑.csv dataset/v1_features/place/常滑_v1.csv\n"
     ]
    },
    {
     "name": "stderr",
     "output_type": "stream",
     "text": [
      "/Users/naoki/.pyenv/versions/kyoutei2/lib/python3.8/site-packages/sklearn/metrics/_classification.py:1318: UndefinedMetricWarning: Precision and F-score are ill-defined and being set to 0.0 in labels with no predicted samples. Use `zero_division` parameter to control this behavior.\n",
      "  _warn_prf(average, modifier, msg_start, len(result))\n",
      "/Users/naoki/.pyenv/versions/kyoutei2/lib/python3.8/site-packages/sklearn/metrics/_classification.py:1318: UndefinedMetricWarning: Precision and F-score are ill-defined and being set to 0.0 in labels with no predicted samples. Use `zero_division` parameter to control this behavior.\n",
      "  _warn_prf(average, modifier, msg_start, len(result))\n",
      "/Users/naoki/.pyenv/versions/kyoutei2/lib/python3.8/site-packages/sklearn/metrics/_classification.py:1318: UndefinedMetricWarning: Precision and F-score are ill-defined and being set to 0.0 in labels with no predicted samples. Use `zero_division` parameter to control this behavior.\n",
      "  _warn_prf(average, modifier, msg_start, len(result))\n"
     ]
    },
    {
     "name": "stdout",
     "output_type": "stream",
     "text": [
      "[[204   9   5   1   0   1]\n",
      " [ 37   9   5   1   0   1]\n",
      " [ 31   3   5   0   0   0]\n",
      " [ 38   5   0   0   0   0]\n",
      " [ 23   3   1   0   0   0]\n",
      " [  7   1   2   0   0   0]]\n",
      "[0.92727273 0.16981132 0.12820513 0.         0.         0.        ]\n",
      "              precision    recall  f1-score   support\n",
      "\n",
      "           1       0.60      0.93      0.73       220\n",
      "           2       0.30      0.17      0.22        53\n",
      "           3       0.28      0.13      0.18        39\n",
      "           4       0.00      0.00      0.00        43\n",
      "           5       0.00      0.00      0.00        27\n",
      "           6       0.00      0.00      0.00        10\n",
      "\n",
      "    accuracy                           0.56       392\n",
      "   macro avg       0.20      0.20      0.19       392\n",
      "weighted avg       0.40      0.56      0.46       392\n",
      "\n",
      "dataset/place/平和島.csv dataset/v1_features/place/平和島_v1.csv\n"
     ]
    },
    {
     "name": "stderr",
     "output_type": "stream",
     "text": [
      "/Users/naoki/.pyenv/versions/kyoutei2/lib/python3.8/site-packages/sklearn/metrics/_classification.py:1318: UndefinedMetricWarning: Precision and F-score are ill-defined and being set to 0.0 in labels with no predicted samples. Use `zero_division` parameter to control this behavior.\n",
      "  _warn_prf(average, modifier, msg_start, len(result))\n",
      "/Users/naoki/.pyenv/versions/kyoutei2/lib/python3.8/site-packages/sklearn/metrics/_classification.py:1318: UndefinedMetricWarning: Precision and F-score are ill-defined and being set to 0.0 in labels with no predicted samples. Use `zero_division` parameter to control this behavior.\n",
      "  _warn_prf(average, modifier, msg_start, len(result))\n",
      "/Users/naoki/.pyenv/versions/kyoutei2/lib/python3.8/site-packages/sklearn/metrics/_classification.py:1318: UndefinedMetricWarning: Precision and F-score are ill-defined and being set to 0.0 in labels with no predicted samples. Use `zero_division` parameter to control this behavior.\n",
      "  _warn_prf(average, modifier, msg_start, len(result))\n"
     ]
    },
    {
     "name": "stdout",
     "output_type": "stream",
     "text": [
      "[[122  12   4   6   2   1]\n",
      " [ 35  19   6   3   2   0]\n",
      " [ 33   6   5   3   0   1]\n",
      " [ 34   6   1   1   0   1]\n",
      " [ 10   4   0   0   1   0]\n",
      " [ 11   0   0   0   0   0]]\n",
      "[0.82993197 0.29230769 0.10416667 0.02325581 0.06666667 0.        ]\n",
      "              precision    recall  f1-score   support\n",
      "\n",
      "           1       0.50      0.83      0.62       147\n",
      "           2       0.40      0.29      0.34        65\n",
      "           3       0.31      0.10      0.16        48\n",
      "           4       0.08      0.02      0.04        43\n",
      "           5       0.20      0.07      0.10        15\n",
      "           6       0.00      0.00      0.00        11\n",
      "\n",
      "    accuracy                           0.45       329\n",
      "   macro avg       0.25      0.22      0.21       329\n",
      "weighted avg       0.37      0.45      0.38       329\n",
      "\n",
      "dataset/place/徳山.csv dataset/v1_features/place/徳山_v1.csv\n",
      "[[235  13   6   3   0   0]\n",
      " [ 41   6   0   0   0   0]\n",
      " [ 27   3   5   2   0   0]\n",
      " [ 28   0   2   1   0   0]\n",
      " [ 14   1   0   0   0   0]\n",
      " [ 10   2   0   0   0   0]]\n",
      "[0.91439689 0.12765957 0.13513514 0.03225806 0.         0.        ]\n",
      "              precision    recall  f1-score   support\n",
      "\n",
      "           1       0.66      0.91      0.77       257\n",
      "           2       0.24      0.13      0.17        47\n",
      "           3       0.38      0.14      0.20        37\n",
      "           4       0.17      0.03      0.05        31\n",
      "           5       0.00      0.00      0.00        15\n",
      "           6       0.00      0.00      0.00        12\n",
      "\n",
      "    accuracy                           0.62       399\n",
      "   macro avg       0.24      0.20      0.20       399\n",
      "weighted avg       0.50      0.62      0.54       399\n",
      "\n",
      "dataset/place/戸田.csv dataset/v1_features/place/戸田_v1.csv\n"
     ]
    },
    {
     "name": "stderr",
     "output_type": "stream",
     "text": [
      "/Users/naoki/.pyenv/versions/kyoutei2/lib/python3.8/site-packages/sklearn/metrics/_classification.py:1318: UndefinedMetricWarning: Precision and F-score are ill-defined and being set to 0.0 in labels with no predicted samples. Use `zero_division` parameter to control this behavior.\n",
      "  _warn_prf(average, modifier, msg_start, len(result))\n",
      "/Users/naoki/.pyenv/versions/kyoutei2/lib/python3.8/site-packages/sklearn/metrics/_classification.py:1318: UndefinedMetricWarning: Precision and F-score are ill-defined and being set to 0.0 in labels with no predicted samples. Use `zero_division` parameter to control this behavior.\n",
      "  _warn_prf(average, modifier, msg_start, len(result))\n",
      "/Users/naoki/.pyenv/versions/kyoutei2/lib/python3.8/site-packages/sklearn/metrics/_classification.py:1318: UndefinedMetricWarning: Precision and F-score are ill-defined and being set to 0.0 in labels with no predicted samples. Use `zero_division` parameter to control this behavior.\n",
      "  _warn_prf(average, modifier, msg_start, len(result))\n"
     ]
    },
    {
     "name": "stdout",
     "output_type": "stream",
     "text": [
      "[[131   5   9  16   1   0]\n",
      " [ 47  14  11   7   0   0]\n",
      " [ 36   5  13   6   0   0]\n",
      " [ 32   4   8   7   0   0]\n",
      " [ 24   1   4   1   0   0]\n",
      " [ 15   2   1   0   0   0]]\n",
      "[0.80864198 0.17721519 0.21666667 0.1372549  0.         0.        ]\n",
      "              precision    recall  f1-score   support\n",
      "\n",
      "           1       0.46      0.81      0.59       162\n",
      "           2       0.45      0.18      0.25        79\n",
      "           3       0.28      0.22      0.25        60\n",
      "           4       0.19      0.14      0.16        51\n",
      "           5       0.00      0.00      0.00        30\n",
      "           6       0.00      0.00      0.00        18\n",
      "\n",
      "    accuracy                           0.41       400\n",
      "   macro avg       0.23      0.22      0.21       400\n",
      "weighted avg       0.34      0.41      0.34       400\n",
      "\n",
      "dataset/place/桐生.csv dataset/v1_features/place/桐生_v1.csv\n"
     ]
    },
    {
     "name": "stderr",
     "output_type": "stream",
     "text": [
      "/Users/naoki/.pyenv/versions/kyoutei2/lib/python3.8/site-packages/sklearn/metrics/_classification.py:1318: UndefinedMetricWarning: Precision and F-score are ill-defined and being set to 0.0 in labels with no predicted samples. Use `zero_division` parameter to control this behavior.\n",
      "  _warn_prf(average, modifier, msg_start, len(result))\n",
      "/Users/naoki/.pyenv/versions/kyoutei2/lib/python3.8/site-packages/sklearn/metrics/_classification.py:1318: UndefinedMetricWarning: Precision and F-score are ill-defined and being set to 0.0 in labels with no predicted samples. Use `zero_division` parameter to control this behavior.\n",
      "  _warn_prf(average, modifier, msg_start, len(result))\n",
      "/Users/naoki/.pyenv/versions/kyoutei2/lib/python3.8/site-packages/sklearn/metrics/_classification.py:1318: UndefinedMetricWarning: Precision and F-score are ill-defined and being set to 0.0 in labels with no predicted samples. Use `zero_division` parameter to control this behavior.\n",
      "  _warn_prf(average, modifier, msg_start, len(result))\n"
     ]
    },
    {
     "name": "stdout",
     "output_type": "stream",
     "text": [
      "[[186  12   6  13   2   2]\n",
      " [ 42  10   2   3   0   0]\n",
      " [ 43   5   3   5   0   0]\n",
      " [ 27   4   3   8   0   0]\n",
      " [ 16   0   1   4   3   0]\n",
      " [  7   1   0   1   0   0]]\n",
      "[0.84162896 0.1754386  0.05357143 0.19047619 0.125      0.        ]\n",
      "              precision    recall  f1-score   support\n",
      "\n",
      "           1       0.58      0.84      0.69       221\n",
      "           2       0.31      0.18      0.22        57\n",
      "           3       0.20      0.05      0.08        56\n",
      "           4       0.24      0.19      0.21        42\n",
      "           5       0.60      0.12      0.21        24\n",
      "           6       0.00      0.00      0.00         9\n",
      "\n",
      "    accuracy                           0.51       409\n",
      "   macro avg       0.32      0.23      0.24       409\n",
      "weighted avg       0.44      0.51      0.45       409\n",
      "\n",
      "dataset/place/江戸川.csv dataset/v1_features/place/江戸川_v1.csv\n",
      "[[116  13   9   4   4   0]\n",
      " [ 47  15   3   1   0   1]\n",
      " [ 43   7   7   1   2   0]\n",
      " [ 30   9   3   6   0   0]\n",
      " [ 21   1   4   3   2   0]\n",
      " [ 13   0   1   0   0   0]]\n",
      "[0.79452055 0.2238806  0.11666667 0.125      0.06451613 0.        ]\n",
      "              precision    recall  f1-score   support\n",
      "\n",
      "           1       0.43      0.79      0.56       146\n",
      "           2       0.33      0.22      0.27        67\n",
      "           3       0.26      0.12      0.16        60\n",
      "           4       0.40      0.12      0.19        48\n",
      "           5       0.25      0.06      0.10        31\n",
      "           6       0.00      0.00      0.00        14\n",
      "\n",
      "    accuracy                           0.40       366\n",
      "   macro avg       0.28      0.22      0.21       366\n",
      "weighted avg       0.35      0.40      0.33       366\n",
      "\n",
      "dataset/place/津.csv dataset/v1_features/place/津_v1.csv\n",
      "[[170   5   2   2   0   0]\n",
      " [ 38  11   3   0   0   0]\n",
      " [ 38   0   3   1   0   0]\n",
      " [ 22   5   3   2   0   0]\n",
      " [ 11   1   1   0   0   0]\n",
      " [  7   1   0   0   0   0]]\n",
      "[0.94972067 0.21153846 0.07142857 0.0625     0.         0.        ]\n",
      "              precision    recall  f1-score   support\n",
      "\n",
      "           1       0.59      0.95      0.73       179\n",
      "           2       0.48      0.21      0.29        52\n",
      "           3       0.25      0.07      0.11        42\n",
      "           4       0.40      0.06      0.11        32\n",
      "           5       0.00      0.00      0.00        13\n",
      "           6       0.00      0.00      0.00         8\n",
      "\n",
      "    accuracy                           0.57       326\n",
      "   macro avg       0.29      0.22      0.21       326\n",
      "weighted avg       0.47      0.57      0.47       326\n",
      "\n",
      "dataset/place/浜名湖.csv dataset/v1_features/place/浜名湖_v1.csv\n"
     ]
    },
    {
     "name": "stderr",
     "output_type": "stream",
     "text": [
      "/Users/naoki/.pyenv/versions/kyoutei2/lib/python3.8/site-packages/sklearn/metrics/_classification.py:1318: UndefinedMetricWarning: Precision and F-score are ill-defined and being set to 0.0 in labels with no predicted samples. Use `zero_division` parameter to control this behavior.\n",
      "  _warn_prf(average, modifier, msg_start, len(result))\n",
      "/Users/naoki/.pyenv/versions/kyoutei2/lib/python3.8/site-packages/sklearn/metrics/_classification.py:1318: UndefinedMetricWarning: Precision and F-score are ill-defined and being set to 0.0 in labels with no predicted samples. Use `zero_division` parameter to control this behavior.\n",
      "  _warn_prf(average, modifier, msg_start, len(result))\n",
      "/Users/naoki/.pyenv/versions/kyoutei2/lib/python3.8/site-packages/sklearn/metrics/_classification.py:1318: UndefinedMetricWarning: Precision and F-score are ill-defined and being set to 0.0 in labels with no predicted samples. Use `zero_division` parameter to control this behavior.\n",
      "  _warn_prf(average, modifier, msg_start, len(result))\n"
     ]
    },
    {
     "name": "stdout",
     "output_type": "stream",
     "text": [
      "[[195  12   8   2   3   1]\n",
      " [ 52  13   3   0   1   0]\n",
      " [ 41   3   3   1   0   0]\n",
      " [ 24   4   1   2   0   0]\n",
      " [ 14   2   1   1   0   0]\n",
      " [ 14   1   0   1   0   0]]\n",
      "[0.88235294 0.1884058  0.0625     0.06451613 0.         0.        ]\n",
      "              precision    recall  f1-score   support\n",
      "\n",
      "           1       0.57      0.88      0.70       221\n",
      "           2       0.37      0.19      0.25        69\n",
      "           3       0.19      0.06      0.09        48\n",
      "           4       0.29      0.06      0.11        31\n",
      "           5       0.00      0.00      0.00        18\n",
      "           6       0.00      0.00      0.00        16\n",
      "\n",
      "    accuracy                           0.53       403\n",
      "   macro avg       0.24      0.20      0.19       403\n",
      "weighted avg       0.42      0.53      0.44       403\n",
      "\n",
      "dataset/place/琵琶湖.csv dataset/v1_features/place/琵琶湖_v1.csv\n",
      "[[204  10  12   5   2   0]\n",
      " [ 47   9   4   1   0   0]\n",
      " [ 39   1   3   3   1   1]\n",
      " [ 32   2   0   4   2   0]\n",
      " [  9   1   1   0   0   0]\n",
      " [  4   2   1   0   0   0]]\n",
      "[0.87553648 0.14754098 0.0625     0.1        0.         0.        ]\n",
      "              precision    recall  f1-score   support\n",
      "\n",
      "           1       0.61      0.88      0.72       233\n",
      "           2       0.36      0.15      0.21        61\n",
      "           3       0.14      0.06      0.09        48\n",
      "           4       0.31      0.10      0.15        40\n",
      "           5       0.00      0.00      0.00        11\n",
      "           6       0.00      0.00      0.00         7\n",
      "\n",
      "    accuracy                           0.55       400\n",
      "   macro avg       0.24      0.20      0.19       400\n",
      "weighted avg       0.46      0.55      0.48       400\n",
      "\n",
      "dataset/place/芦屋.csv dataset/v1_features/place/芦屋_v1.csv\n",
      "[[246  12   1   4   0   0]\n",
      " [ 34   7   2   0   0   0]\n",
      " [ 36   4   4   0   0   0]\n",
      " [ 40   3   0   0   0   0]\n",
      " [ 14   1   0   0   0   0]\n",
      " [  6   1   1   0   1   1]]\n",
      "[0.93536122 0.1627907  0.09090909 0.         0.         0.1       ]\n",
      "              precision    recall  f1-score   support\n",
      "\n",
      "           1       0.65      0.94      0.77       263\n",
      "           2       0.25      0.16      0.20        43\n",
      "           3       0.50      0.09      0.15        44\n",
      "           4       0.00      0.00      0.00        43\n",
      "           5       0.00      0.00      0.00        15\n",
      "           6       1.00      0.10      0.18        10\n",
      "\n",
      "    accuracy                           0.62       418\n",
      "   macro avg       0.40      0.21      0.22       418\n",
      "weighted avg       0.51      0.62      0.53       418\n",
      "\n",
      "dataset/place/若松.csv dataset/v1_features/place/若松_v1.csv\n",
      "[[203  11   4   4   0   1]\n",
      " [ 49   4   4   0   0   0]\n",
      " [ 34   2   3   0   0   1]\n",
      " [ 45   3   2   3   0   0]\n",
      " [ 19   1   0   0   0   0]\n",
      " [  8   0   0   0   0   1]]\n",
      "[0.9103139  0.07017544 0.075      0.05660377 0.         0.11111111]\n",
      "              precision    recall  f1-score   support\n",
      "\n",
      "           1       0.57      0.91      0.70       223\n",
      "           2       0.19      0.07      0.10        57\n",
      "           3       0.23      0.07      0.11        40\n",
      "           4       0.43      0.06      0.10        53\n",
      "           5       0.00      0.00      0.00        20\n",
      "           6       0.33      0.11      0.17         9\n",
      "\n",
      "    accuracy                           0.53       402\n",
      "   macro avg       0.29      0.20      0.20       402\n",
      "weighted avg       0.43      0.53      0.43       402\n",
      "\n",
      "dataset/place/蒲郡.csv dataset/v1_features/place/蒲郡_v1.csv\n"
     ]
    },
    {
     "name": "stderr",
     "output_type": "stream",
     "text": [
      "/Users/naoki/.pyenv/versions/kyoutei2/lib/python3.8/site-packages/sklearn/metrics/_classification.py:1318: UndefinedMetricWarning: Precision and F-score are ill-defined and being set to 0.0 in labels with no predicted samples. Use `zero_division` parameter to control this behavior.\n",
      "  _warn_prf(average, modifier, msg_start, len(result))\n",
      "/Users/naoki/.pyenv/versions/kyoutei2/lib/python3.8/site-packages/sklearn/metrics/_classification.py:1318: UndefinedMetricWarning: Precision and F-score are ill-defined and being set to 0.0 in labels with no predicted samples. Use `zero_division` parameter to control this behavior.\n",
      "  _warn_prf(average, modifier, msg_start, len(result))\n",
      "/Users/naoki/.pyenv/versions/kyoutei2/lib/python3.8/site-packages/sklearn/metrics/_classification.py:1318: UndefinedMetricWarning: Precision and F-score are ill-defined and being set to 0.0 in labels with no predicted samples. Use `zero_division` parameter to control this behavior.\n",
      "  _warn_prf(average, modifier, msg_start, len(result))\n"
     ]
    },
    {
     "name": "stdout",
     "output_type": "stream",
     "text": [
      "[[182  11  11   8   0   0]\n",
      " [ 39  14   3   2   0   0]\n",
      " [ 33   4   4   2   0   0]\n",
      " [ 35   5   0   1   0   0]\n",
      " [ 27   2   2   0   1   0]\n",
      " [ 11   1   1   0   0   0]]\n",
      "[0.85849057 0.24137931 0.09302326 0.02439024 0.03125    0.        ]\n",
      "              precision    recall  f1-score   support\n",
      "\n",
      "           1       0.56      0.86      0.68       212\n",
      "           2       0.38      0.24      0.29        58\n",
      "           3       0.19      0.09      0.12        43\n",
      "           4       0.08      0.02      0.04        41\n",
      "           5       1.00      0.03      0.06        32\n",
      "           6       0.00      0.00      0.00        13\n",
      "\n",
      "    accuracy                           0.51       399\n",
      "   macro avg       0.37      0.21      0.20       399\n",
      "weighted avg       0.46      0.51      0.42       399\n",
      "\n",
      "dataset/place/鳴門.csv dataset/v1_features/place/鳴門_v1.csv\n"
     ]
    },
    {
     "name": "stderr",
     "output_type": "stream",
     "text": [
      "/Users/naoki/.pyenv/versions/kyoutei2/lib/python3.8/site-packages/sklearn/metrics/_classification.py:1318: UndefinedMetricWarning: Precision and F-score are ill-defined and being set to 0.0 in labels with no predicted samples. Use `zero_division` parameter to control this behavior.\n",
      "  _warn_prf(average, modifier, msg_start, len(result))\n",
      "/Users/naoki/.pyenv/versions/kyoutei2/lib/python3.8/site-packages/sklearn/metrics/_classification.py:1318: UndefinedMetricWarning: Precision and F-score are ill-defined and being set to 0.0 in labels with no predicted samples. Use `zero_division` parameter to control this behavior.\n",
      "  _warn_prf(average, modifier, msg_start, len(result))\n",
      "/Users/naoki/.pyenv/versions/kyoutei2/lib/python3.8/site-packages/sklearn/metrics/_classification.py:1318: UndefinedMetricWarning: Precision and F-score are ill-defined and being set to 0.0 in labels with no predicted samples. Use `zero_division` parameter to control this behavior.\n",
      "  _warn_prf(average, modifier, msg_start, len(result))\n"
     ]
    },
    {
     "name": "stdout",
     "output_type": "stream",
     "text": [
      "[[163   6   7   5   0   0]\n",
      " [ 35  15   2   2   0   0]\n",
      " [ 42   2   9   3   0   0]\n",
      " [ 33   2   4   2   0   0]\n",
      " [ 15   4   1   1   1   0]\n",
      " [  3   0   0   1   0   0]]\n",
      "[0.90055249 0.27777778 0.16071429 0.04878049 0.04545455 0.        ]\n",
      "              precision    recall  f1-score   support\n",
      "\n",
      "           1       0.56      0.90      0.69       181\n",
      "           2       0.52      0.28      0.36        54\n",
      "           3       0.39      0.16      0.23        56\n",
      "           4       0.14      0.05      0.07        41\n",
      "           5       1.00      0.05      0.09        22\n",
      "           6       0.00      0.00      0.00         4\n",
      "\n",
      "    accuracy                           0.53       358\n",
      "   macro avg       0.44      0.24      0.24       358\n",
      "weighted avg       0.50      0.53      0.45       358\n",
      "\n"
     ]
    },
    {
     "name": "stderr",
     "output_type": "stream",
     "text": [
      "/Users/naoki/.pyenv/versions/kyoutei2/lib/python3.8/site-packages/sklearn/metrics/_classification.py:1318: UndefinedMetricWarning: Precision and F-score are ill-defined and being set to 0.0 in labels with no predicted samples. Use `zero_division` parameter to control this behavior.\n",
      "  _warn_prf(average, modifier, msg_start, len(result))\n",
      "/Users/naoki/.pyenv/versions/kyoutei2/lib/python3.8/site-packages/sklearn/metrics/_classification.py:1318: UndefinedMetricWarning: Precision and F-score are ill-defined and being set to 0.0 in labels with no predicted samples. Use `zero_division` parameter to control this behavior.\n",
      "  _warn_prf(average, modifier, msg_start, len(result))\n",
      "/Users/naoki/.pyenv/versions/kyoutei2/lib/python3.8/site-packages/sklearn/metrics/_classification.py:1318: UndefinedMetricWarning: Precision and F-score are ill-defined and being set to 0.0 in labels with no predicted samples. Use `zero_division` parameter to control this behavior.\n",
      "  _warn_prf(average, modifier, msg_start, len(result))\n"
     ]
    }
   ],
   "source": [
    "files_all_data = sorted(glob.glob(\"dataset/place/*\"))\n",
    "files_features = sorted(glob.glob(\"dataset/v1_features/place/*\"))\n",
    "for all_data, feature in zip(files_all_data, files_features):\n",
    "    print(all_data,feature)\n",
    "    hoge = pd.read_csv(f\"{all_data}\", index_col=0)\n",
    "    X_df = pd.read_csv(f\"{feature}\",index_col=0)\n",
    "    X = X_df.values\n",
    "    Y = hoge[\"tkt_1t\"].values\n",
    "    odds = hoge[\"odds_1t\"]\n",
    "    X_train, X_test, y_train, y_test, odds_train, odds_test = train_test_split(X, Y, odds,test_size=0.20,shuffle=False)\n",
    "    # モデルの学習\n",
    "    model = lgb.LGBMClassifier() # モデルのインスタンスの作成\n",
    "    model.fit(X_train, y_train) # モデルの学習\n",
    "\n",
    "    # テストデータの予測クラス (予測クラス(0 or 1 or 2)を返す)\n",
    "    y_pred = model.predict(X_test)\n",
    "    # テストデータのクラス予測確率 (各クラスの予測確率 [クラス0の予測確率,クラス1の予測確率,クラス2の予測確率] を返す)\n",
    "    y_pred_prob = model.predict_proba(X_test)\n",
    "\n",
    "    # 真値と予測値の表示\n",
    "    df_pred = pd.DataFrame({'target':y_test,'target_pred':y_pred})\n",
    "\n",
    "\n",
    "    # 真値と予測確率の表示\n",
    "    df_pred_prob = pd.DataFrame({'y':y_test, 'target0_prob':y_pred_prob[:,0], 'target1_prob':y_pred_prob[:,1], 'target2_prob':y_pred_prob[:,2], 'target3_prob':y_pred_prob[:,3], 'target4_prob':y_pred_prob[:,4], 'target5_prob':y_pred_prob[:,5]})\n",
    "    val_mat = confusion_matrix(y_test, y_pred)\n",
    "    print(val_mat)\n",
    "\n",
    "\n",
    "\n",
    "    rec_score = recall_score(y_test, y_pred, average=None)\n",
    "    print(rec_score)\n",
    "\n",
    "    print(classification_report(y_test, y_pred))"
   ],
   "metadata": {
    "collapsed": false,
    "pycharm": {
     "name": "#%%\n"
    }
   }
  },
  {
   "cell_type": "code",
   "execution_count": 3,
   "outputs": [],
   "source": [
    "df_pred.to_csv(\"tmp.csv\" , encoding='utf_8_sig')"
   ],
   "metadata": {
    "collapsed": false,
    "pycharm": {
     "name": "#%%\n"
    }
   }
  },
  {
   "cell_type": "code",
   "execution_count": 4,
   "outputs": [
    {
     "data": {
      "text/plain": "array([1, 2, 3, 4, 5, 6])"
     },
     "execution_count": 4,
     "metadata": {},
     "output_type": "execute_result"
    }
   ],
   "source": [
    "np.unique(y_train)"
   ],
   "metadata": {
    "collapsed": false,
    "pycharm": {
     "name": "#%%\n"
    }
   }
  },
  {
   "cell_type": "code",
   "execution_count": 5,
   "outputs": [],
   "source": [
    "val_mat = confusion_matrix(y_test, y_pred)"
   ],
   "metadata": {
    "collapsed": false,
    "pycharm": {
     "name": "#%%\n"
    }
   }
  },
  {
   "cell_type": "code",
   "execution_count": 6,
   "outputs": [
    {
     "data": {
      "text/plain": "array([[163,   6,   7,   5,   0,   0],\n       [ 35,  15,   2,   2,   0,   0],\n       [ 42,   2,   9,   3,   0,   0],\n       [ 33,   2,   4,   2,   0,   0],\n       [ 15,   4,   1,   1,   1,   0],\n       [  3,   0,   0,   1,   0,   0]])"
     },
     "execution_count": 6,
     "metadata": {},
     "output_type": "execute_result"
    }
   ],
   "source": [
    "val_mat"
   ],
   "metadata": {
    "collapsed": false,
    "pycharm": {
     "name": "#%%\n"
    }
   }
  },
  {
   "cell_type": "code",
   "execution_count": 7,
   "outputs": [
    {
     "data": {
      "text/plain": "0.5307262569832403"
     },
     "execution_count": 7,
     "metadata": {},
     "output_type": "execute_result"
    }
   ],
   "source": [
    "accuracy_score(y_test, y_pred)"
   ],
   "metadata": {
    "collapsed": false,
    "pycharm": {
     "name": "#%%\n"
    }
   }
  },
  {
   "cell_type": "code",
   "execution_count": 8,
   "outputs": [
    {
     "name": "stdout",
     "output_type": "stream",
     "text": [
      "[0.90055249 0.27777778 0.16071429 0.04878049 0.04545455 0.        ]\n"
     ]
    }
   ],
   "source": [
    "rec_score = recall_score(y_test, y_pred, average=None)\n",
    "print(rec_score)"
   ],
   "metadata": {
    "collapsed": false,
    "pycharm": {
     "name": "#%%\n"
    }
   }
  },
  {
   "cell_type": "code",
   "execution_count": 9,
   "outputs": [
    {
     "name": "stdout",
     "output_type": "stream",
     "text": [
      "              precision    recall  f1-score   support\n",
      "\n",
      "           1       0.56      0.90      0.69       181\n",
      "           2       0.52      0.28      0.36        54\n",
      "           3       0.39      0.16      0.23        56\n",
      "           4       0.14      0.05      0.07        41\n",
      "           5       1.00      0.05      0.09        22\n",
      "           6       0.00      0.00      0.00         4\n",
      "\n",
      "    accuracy                           0.53       358\n",
      "   macro avg       0.44      0.24      0.24       358\n",
      "weighted avg       0.50      0.53      0.45       358\n",
      "\n"
     ]
    },
    {
     "name": "stderr",
     "output_type": "stream",
     "text": [
      "/Users/naoki/.pyenv/versions/kyoutei2/lib/python3.8/site-packages/sklearn/metrics/_classification.py:1318: UndefinedMetricWarning: Precision and F-score are ill-defined and being set to 0.0 in labels with no predicted samples. Use `zero_division` parameter to control this behavior.\n",
      "  _warn_prf(average, modifier, msg_start, len(result))\n",
      "/Users/naoki/.pyenv/versions/kyoutei2/lib/python3.8/site-packages/sklearn/metrics/_classification.py:1318: UndefinedMetricWarning: Precision and F-score are ill-defined and being set to 0.0 in labels with no predicted samples. Use `zero_division` parameter to control this behavior.\n",
      "  _warn_prf(average, modifier, msg_start, len(result))\n",
      "/Users/naoki/.pyenv/versions/kyoutei2/lib/python3.8/site-packages/sklearn/metrics/_classification.py:1318: UndefinedMetricWarning: Precision and F-score are ill-defined and being set to 0.0 in labels with no predicted samples. Use `zero_division` parameter to control this behavior.\n",
      "  _warn_prf(average, modifier, msg_start, len(result))\n"
     ]
    }
   ],
   "source": [
    "print(classification_report(y_test, y_pred))"
   ],
   "metadata": {
    "collapsed": false,
    "pycharm": {
     "name": "#%%\n"
    }
   }
  },
  {
   "cell_type": "code",
   "execution_count": 10,
   "outputs": [
    {
     "data": {
      "text/plain": "2.3016759776536313"
     },
     "execution_count": 10,
     "metadata": {},
     "output_type": "execute_result"
    }
   ],
   "source": [
    "kane = 0\n",
    "tousi = 0\n",
    "for target ,pred_i, odds_i in zip(y_test, y_pred, odds):\n",
    "    if target == pred_i:\n",
    "        kane += odds_i * 100\n",
    "    tousi += 100\n",
    "\n",
    "\n",
    "kane / tousi"
   ],
   "metadata": {
    "collapsed": false,
    "pycharm": {
     "name": "#%%\n"
    }
   }
  },
  {
   "cell_type": "code",
   "execution_count": 10,
   "outputs": [],
   "source": [],
   "metadata": {
    "collapsed": false,
    "pycharm": {
     "name": "#%%\n"
    }
   }
  },
  {
   "cell_type": "code",
   "execution_count": 11,
   "outputs": [
    {
     "data": {
      "text/plain": "<AxesSubplot:xlabel='0'>"
     },
     "execution_count": 11,
     "metadata": {},
     "output_type": "execute_result"
    },
    {
     "data": {
      "text/plain": "<Figure size 432x288 with 1 Axes>",
      "image/png": "[encoded data removed]"
     },
     "metadata": {
      "needs_background": "light"
     },
     "output_type": "display_data"
    }
   ],
   "source": [
    "pd.DataFrame(y_pred).value_counts().plot(kind=\"bar\")"
   ],
   "metadata": {
    "collapsed": false,
    "pycharm": {
     "name": "#%%\n"
    }
   }
  },
  {
   "cell_type": "code",
   "execution_count": 13,
   "outputs": [
    {
     "data": {
      "text/plain": "<Figure size 432x288 with 1 Axes>",
      "image/png": "[encoded data removed]"
     },
     "metadata": {
      "needs_background": "light"
     },
     "output_type": "display_data"
    }
   ],
   "source": [
    "pd.DataFrame(y_test).value_counts().plot(kind=\"bar\")\n",
    "sm = SMOTE()\n",
    "x_resampled, y_resampled = sm.fit_resample(X_train, y_train)"
   ],
   "metadata": {
    "collapsed": false,
    "pycharm": {
     "name": "#%%\n"
    }
   }
  },
  {
   "cell_type": "code",
   "execution_count": 15,
   "outputs": [
    {
     "data": {
      "text/plain": "(4266, 60)"
     },
     "execution_count": 15,
     "metadata": {},
     "output_type": "execute_result"
    }
   ],
   "source": [
    "x_resampled.shape"
   ],
   "metadata": {
    "collapsed": false,
    "pycharm": {
     "name": "#%%\n"
    }
   }
  },
  {
   "cell_type": "code",
   "execution_count": 16,
   "outputs": [
    {
     "data": {
      "text/plain": "(4266,)"
     },
     "execution_count": 16,
     "metadata": {},
     "output_type": "execute_result"
    }
   ],
   "source": [
    "\n",
    "y_resampled.shape"
   ],
   "metadata": {
    "collapsed": false,
    "pycharm": {
     "name": "#%%\n"
    }
   }
  },
  {
   "cell_type": "code",
   "execution_count": 17,
   "outputs": [
    {
     "data": {
      "text/plain": "(1431, 60)"
     },
     "execution_count": 17,
     "metadata": {},
     "output_type": "execute_result"
    }
   ],
   "source": [
    "X_train.shape"
   ],
   "metadata": {
    "collapsed": false,
    "pycharm": {
     "name": "#%%\n"
    }
   }
  },
  {
   "cell_type": "code",
   "execution_count": 18,
   "outputs": [
    {
     "data": {
      "text/plain": "<AxesSubplot:xlabel='0'>"
     },
     "execution_count": 18,
     "metadata": {},
     "output_type": "execute_result"
    },
    {
     "data": {
      "text/plain": "<Figure size 432x288 with 1 Axes>",
      "image/png": "[encoded data removed]"
     },
     "metadata": {
      "needs_background": "light"
     },
     "output_type": "display_data"
    }
   ],
   "source": [
    "pd.DataFrame(y_resampled).value_counts().plot(kind=\"bar\")"
   ],
   "metadata": {
    "collapsed": false,
    "pycharm": {
     "name": "#%%\n"
    }
   }
  },
  {
   "cell_type": "code",
   "execution_count": null,
   "outputs": [],
   "source": [],
   "metadata": {
    "collapsed": false,
    "pycharm": {
     "name": "#%%\n"
    }
   }
  }
 ],
 "metadata": {
  "kernelspec": {
   "display_name": "Python 3",
   "language": "python",
   "name": "python3"
  },
  "language_info": {
   "codemirror_mode": {
    "name": "ipython",
    "version": 2
   },
   "file_extension": ".py",
   "mimetype": "text/x-python",
   "name": "python",
   "nbconvert_exporter": "python",
   "pygments_lexer": "ipython2",
   "version": "2.7.6"
  }
 },
 "nbformat": 4,
 "nbformat_minor": 0
}