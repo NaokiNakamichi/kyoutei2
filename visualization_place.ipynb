{
 "cells": [
  {
   "cell_type": "code",
   "execution_count": 27,
   "metadata": {
    "collapsed": true,
    "pycharm": {
     "name": "#%%\n"
    }
   },
   "outputs": [
    {
     "data": {
      "text/plain": "24"
     },
     "execution_count": 27,
     "metadata": {},
     "output_type": "execute_result"
    }
   ],
   "source": [
    "import matplotlib.pyplot as plt\n",
    "import pandas as pd\n",
    "import numpy as np\n",
    "import glob\n",
    "\n",
    "files = glob.glob(\"dataset/place/*\")\n",
    "len(files)"
   ]
  },
  {
   "cell_type": "code",
   "execution_count": 28,
   "outputs": [
    {
     "data": {
      "text/plain": "'dataset/place/戸田.csv'"
     },
     "execution_count": 28,
     "metadata": {},
     "output_type": "execute_result"
    }
   ],
   "source": [
    "files[0]"
   ],
   "metadata": {
    "collapsed": false,
    "pycharm": {
     "name": "#%%\n"
    }
   }
  },
  {
   "cell_type": "code",
   "execution_count": 29,
   "outputs": [],
   "source": [
    "sample_place_df = pd.read_csv(files[0], index_col=0)"
   ],
   "metadata": {
    "collapsed": false,
    "pycharm": {
     "name": "#%%\n"
    }
   }
  },
  {
   "cell_type": "code",
   "execution_count": 31,
   "outputs": [
    {
     "data": {
      "text/plain": "               day  place_cd      race_no     distance      toban_1  \\\ncount  5265.000000    5265.0  5265.000000  5265.000000  5265.000000   \nmean      3.079962       2.0     6.484141  1784.045584  4183.920418   \nstd       1.562729       0.0     3.452702    96.539507   557.619869   \nmin       1.000000       2.0     1.000000  1200.000000  2014.000000   \n25%       2.000000       2.0     3.000000  1800.000000  3740.000000   \n50%       3.000000       2.0     6.000000  1800.000000  4188.000000   \n75%       4.000000       2.0     9.000000  1800.000000  4641.000000   \nmax       7.000000       2.0    12.000000  1800.000000  5173.000000   \n\n           toban_2      toban_3      toban_4      toban_5      toban_6  ...  \\\ncount  5265.000000  5265.000000  5265.000000  5265.000000  5265.000000  ...   \nmean   4191.694777  4184.501804  4236.727825  4275.565052  4318.403609  ...   \nstd     574.332655   566.149762   585.305404   602.096760   605.575661  ...   \nmin    2014.000000  2014.000000  2014.000000  2014.000000  2014.000000  ...   \n25%    3722.000000  3730.000000  3778.000000  3807.000000  3857.000000  ...   \n50%    4191.000000  4181.000000  4230.000000  4276.000000  4358.000000  ...   \n75%    4700.000000  4664.000000  4761.000000  4826.000000  4887.000000  ...   \nmax    5173.000000  5173.000000  5201.000000  5231.000000  5231.000000  ...   \n\n           odds_3t      odds_3f   poprank_2t   poprank_2f   poprank_w1  \\\ncount  5265.000000  5265.000000  5265.000000  5265.000000  5265.000000   \nmean     75.335518    13.267958     6.592593     3.886610     4.135992   \nstd     123.512189    15.287182     6.080437     3.147142     3.272590   \nmin       2.000000     1.000000     1.000000     1.000000     1.000000   \n25%      18.200000     4.600000     2.000000     1.000000     2.000000   \n50%      36.100000     7.900000     4.000000     3.000000     3.000000   \n75%      80.200000    15.600000     9.000000     5.000000     6.000000   \nmax    2413.700000   210.400000    30.000000    15.000000    15.000000   \n\n        poprank_w2   poprank_w3   poprank_3t   poprank_3f     wakunari  \ncount  5265.000000  5265.000000  5265.000000  5265.000000  5265.000000  \nmean      5.039506     6.543210    21.988034     5.217854     0.779297  \nstd       3.559412     3.845329    23.489482     4.476788     0.414760  \nmin       1.000000     1.000000     1.000000     1.000000     0.000000  \n25%       2.000000     3.000000     5.000000     2.000000     1.000000  \n50%       4.000000     6.000000    13.000000     4.000000     1.000000  \n75%       7.000000     9.000000    31.000000     7.000000     1.000000  \nmax      15.000000    15.000000   120.000000    20.000000     1.000000  \n\n[8 rows x 66 columns]",
      "text/html": "<div>\n<style scoped>\n    .dataframe tbody tr th:only-of-type {\n        vertical-align: middle;\n    }\n\n    .dataframe tbody tr th {\n        vertical-align: top;\n    }\n\n    .dataframe thead th {\n        text-align: right;\n    }\n</style>\n<table border=\"1\" class=\"dataframe\">\n  <thead>\n    <tr style=\"text-align: right;\">\n      <th></th>\n      <th>day</th>\n      <th>place_cd</th>\n      <th>race_no</th>\n      <th>distance</th>\n      <th>toban_1</th>\n      <th>toban_2</th>\n      <th>toban_3</th>\n      <th>toban_4</th>\n      <th>toban_5</th>\n      <th>toban_6</th>\n      <th>...</th>\n      <th>odds_3t</th>\n      <th>odds_3f</th>\n      <th>poprank_2t</th>\n      <th>poprank_2f</th>\n      <th>poprank_w1</th>\n      <th>poprank_w2</th>\n      <th>poprank_w3</th>\n      <th>poprank_3t</th>\n      <th>poprank_3f</th>\n      <th>wakunari</th>\n    </tr>\n  </thead>\n  <tbody>\n    <tr>\n      <th>count</th>\n      <td>5265.000000</td>\n      <td>5265.0</td>\n      <td>5265.000000</td>\n      <td>5265.000000</td>\n      <td>5265.000000</td>\n      <td>5265.000000</td>\n      <td>5265.000000</td>\n      <td>5265.000000</td>\n      <td>5265.000000</td>\n      <td>5265.000000</td>\n      <td>...</td>\n      <td>5265.000000</td>\n      <td>5265.000000</td>\n      <td>5265.000000</td>\n      <td>5265.000000</td>\n      <td>5265.000000</td>\n      <td>5265.000000</td>\n      <td>5265.000000</td>\n      <td>5265.000000</td>\n      <td>5265.000000</td>\n      <td>5265.000000</td>\n    </tr>\n    <tr>\n      <th>mean</th>\n      <td>3.079962</td>\n      <td>2.0</td>\n      <td>6.484141</td>\n      <td>1784.045584</td>\n      <td>4183.920418</td>\n      <td>4191.694777</td>\n      <td>4184.501804</td>\n      <td>4236.727825</td>\n      <td>4275.565052</td>\n      <td>4318.403609</td>\n      <td>...</td>\n      <td>75.335518</td>\n      <td>13.267958</td>\n      <td>6.592593</td>\n      <td>3.886610</td>\n      <td>4.135992</td>\n      <td>5.039506</td>\n      <td>6.543210</td>\n      <td>21.988034</td>\n      <td>5.217854</td>\n      <td>0.779297</td>\n    </tr>\n    <tr>\n      <th>std</th>\n      <td>1.562729</td>\n      <td>0.0</td>\n      <td>3.452702</td>\n      <td>96.539507</td>\n      <td>557.619869</td>\n      <td>574.332655</td>\n      <td>566.149762</td>\n      <td>585.305404</td>\n      <td>602.096760</td>\n      <td>605.575661</td>\n      <td>...</td>\n      <td>123.512189</td>\n      <td>15.287182</td>\n      <td>6.080437</td>\n      <td>3.147142</td>\n      <td>3.272590</td>\n      <td>3.559412</td>\n      <td>3.845329</td>\n      <td>23.489482</td>\n      <td>4.476788</td>\n      <td>0.414760</td>\n    </tr>\n    <tr>\n      <th>min</th>\n      <td>1.000000</td>\n      <td>2.0</td>\n      <td>1.000000</td>\n      <td>1200.000000</td>\n      <td>2014.000000</td>\n      <td>2014.000000</td>\n      <td>2014.000000</td>\n      <td>2014.000000</td>\n      <td>2014.000000</td>\n      <td>2014.000000</td>\n      <td>...</td>\n      <td>2.000000</td>\n      <td>1.000000</td>\n      <td>1.000000</td>\n      <td>1.000000</td>\n      <td>1.000000</td>\n      <td>1.000000</td>\n      <td>1.000000</td>\n      <td>1.000000</td>\n      <td>1.000000</td>\n      <td>0.000000</td>\n    </tr>\n    <tr>\n      <th>25%</th>\n      <td>2.000000</td>\n      <td>2.0</td>\n      <td>3.000000</td>\n      <td>1800.000000</td>\n      <td>3740.000000</td>\n      <td>3722.000000</td>\n      <td>3730.000000</td>\n      <td>3778.000000</td>\n      <td>3807.000000</td>\n      <td>3857.000000</td>\n      <td>...</td>\n      <td>18.200000</td>\n      <td>4.600000</td>\n      <td>2.000000</td>\n      <td>1.000000</td>\n      <td>2.000000</td>\n      <td>2.000000</td>\n      <td>3.000000</td>\n      <td>5.000000</td>\n      <td>2.000000</td>\n      <td>1.000000</td>\n    </tr>\n    <tr>\n      <th>50%</th>\n      <td>3.000000</td>\n      <td>2.0</td>\n      <td>6.000000</td>\n      <td>1800.000000</td>\n      <td>4188.000000</td>\n      <td>4191.000000</td>\n      <td>4181.000000</td>\n      <td>4230.000000</td>\n      <td>4276.000000</td>\n      <td>4358.000000</td>\n      <td>...</td>\n      <td>36.100000</td>\n      <td>7.900000</td>\n      <td>4.000000</td>\n      <td>3.000000</td>\n      <td>3.000000</td>\n      <td>4.000000</td>\n      <td>6.000000</td>\n      <td>13.000000</td>\n      <td>4.000000</td>\n      <td>1.000000</td>\n    </tr>\n    <tr>\n      <th>75%</th>\n      <td>4.000000</td>\n      <td>2.0</td>\n      <td>9.000000</td>\n      <td>1800.000000</td>\n      <td>4641.000000</td>\n      <td>4700.000000</td>\n      <td>4664.000000</td>\n      <td>4761.000000</td>\n      <td>4826.000000</td>\n      <td>4887.000000</td>\n      <td>...</td>\n      <td>80.200000</td>\n      <td>15.600000</td>\n      <td>9.000000</td>\n      <td>5.000000</td>\n      <td>6.000000</td>\n      <td>7.000000</td>\n      <td>9.000000</td>\n      <td>31.000000</td>\n      <td>7.000000</td>\n      <td>1.000000</td>\n    </tr>\n    <tr>\n      <th>max</th>\n      <td>7.000000</td>\n      <td>2.0</td>\n      <td>12.000000</td>\n      <td>1800.000000</td>\n      <td>5173.000000</td>\n      <td>5173.000000</td>\n      <td>5173.000000</td>\n      <td>5201.000000</td>\n      <td>5231.000000</td>\n      <td>5231.000000</td>\n      <td>...</td>\n      <td>2413.700000</td>\n      <td>210.400000</td>\n      <td>30.000000</td>\n      <td>15.000000</td>\n      <td>15.000000</td>\n      <td>15.000000</td>\n      <td>15.000000</td>\n      <td>120.000000</td>\n      <td>20.000000</td>\n      <td>1.000000</td>\n    </tr>\n  </tbody>\n</table>\n<p>8 rows × 66 columns</p>\n</div>"
     },
     "execution_count": 31,
     "metadata": {},
     "output_type": "execute_result"
    }
   ],
   "source": [],
   "metadata": {
    "collapsed": false,
    "pycharm": {
     "name": "#%%\n"
    }
   }
  },
  {
   "cell_type": "code",
   "execution_count": null,
   "outputs": [],
   "source": [],
   "metadata": {
    "collapsed": false,
    "pycharm": {
     "name": "#%%\n"
    }
   }
  }
 ],
 "metadata": {
  "kernelspec": {
   "display_name": "Python 3",
   "language": "python",
   "name": "python3"
  },
  "language_info": {
   "codemirror_mode": {
    "name": "ipython",
    "version": 2
   },
   "file_extension": ".py",
   "mimetype": "text/x-python",
   "name": "python",
   "nbconvert_exporter": "python",
   "pygments_lexer": "ipython2",
   "version": "2.7.6"
  }
 },
 "nbformat": 4,
 "nbformat_minor": 0
}