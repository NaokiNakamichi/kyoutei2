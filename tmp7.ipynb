{
 "cells": [
  {
   "cell_type": "code",
   "execution_count": 1,
   "metadata": {
    "collapsed": true
   },
   "outputs": [],
   "source": [
    "\n",
    "from bs4 import BeautifulSoup\n",
    "\n",
    "# HTTP通信ライブラリの requests モジュールから get をインポート\n",
    "from requests import get\n",
    "\n",
    "# 時間を制御する time モジュールから sleep をインポート\n",
    "from time import sleep\n",
    "\n",
    "# OSの機能を利用するパッケージ os をインポート\n",
    "import os"
   ]
  },
  {
   "cell_type": "code",
   "execution_count": 8,
   "outputs": [],
   "source": [
    "# URLの固定部分を指定\n",
    "FIXED_URL = \"https://www.boatrace.jp/owpc/pc/race/odds\"\n",
    "\n",
    "# 舟券種別を指定\n",
    "BET_TYPE = \"tf\"\n",
    "date = '20210331'\n",
    "place_cd = 18\n",
    "race_no = 2\n",
    "# リクエスト間隔を指定(秒)　※サーバに負荷をかけないよう3秒以上を推奨\n",
    "target_url = FIXED_URL + BET_TYPE + \"?rno=\" + str(race_no) \\\n",
    "                     + \"&jcd=\" + str(place_cd) + \"&hd=\" + date"
   ],
   "metadata": {
    "collapsed": false,
    "pycharm": {
     "name": "#%%\n"
    }
   }
  },
  {
   "cell_type": "code",
   "execution_count": 16,
   "outputs": [],
   "source": [
    "def get_odds(target_url):\n",
    "    # BeautifulSoupにWebサイトのコンテンツを渡す\n",
    "    html = get(target_url)\n",
    "    soup = BeautifulSoup(html.content, 'html.parser')\n",
    "    target_table_selector = \"body > main > div > div > div > div.contentsFrame1_inner > div.grid.is-type2.h-clear > div:nth-child(1) > div.table1 > table\"\n",
    "    odds_table = soup.select_one(target_table_selector)\n",
    "    print(type(odds_table))\n",
    "    return odds_table"
   ],
   "metadata": {
    "collapsed": false,
    "pycharm": {
     "name": "#%%\n"
    }
   }
  },
  {
   "cell_type": "code",
   "execution_count": 17,
   "outputs": [
    {
     "name": "stdout",
     "output_type": "stream",
     "text": [
      "<class 'bs4.element.Tag'>\n"
     ]
    }
   ],
   "source": [
    "hoge = get_odds(target_url)"
   ],
   "metadata": {
    "collapsed": false,
    "pycharm": {
     "name": "#%%\n"
    }
   }
  },
  {
   "cell_type": "code",
   "execution_count": 19,
   "outputs": [
    {
     "name": "stdout",
     "output_type": "stream",
     "text": [
      "\n",
      "\n",
      "<colgroup span=\"1\" style=\"width: 44px;\"></colgroup>\n",
      "\n",
      "\n",
      "<colgroup span=\"1\" style=\"width: 225px;\"></colgroup>\n",
      "\n",
      "\n",
      "<colgroup span=\"1\" style=\"width: 224px;\"></colgroup>\n",
      "\n",
      "\n",
      "<thead>\n",
      "<tr class=\"is-fs14\">\n",
      "<th> </th>\n",
      "<th>ボートレーサー</th>\n",
      "<th>単勝オッズ</th>\n",
      "</tr>\n",
      "</thead>\n",
      "\n",
      "\n",
      "<tbody>\n",
      "<tr>\n",
      "<td class=\"is-fs14 is-fBold is-boatColor1\">1</td>\n",
      "<td class=\"is-p20-0\"><span class=\"is-fs18 is-fBold\">山口　　高志</span></td>\n",
      "<td class=\"oddsPoint\">1.9</td>\n",
      "</tr>\n",
      "</tbody>\n",
      "\n",
      "\n",
      "<tbody>\n",
      "<tr>\n",
      "<td class=\"is-fs14 is-fBold is-boatColor2\">2</td>\n",
      "<td class=\"is-p20-0\"><span class=\"is-fs18 is-fBold\">宮野　　　仁</span></td>\n",
      "<td class=\"oddsPoint\">4.4</td>\n",
      "</tr>\n",
      "</tbody>\n",
      "\n",
      "\n",
      "<tbody>\n",
      "<tr>\n",
      "<td class=\"is-fs14 is-fBold is-boatColor3\">3</td>\n",
      "<td class=\"is-p20-0\"><span class=\"is-fs18 is-fBold\">古場　　輝義</span></td>\n",
      "<td class=\"oddsPoint\">4.8</td>\n",
      "</tr>\n",
      "</tbody>\n",
      "\n",
      "\n",
      "<tbody>\n",
      "<tr>\n",
      "<td class=\"is-fs14 is-fBold is-boatColor4\">4</td>\n",
      "<td class=\"is-p20-0\"><span class=\"is-fs18 is-fBold\">正木　　聖賢</span></td>\n",
      "<td class=\"oddsPoint\">8.6</td>\n",
      "</tr>\n",
      "</tbody>\n",
      "\n",
      "\n",
      "<tbody>\n",
      "<tr>\n",
      "<td class=\"is-fs14 is-fBold is-boatColor5\">5</td>\n",
      "<td class=\"is-p20-0\"><span class=\"is-fs18 is-fBold\">島川　　海輝</span></td>\n",
      "<td class=\"oddsPoint\">40.2</td>\n",
      "</tr>\n",
      "</tbody>\n",
      "\n",
      "\n",
      "<tbody>\n",
      "<tr>\n",
      "<td class=\"is-fs14 is-fBold is-boatColor6\">6</td>\n",
      "<td class=\"is-p20-0\"><span class=\"is-fs18 is-fBold\">向井田　佑紀</span></td>\n",
      "<td class=\"oddsPoint\">3.8</td>\n",
      "</tr>\n",
      "</tbody>\n",
      "\n",
      "\n"
     ]
    }
   ],
   "source": [
    "for i in hoge:\n",
    "    print(i)"
   ],
   "metadata": {
    "collapsed": false,
    "pycharm": {
     "name": "#%%\n"
    }
   }
  },
  {
   "cell_type": "code",
   "execution_count": 35,
   "outputs": [],
   "source": [
    "before_odds = []\n",
    "for i in hoge.select(\"td.oddsPoint\"):\n",
    "    before_odds.append(i.text)"
   ],
   "metadata": {
    "collapsed": false,
    "pycharm": {
     "name": "#%%\n"
    }
   }
  },
  {
   "cell_type": "code",
   "execution_count": 40,
   "outputs": [],
   "source": [
    "hoge = [float(s) for s in before_odds]"
   ],
   "metadata": {
    "collapsed": false,
    "pycharm": {
     "name": "#%%\n"
    }
   }
  },
  {
   "cell_type": "code",
   "execution_count": 41,
   "outputs": [
    {
     "data": {
      "text/plain": "[1.9, 4.4, 4.8, 8.6, 40.2, 3.8]"
     },
     "execution_count": 41,
     "metadata": {},
     "output_type": "execute_result"
    }
   ],
   "source": [
    "hoge"
   ],
   "metadata": {
    "collapsed": false,
    "pycharm": {
     "name": "#%%\n"
    }
   }
  },
  {
   "cell_type": "code",
   "execution_count": null,
   "outputs": [],
   "source": [],
   "metadata": {
    "collapsed": false,
    "pycharm": {
     "name": "#%%\n"
    }
   }
  }
 ],
 "metadata": {
  "kernelspec": {
   "display_name": "Python 3",
   "language": "python",
   "name": "python3"
  },
  "language_info": {
   "codemirror_mode": {
    "name": "ipython",
    "version": 2
   },
   "file_extension": ".py",
   "mimetype": "text/x-python",
   "name": "python",
   "nbconvert_exporter": "python",
   "pygments_lexer": "ipython2",
   "version": "2.7.6"
  }
 },
 "nbformat": 4,
 "nbformat_minor": 0
}