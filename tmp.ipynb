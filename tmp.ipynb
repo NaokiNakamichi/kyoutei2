{
 "cells": [
  {
   "cell_type": "code",
   "execution_count": 11,
   "metadata": {
    "collapsed": true
   },
   "outputs": [],
   "source": [
    "%reload_ext autoreload\n",
    "%autoreload 2"
   ]
  },
  {
   "cell_type": "code",
   "execution_count": 12,
   "outputs": [],
   "source": [
    "import data_get\n",
    "import race_before_data\n",
    "from IPython.core.display import display"
   ],
   "metadata": {
    "collapsed": false,
    "pycharm": {
     "name": "#%%\n"
    }
   }
  },
  {
   "cell_type": "code",
   "execution_count": 8,
   "outputs": [],
   "source": [
    "date = '2021-03-28'\n",
    "data_get.download_file('results', date)\n",
    "df = data_get.get_results(date)"
   ],
   "metadata": {
    "collapsed": false,
    "pycharm": {
     "name": "#%%\n"
    }
   }
  },
  {
   "cell_type": "code",
   "execution_count": 14,
   "outputs": [],
   "source": [
    "df.to_csv(f\"outputs/{date}.csv\",encoding='utf_8_sig')"
   ],
   "metadata": {
    "collapsed": false,
    "pycharm": {
     "name": "#%%\n"
    }
   }
  },
  {
   "cell_type": "code",
   "execution_count": 6,
   "outputs": [
    {
     "name": "stdout",
     "output_type": "stream",
     "text": [
      "https://www.boatrace.jp/owpc/pc/race/beforeinfo?rno=1&jcd=22&hd=20210328\n",
      "date        2021-03-28\n",
      "place_cd            22\n",
      "race_no              1\n",
      "ET_1              6.99\n",
      "ET_2              7.02\n",
      "ET_3              7.03\n",
      "ET_4              6.96\n",
      "ET_5              6.88\n",
      "ET_6               6.9\n",
      "tilt_1            -0.5\n",
      "tilt_2             0.0\n",
      "tilt_3            -0.5\n",
      "tilt_4            -0.5\n",
      "tilt_5             0.0\n",
      "tilt_6            -0.5\n",
      "EST_1             0.01\n",
      "EST_2             0.13\n",
      "EST_3            -0.01\n",
      "EST_4            -0.01\n",
      "EST_5             0.01\n",
      "EST_6             0.09\n",
      "ESC_1                1\n",
      "ESC_2                2\n",
      "ESC_3                3\n",
      "ESC_4                4\n",
      "ESC_5                5\n",
      "ESC_6                6\n",
      "wether               晴\n",
      "air_t             18.0\n",
      "wind_d               8\n",
      "wind_v             4.0\n",
      "water_t           19.0\n",
      "wave_h             4.0\n",
      "dtype: object\n"
     ]
    }
   ],
   "source": [
    "date = '2021-03-28'\n",
    "place_cd = 22\n",
    "race_no = 1\n",
    "bi = race_before_data.get_beforeinfo(date, place_cd, race_no)\n",
    "print(bi)"
   ],
   "metadata": {
    "collapsed": false,
    "pycharm": {
     "name": "#%%\n"
    }
   }
  },
  {
   "cell_type": "code",
   "execution_count": 6,
   "outputs": [],
   "source": [],
   "metadata": {
    "collapsed": false,
    "pycharm": {
     "name": "#%%\n"
    }
   }
  }
 ],
 "metadata": {
  "kernelspec": {
   "display_name": "Python 3",
   "language": "python",
   "name": "python3"
  },
  "language_info": {
   "codemirror_mode": {
    "name": "ipython",
    "version": 2
   },
   "file_extension": ".py",
   "mimetype": "text/x-python",
   "name": "python",
   "nbconvert_exporter": "python",
   "pygments_lexer": "ipython2",
   "version": "2.7.6"
  }
 },
 "nbformat": 4,
 "nbformat_minor": 0
}