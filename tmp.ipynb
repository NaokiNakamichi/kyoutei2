{
 "cells": [
  {
   "cell_type": "code",
   "execution_count": 1,
   "metadata": {
    "collapsed": true
   },
   "outputs": [],
   "source": [
    "% reload_ext autoreload\n",
    "% autoreload 2"
   ]
  },
  {
   "cell_type": "code",
   "execution_count": 11,
   "outputs": [
    {
     "name": "stderr",
     "output_type": "stream",
     "text": [
      "/var/folders/s6/7jf_zlp94gg5cpb8c5lrx2j80000gn/T/ipykernel_2745/2158760200.py:4: DeprecationWarning: Importing display from IPython.core.display is deprecated since IPython 7.14, please import from IPython display\n",
      "  from IPython.core.display import display\n"
     ]
    }
   ],
   "source": [
    "import data_get\n",
    "import race_before_data\n",
    "import pandas as pd\n",
    "from IPython.core.display import display\n",
    "import glob"
   ],
   "metadata": {
    "collapsed": false,
    "pycharm": {
     "name": "#%%\n"
    }
   }
  },
  {
   "cell_type": "code",
   "execution_count": 4,
   "outputs": [],
   "source": [
    "date = '2021-03-28'\n",
    "data_get.download_file('results', date)\n",
    "df_result = data_get.get_results(date)\n",
    "\n",
    "df_result.to_csv(f\"dataset/rawdata_result/{date}_result.csv\", encoding='utf_8_sig')"
   ],
   "metadata": {
    "collapsed": false,
    "pycharm": {
     "name": "#%%\n"
    }
   }
  },
  {
   "cell_type": "code",
   "execution_count": 7,
   "outputs": [],
   "source": [
    "date = '2021-03-28'\n",
    "data_get.download_file('racelists', date)\n",
    "df_race = data_get.get_racelists(date)\n",
    "\n",
    "df_race.to_csv(f\"dataset/rawdata_syussouhyou/{date}_race_list.csv\", encoding='utf_8_sig')"
   ],
   "metadata": {
    "collapsed": false,
    "pycharm": {
     "name": "#%%\n"
    }
   }
  },
  {
   "cell_type": "code",
   "execution_count": 6,
   "outputs": [
    {
     "name": "stdout",
     "output_type": "stream",
     "text": [
      "https://www.boatrace.jp/owpc/pc/race/beforeinfo?rno=1&jcd=22&hd=20210328\n",
      "date        2021-03-28\n",
      "place_cd            22\n",
      "race_no              1\n",
      "ET_1              6.99\n",
      "ET_2              7.02\n",
      "ET_3              7.03\n",
      "ET_4              6.96\n",
      "ET_5              6.88\n",
      "ET_6               6.9\n",
      "tilt_1            -0.5\n",
      "tilt_2             0.0\n",
      "tilt_3            -0.5\n",
      "tilt_4            -0.5\n",
      "tilt_5             0.0\n",
      "tilt_6            -0.5\n",
      "EST_1             0.01\n",
      "EST_2             0.13\n",
      "EST_3            -0.01\n",
      "EST_4            -0.01\n",
      "EST_5             0.01\n",
      "EST_6             0.09\n",
      "ESC_1                1\n",
      "ESC_2                2\n",
      "ESC_3                3\n",
      "ESC_4                4\n",
      "ESC_5                5\n",
      "ESC_6                6\n",
      "wether               晴\n",
      "air_t             18.0\n",
      "wind_d               8\n",
      "wind_v             4.0\n",
      "water_t           19.0\n",
      "wave_h             4.0\n",
      "dtype: object\n"
     ]
    }
   ],
   "source": [
    "date = '2021-03-28'\n",
    "place_cd = 22\n",
    "race_no = 1\n",
    "bi = race_before_data.get_beforeinfo(date, place_cd, race_no)\n",
    "print(bi)"
   ],
   "metadata": {
    "collapsed": false,
    "pycharm": {
     "name": "#%%\n"
    }
   }
  },
  {
   "cell_type": "code",
   "execution_count": 8,
   "outputs": [
    {
     "ename": "ValueError",
     "evalue": "Cannot merge a Series without a name",
     "output_type": "error",
     "traceback": [
      "\u001B[0;31m---------------------------------------------------------------------------\u001B[0m",
      "\u001B[0;31mValueError\u001B[0m                                Traceback (most recent call last)",
      "Input \u001B[0;32mIn [8]\u001B[0m, in \u001B[0;36m<cell line: 1>\u001B[0;34m()\u001B[0m\n\u001B[0;32m----> 1\u001B[0m df \u001B[38;5;241m=\u001B[39m \u001B[43mdf_race\u001B[49m\u001B[38;5;241;43m.\u001B[39;49m\u001B[43mmerge\u001B[49m\u001B[43m(\u001B[49m\u001B[43mbi\u001B[49m\u001B[43m,\u001B[49m\u001B[43m \u001B[49m\u001B[43mon\u001B[49m\u001B[38;5;241;43m=\u001B[39;49m\u001B[43m[\u001B[49m\u001B[38;5;124;43m'\u001B[39;49m\u001B[38;5;124;43mdate\u001B[39;49m\u001B[38;5;124;43m'\u001B[39;49m\u001B[43m,\u001B[49m\u001B[43m \u001B[49m\u001B[38;5;124;43m'\u001B[39;49m\u001B[38;5;124;43mplace_cd\u001B[39;49m\u001B[38;5;124;43m'\u001B[39;49m\u001B[43m,\u001B[49m\u001B[43m \u001B[49m\u001B[38;5;124;43m'\u001B[39;49m\u001B[38;5;124;43mrace_no\u001B[39;49m\u001B[38;5;124;43m'\u001B[39;49m\u001B[43m]\u001B[49m\u001B[43m)\u001B[49m\n",
      "File \u001B[0;32m~/.pyenv/versions/kyoutei2/lib/python3.8/site-packages/pandas/core/frame.py:9339\u001B[0m, in \u001B[0;36mDataFrame.merge\u001B[0;34m(self, right, how, on, left_on, right_on, left_index, right_index, sort, suffixes, copy, indicator, validate)\u001B[0m\n\u001B[1;32m   9320\u001B[0m \u001B[38;5;129m@Substitution\u001B[39m(\u001B[38;5;124m\"\u001B[39m\u001B[38;5;124m\"\u001B[39m)\n\u001B[1;32m   9321\u001B[0m \u001B[38;5;129m@Appender\u001B[39m(_merge_doc, indents\u001B[38;5;241m=\u001B[39m\u001B[38;5;241m2\u001B[39m)\n\u001B[1;32m   9322\u001B[0m \u001B[38;5;28;01mdef\u001B[39;00m \u001B[38;5;21mmerge\u001B[39m(\n\u001B[0;32m   (...)\u001B[0m\n\u001B[1;32m   9335\u001B[0m     validate: \u001B[38;5;28mstr\u001B[39m \u001B[38;5;241m|\u001B[39m \u001B[38;5;28;01mNone\u001B[39;00m \u001B[38;5;241m=\u001B[39m \u001B[38;5;28;01mNone\u001B[39;00m,\n\u001B[1;32m   9336\u001B[0m ) \u001B[38;5;241m-\u001B[39m\u001B[38;5;241m>\u001B[39m DataFrame:\n\u001B[1;32m   9337\u001B[0m     \u001B[38;5;28;01mfrom\u001B[39;00m \u001B[38;5;21;01mpandas\u001B[39;00m\u001B[38;5;21;01m.\u001B[39;00m\u001B[38;5;21;01mcore\u001B[39;00m\u001B[38;5;21;01m.\u001B[39;00m\u001B[38;5;21;01mreshape\u001B[39;00m\u001B[38;5;21;01m.\u001B[39;00m\u001B[38;5;21;01mmerge\u001B[39;00m \u001B[38;5;28;01mimport\u001B[39;00m merge\n\u001B[0;32m-> 9339\u001B[0m     \u001B[38;5;28;01mreturn\u001B[39;00m \u001B[43mmerge\u001B[49m\u001B[43m(\u001B[49m\n\u001B[1;32m   9340\u001B[0m \u001B[43m        \u001B[49m\u001B[38;5;28;43mself\u001B[39;49m\u001B[43m,\u001B[49m\n\u001B[1;32m   9341\u001B[0m \u001B[43m        \u001B[49m\u001B[43mright\u001B[49m\u001B[43m,\u001B[49m\n\u001B[1;32m   9342\u001B[0m \u001B[43m        \u001B[49m\u001B[43mhow\u001B[49m\u001B[38;5;241;43m=\u001B[39;49m\u001B[43mhow\u001B[49m\u001B[43m,\u001B[49m\n\u001B[1;32m   9343\u001B[0m \u001B[43m        \u001B[49m\u001B[43mon\u001B[49m\u001B[38;5;241;43m=\u001B[39;49m\u001B[43mon\u001B[49m\u001B[43m,\u001B[49m\n\u001B[1;32m   9344\u001B[0m \u001B[43m        \u001B[49m\u001B[43mleft_on\u001B[49m\u001B[38;5;241;43m=\u001B[39;49m\u001B[43mleft_on\u001B[49m\u001B[43m,\u001B[49m\n\u001B[1;32m   9345\u001B[0m \u001B[43m        \u001B[49m\u001B[43mright_on\u001B[49m\u001B[38;5;241;43m=\u001B[39;49m\u001B[43mright_on\u001B[49m\u001B[43m,\u001B[49m\n\u001B[1;32m   9346\u001B[0m \u001B[43m        \u001B[49m\u001B[43mleft_index\u001B[49m\u001B[38;5;241;43m=\u001B[39;49m\u001B[43mleft_index\u001B[49m\u001B[43m,\u001B[49m\n\u001B[1;32m   9347\u001B[0m \u001B[43m        \u001B[49m\u001B[43mright_index\u001B[49m\u001B[38;5;241;43m=\u001B[39;49m\u001B[43mright_index\u001B[49m\u001B[43m,\u001B[49m\n\u001B[1;32m   9348\u001B[0m \u001B[43m        \u001B[49m\u001B[43msort\u001B[49m\u001B[38;5;241;43m=\u001B[39;49m\u001B[43msort\u001B[49m\u001B[43m,\u001B[49m\n\u001B[1;32m   9349\u001B[0m \u001B[43m        \u001B[49m\u001B[43msuffixes\u001B[49m\u001B[38;5;241;43m=\u001B[39;49m\u001B[43msuffixes\u001B[49m\u001B[43m,\u001B[49m\n\u001B[1;32m   9350\u001B[0m \u001B[43m        \u001B[49m\u001B[43mcopy\u001B[49m\u001B[38;5;241;43m=\u001B[39;49m\u001B[43mcopy\u001B[49m\u001B[43m,\u001B[49m\n\u001B[1;32m   9351\u001B[0m \u001B[43m        \u001B[49m\u001B[43mindicator\u001B[49m\u001B[38;5;241;43m=\u001B[39;49m\u001B[43mindicator\u001B[49m\u001B[43m,\u001B[49m\n\u001B[1;32m   9352\u001B[0m \u001B[43m        \u001B[49m\u001B[43mvalidate\u001B[49m\u001B[38;5;241;43m=\u001B[39;49m\u001B[43mvalidate\u001B[49m\u001B[43m,\u001B[49m\n\u001B[1;32m   9353\u001B[0m \u001B[43m    \u001B[49m\u001B[43m)\u001B[49m\n",
      "File \u001B[0;32m~/.pyenv/versions/kyoutei2/lib/python3.8/site-packages/pandas/core/reshape/merge.py:107\u001B[0m, in \u001B[0;36mmerge\u001B[0;34m(left, right, how, on, left_on, right_on, left_index, right_index, sort, suffixes, copy, indicator, validate)\u001B[0m\n\u001B[1;32m     90\u001B[0m \u001B[38;5;129m@Substitution\u001B[39m(\u001B[38;5;124m\"\u001B[39m\u001B[38;5;130;01m\\n\u001B[39;00m\u001B[38;5;124mleft : DataFrame or named Series\u001B[39m\u001B[38;5;124m\"\u001B[39m)\n\u001B[1;32m     91\u001B[0m \u001B[38;5;129m@Appender\u001B[39m(_merge_doc, indents\u001B[38;5;241m=\u001B[39m\u001B[38;5;241m0\u001B[39m)\n\u001B[1;32m     92\u001B[0m \u001B[38;5;28;01mdef\u001B[39;00m \u001B[38;5;21mmerge\u001B[39m(\n\u001B[0;32m   (...)\u001B[0m\n\u001B[1;32m    105\u001B[0m     validate: \u001B[38;5;28mstr\u001B[39m \u001B[38;5;241m|\u001B[39m \u001B[38;5;28;01mNone\u001B[39;00m \u001B[38;5;241m=\u001B[39m \u001B[38;5;28;01mNone\u001B[39;00m,\n\u001B[1;32m    106\u001B[0m ) \u001B[38;5;241m-\u001B[39m\u001B[38;5;241m>\u001B[39m DataFrame:\n\u001B[0;32m--> 107\u001B[0m     op \u001B[38;5;241m=\u001B[39m \u001B[43m_MergeOperation\u001B[49m\u001B[43m(\u001B[49m\n\u001B[1;32m    108\u001B[0m \u001B[43m        \u001B[49m\u001B[43mleft\u001B[49m\u001B[43m,\u001B[49m\n\u001B[1;32m    109\u001B[0m \u001B[43m        \u001B[49m\u001B[43mright\u001B[49m\u001B[43m,\u001B[49m\n\u001B[1;32m    110\u001B[0m \u001B[43m        \u001B[49m\u001B[43mhow\u001B[49m\u001B[38;5;241;43m=\u001B[39;49m\u001B[43mhow\u001B[49m\u001B[43m,\u001B[49m\n\u001B[1;32m    111\u001B[0m \u001B[43m        \u001B[49m\u001B[43mon\u001B[49m\u001B[38;5;241;43m=\u001B[39;49m\u001B[43mon\u001B[49m\u001B[43m,\u001B[49m\n\u001B[1;32m    112\u001B[0m \u001B[43m        \u001B[49m\u001B[43mleft_on\u001B[49m\u001B[38;5;241;43m=\u001B[39;49m\u001B[43mleft_on\u001B[49m\u001B[43m,\u001B[49m\n\u001B[1;32m    113\u001B[0m \u001B[43m        \u001B[49m\u001B[43mright_on\u001B[49m\u001B[38;5;241;43m=\u001B[39;49m\u001B[43mright_on\u001B[49m\u001B[43m,\u001B[49m\n\u001B[1;32m    114\u001B[0m \u001B[43m        \u001B[49m\u001B[43mleft_index\u001B[49m\u001B[38;5;241;43m=\u001B[39;49m\u001B[43mleft_index\u001B[49m\u001B[43m,\u001B[49m\n\u001B[1;32m    115\u001B[0m \u001B[43m        \u001B[49m\u001B[43mright_index\u001B[49m\u001B[38;5;241;43m=\u001B[39;49m\u001B[43mright_index\u001B[49m\u001B[43m,\u001B[49m\n\u001B[1;32m    116\u001B[0m \u001B[43m        \u001B[49m\u001B[43msort\u001B[49m\u001B[38;5;241;43m=\u001B[39;49m\u001B[43msort\u001B[49m\u001B[43m,\u001B[49m\n\u001B[1;32m    117\u001B[0m \u001B[43m        \u001B[49m\u001B[43msuffixes\u001B[49m\u001B[38;5;241;43m=\u001B[39;49m\u001B[43msuffixes\u001B[49m\u001B[43m,\u001B[49m\n\u001B[1;32m    118\u001B[0m \u001B[43m        \u001B[49m\u001B[43mcopy\u001B[49m\u001B[38;5;241;43m=\u001B[39;49m\u001B[43mcopy\u001B[49m\u001B[43m,\u001B[49m\n\u001B[1;32m    119\u001B[0m \u001B[43m        \u001B[49m\u001B[43mindicator\u001B[49m\u001B[38;5;241;43m=\u001B[39;49m\u001B[43mindicator\u001B[49m\u001B[43m,\u001B[49m\n\u001B[1;32m    120\u001B[0m \u001B[43m        \u001B[49m\u001B[43mvalidate\u001B[49m\u001B[38;5;241;43m=\u001B[39;49m\u001B[43mvalidate\u001B[49m\u001B[43m,\u001B[49m\n\u001B[1;32m    121\u001B[0m \u001B[43m    \u001B[49m\u001B[43m)\u001B[49m\n\u001B[1;32m    122\u001B[0m     \u001B[38;5;28;01mreturn\u001B[39;00m op\u001B[38;5;241m.\u001B[39mget_result()\n",
      "File \u001B[0;32m~/.pyenv/versions/kyoutei2/lib/python3.8/site-packages/pandas/core/reshape/merge.py:629\u001B[0m, in \u001B[0;36m_MergeOperation.__init__\u001B[0;34m(self, left, right, how, on, left_on, right_on, axis, left_index, right_index, sort, suffixes, copy, indicator, validate)\u001B[0m\n\u001B[1;32m    611\u001B[0m \u001B[38;5;28;01mdef\u001B[39;00m \u001B[38;5;21m__init__\u001B[39m(\n\u001B[1;32m    612\u001B[0m     \u001B[38;5;28mself\u001B[39m,\n\u001B[1;32m    613\u001B[0m     left: DataFrame \u001B[38;5;241m|\u001B[39m Series,\n\u001B[0;32m   (...)\u001B[0m\n\u001B[1;32m    626\u001B[0m     validate: \u001B[38;5;28mstr\u001B[39m \u001B[38;5;241m|\u001B[39m \u001B[38;5;28;01mNone\u001B[39;00m \u001B[38;5;241m=\u001B[39m \u001B[38;5;28;01mNone\u001B[39;00m,\n\u001B[1;32m    627\u001B[0m ):\n\u001B[1;32m    628\u001B[0m     _left \u001B[38;5;241m=\u001B[39m _validate_operand(left)\n\u001B[0;32m--> 629\u001B[0m     _right \u001B[38;5;241m=\u001B[39m \u001B[43m_validate_operand\u001B[49m\u001B[43m(\u001B[49m\u001B[43mright\u001B[49m\u001B[43m)\u001B[49m\n\u001B[1;32m    630\u001B[0m     \u001B[38;5;28mself\u001B[39m\u001B[38;5;241m.\u001B[39mleft \u001B[38;5;241m=\u001B[39m \u001B[38;5;28mself\u001B[39m\u001B[38;5;241m.\u001B[39morig_left \u001B[38;5;241m=\u001B[39m _left\n\u001B[1;32m    631\u001B[0m     \u001B[38;5;28mself\u001B[39m\u001B[38;5;241m.\u001B[39mright \u001B[38;5;241m=\u001B[39m \u001B[38;5;28mself\u001B[39m\u001B[38;5;241m.\u001B[39morig_right \u001B[38;5;241m=\u001B[39m _right\n",
      "File \u001B[0;32m~/.pyenv/versions/kyoutei2/lib/python3.8/site-packages/pandas/core/reshape/merge.py:2277\u001B[0m, in \u001B[0;36m_validate_operand\u001B[0;34m(obj)\u001B[0m\n\u001B[1;32m   2275\u001B[0m \u001B[38;5;28;01melif\u001B[39;00m \u001B[38;5;28misinstance\u001B[39m(obj, ABCSeries):\n\u001B[1;32m   2276\u001B[0m     \u001B[38;5;28;01mif\u001B[39;00m obj\u001B[38;5;241m.\u001B[39mname \u001B[38;5;129;01mis\u001B[39;00m \u001B[38;5;28;01mNone\u001B[39;00m:\n\u001B[0;32m-> 2277\u001B[0m         \u001B[38;5;28;01mraise\u001B[39;00m \u001B[38;5;167;01mValueError\u001B[39;00m(\u001B[38;5;124m\"\u001B[39m\u001B[38;5;124mCannot merge a Series without a name\u001B[39m\u001B[38;5;124m\"\u001B[39m)\n\u001B[1;32m   2278\u001B[0m     \u001B[38;5;28;01melse\u001B[39;00m:\n\u001B[1;32m   2279\u001B[0m         \u001B[38;5;28;01mreturn\u001B[39;00m obj\u001B[38;5;241m.\u001B[39mto_frame()\n",
      "\u001B[0;31mValueError\u001B[0m: Cannot merge a Series without a name"
     ]
    }
   ],
   "source": [
    "\n",
    "\n",
    "\n",
    "df = df_race.merge(bi, on=['date', 'place_cd', 'race_no'])"
   ],
   "metadata": {
    "collapsed": false,
    "pycharm": {
     "name": "#%%\n"
    }
   }
  },
  {
   "cell_type": "code",
   "execution_count": 9,
   "outputs": [
    {
     "data": {
      "text/plain": "date        2021-03-28\nplace_cd            22\nrace_no              1\nET_1              6.99\nET_2              7.02\nET_3              7.03\nET_4              6.96\nET_5              6.88\nET_6               6.9\ntilt_1            -0.5\ntilt_2             0.0\ntilt_3            -0.5\ntilt_4            -0.5\ntilt_5             0.0\ntilt_6            -0.5\nEST_1             0.01\nEST_2             0.13\nEST_3            -0.01\nEST_4            -0.01\nEST_5             0.01\nEST_6             0.09\nESC_1                1\nESC_2                2\nESC_3                3\nESC_4                4\nESC_5                5\nESC_6                6\nwether               晴\nair_t             18.0\nwind_d               8\nwind_v             4.0\nwater_t           19.0\nwave_h             4.0\ndtype: object"
     },
     "execution_count": 9,
     "metadata": {},
     "output_type": "execute_result"
    }
   ],
   "source": [],
   "metadata": {
    "collapsed": false,
    "pycharm": {
     "name": "#%%\n"
    }
   }
  },
  {
   "cell_type": "code",
   "execution_count": 31,
   "outputs": [
    {
     "data": {
      "text/plain": "12"
     },
     "execution_count": 31,
     "metadata": {},
     "output_type": "execute_result"
    }
   ],
   "source": [],
   "metadata": {
    "collapsed": false,
    "pycharm": {
     "name": "#%%\n"
    }
   }
  },
  {
   "cell_type": "code",
   "execution_count": 33,
   "outputs": [],
   "source": [
    "\n",
    "bi.T.to_csv(f\"dataset/rawdata_beforeinfo/bi_{date}_{race_no}_{place_cd}.csv\", encoding='utf_8_sig')"
   ],
   "metadata": {
    "collapsed": false,
    "pycharm": {
     "name": "#%%\n"
    }
   }
  },
  {
   "cell_type": "code",
   "execution_count": 37,
   "outputs": [
    {
     "name": "stdout",
     "output_type": "stream",
     "text": [
      "https://www.boatrace.jp/owpc/pc/race/beforeinfo?rno=1&jcd=22&hd=20210328\n",
      "https://www.boatrace.jp/owpc/pc/race/beforeinfo?rno=2&jcd=22&hd=20210328\n"
     ]
    },
    {
     "data": {
      "text/plain": "         date place_cd race_no  ET_1  ET_2  ET_3  ET_4  ET_5  ET_6 tilt_1  \\\n0  2021-03-28       22       1  6.99  7.02  7.03  6.96  6.88   6.9   -0.5   \n1  2021-03-28       22       2  6.96  6.96  6.86  6.88  6.87  6.92   -0.5   \n\n   ... ESC_3 ESC_4 ESC_5 ESC_6 wether air_t wind_d wind_v water_t wave_h  \n0  ...     3     4     5     6      晴  18.0      8    4.0    19.0    4.0  \n1  ...     3     4     5     6      雨  14.0      6    3.0    19.0    3.0  \n\n[2 rows x 33 columns]",
      "text/html": "<div>\n<style scoped>\n    .dataframe tbody tr th:only-of-type {\n        vertical-align: middle;\n    }\n\n    .dataframe tbody tr th {\n        vertical-align: top;\n    }\n\n    .dataframe thead th {\n        text-align: right;\n    }\n</style>\n<table border=\"1\" class=\"dataframe\">\n  <thead>\n    <tr style=\"text-align: right;\">\n      <th></th>\n      <th>date</th>\n      <th>place_cd</th>\n      <th>race_no</th>\n      <th>ET_1</th>\n      <th>ET_2</th>\n      <th>ET_3</th>\n      <th>ET_4</th>\n      <th>ET_5</th>\n      <th>ET_6</th>\n      <th>tilt_1</th>\n      <th>...</th>\n      <th>ESC_3</th>\n      <th>ESC_4</th>\n      <th>ESC_5</th>\n      <th>ESC_6</th>\n      <th>wether</th>\n      <th>air_t</th>\n      <th>wind_d</th>\n      <th>wind_v</th>\n      <th>water_t</th>\n      <th>wave_h</th>\n    </tr>\n  </thead>\n  <tbody>\n    <tr>\n      <th>0</th>\n      <td>2021-03-28</td>\n      <td>22</td>\n      <td>1</td>\n      <td>6.99</td>\n      <td>7.02</td>\n      <td>7.03</td>\n      <td>6.96</td>\n      <td>6.88</td>\n      <td>6.9</td>\n      <td>-0.5</td>\n      <td>...</td>\n      <td>3</td>\n      <td>4</td>\n      <td>5</td>\n      <td>6</td>\n      <td>晴</td>\n      <td>18.0</td>\n      <td>8</td>\n      <td>4.0</td>\n      <td>19.0</td>\n      <td>4.0</td>\n    </tr>\n    <tr>\n      <th>1</th>\n      <td>2021-03-28</td>\n      <td>22</td>\n      <td>2</td>\n      <td>6.96</td>\n      <td>6.96</td>\n      <td>6.86</td>\n      <td>6.88</td>\n      <td>6.87</td>\n      <td>6.92</td>\n      <td>-0.5</td>\n      <td>...</td>\n      <td>3</td>\n      <td>4</td>\n      <td>5</td>\n      <td>6</td>\n      <td>雨</td>\n      <td>14.0</td>\n      <td>6</td>\n      <td>3.0</td>\n      <td>19.0</td>\n      <td>3.0</td>\n    </tr>\n  </tbody>\n</table>\n<p>2 rows × 33 columns</p>\n</div>"
     },
     "execution_count": 37,
     "metadata": {},
     "output_type": "execute_result"
    }
   ],
   "source": [
    "date = '2021-03-28'\n",
    "place_cd = 22\n",
    "race_no = 1\n",
    "bi1 = race_before_data.get_beforeinfo(date, place_cd, race_no)\n",
    "bi2 = race_before_data.get_beforeinfo(date, place_cd, 2)\n",
    "\n",
    "hoge = pd.concat([bi1, bi2], axis=1)\n",
    "hoge.T"
   ],
   "metadata": {
    "collapsed": false,
    "pycharm": {
     "name": "#%%\n"
    }
   }
  },
  {
   "cell_type": "code",
   "execution_count": 3,
   "outputs": [],
   "source": [
    "racelist_df = pd.read_csv('dataset/rawdata_syussouhyou/2020-1-1_race_list.csv', index_col=0)\n",
    "bi_df = pd.read_csv('dataset/rawdata_beforeinfo/2020-1-1_before_info.csv', index_col=0)\n",
    "result_df = pd.read_csv(\"dataset/rawdata_result/2020-1-1_result.csv\", index_col=0)"
   ],
   "metadata": {
    "collapsed": false,
    "pycharm": {
     "name": "#%%\n"
    }
   }
  },
  {
   "cell_type": "code",
   "execution_count": 59,
   "outputs": [
    {
     "data": {
      "text/plain": "'2020-01-01'"
     },
     "execution_count": 59,
     "metadata": {},
     "output_type": "execute_result"
    }
   ],
   "source": [
    "\n"
   ],
   "metadata": {
    "collapsed": false,
    "pycharm": {
     "name": "#%%\n"
    }
   }
  },
  {
   "cell_type": "code",
   "execution_count": 5,
   "outputs": [],
   "source": [
    "tmp = pd.merge(racelist_df, bi_df, on=[\"race_no\", \"place_cd\"])"
   ],
   "metadata": {
    "collapsed": false,
    "pycharm": {
     "name": "#%%\n"
    }
   }
  },
  {
   "cell_type": "code",
   "execution_count": 7,
   "outputs": [
    {
     "data": {
      "text/plain": "Index(['title_x', 'day_x', 'date', 'place_cd', 'place_x', 'race_no',\n       'race_type_x', 'distance_x', 'toban_1_x', 'toban_2_x',\n       ...\n       'ESC_3', 'ESC_4', 'ESC_5', 'ESC_6', 'wether', 'air_t', 'wind_d',\n       'wind_v', 'water_t', 'wave_h'],\n      dtype='object', length=211)"
     },
     "execution_count": 7,
     "metadata": {},
     "output_type": "execute_result"
    }
   ],
   "source": [
    "pd.merge(result_df, tmp, on=[\"race_no\", \"place_cd\"]).columns"
   ],
   "metadata": {
    "collapsed": false,
    "pycharm": {
     "name": "#%%\n"
    }
   }
  },
  {
   "cell_type": "code",
   "execution_count": 8,
   "outputs": [
    {
     "name": "stdout",
     "output_type": "stream",
     "text": [
      "title_x\n",
      "day_x\n",
      "date\n",
      "place_cd\n",
      "place_x\n",
      "race_no\n",
      "race_type_x\n",
      "distance_x\n",
      "toban_1_x\n",
      "toban_2_x\n",
      "toban_3_x\n",
      "toban_4_x\n",
      "toban_5_x\n",
      "toban_6_x\n",
      "name_1_x\n",
      "name_2_x\n",
      "name_3_x\n",
      "name_4_x\n",
      "name_5_x\n",
      "name_6_x\n",
      "moter_no_1_x\n",
      "moter_no_2_x\n",
      "moter_no_3_x\n",
      "moter_no_4_x\n",
      "moter_no_5_x\n",
      "moter_no_6_x\n",
      "boat_no_1_x\n",
      "boat_no_2_x\n",
      "boat_no_3_x\n",
      "boat_no_4_x\n",
      "boat_no_5_x\n",
      "boat_no_6_x\n",
      "ET_1\n",
      "ET_2\n",
      "ET_3\n",
      "ET_4\n",
      "ET_5\n",
      "ET_6\n",
      "SC_1_x\n",
      "SC_2_x\n",
      "SC_3_x\n",
      "SC_4_x\n",
      "SC_5_x\n",
      "SC_6_x\n",
      "ST_1_x\n",
      "ST_2_x\n",
      "ST_3_x\n",
      "ST_4_x\n",
      "ST_5_x\n",
      "ST_6_x\n",
      "RT_1_x\n",
      "RT_2_x\n",
      "RT_3_x\n",
      "RT_4_x\n",
      "RT_5_x\n",
      "RT_6_x\n",
      "position_1_x\n",
      "position_2_x\n",
      "position_3_x\n",
      "position_4_x\n",
      "position_5_x\n",
      "position_6_x\n",
      "tkt_1t_x\n",
      "tkt_1f1_x\n",
      "tkt_1f2_x\n",
      "tkt_2t_x\n",
      "tkt_2f_x\n",
      "tkt_w1_x\n",
      "tkt_w2_x\n",
      "tkt_w3_x\n",
      "tkt_3t_x\n",
      "tkt_3f_x\n",
      "odds_1t_x\n",
      "odds_1f1_x\n",
      "odds_1f2_x\n",
      "odds_2t_x\n",
      "odds_2f_x\n",
      "odds_w1_x\n",
      "odds_w2_x\n",
      "odds_w3_x\n",
      "odds_3t_x\n",
      "odds_3f_x\n",
      "poprank_2t_x\n",
      "poprank_2f_x\n",
      "poprank_w1_x\n",
      "poprank_w2_x\n",
      "poprank_w3_x\n",
      "poprank_3t_x\n",
      "poprank_3f_x\n",
      "win_method_x\n",
      "wakunari_x\n",
      "title_y\n",
      "day_y\n",
      "date_x\n",
      "place_y\n",
      "race_type_y\n",
      "distance_y\n",
      "toban_1_y\n",
      "toban_2_y\n",
      "toban_3_y\n",
      "toban_4_y\n",
      "toban_5_y\n",
      "toban_6_y\n",
      "name_1_y\n",
      "name_2_y\n",
      "name_3_y\n",
      "name_4_y\n",
      "name_5_y\n",
      "name_6_y\n",
      "moter_no_1_y\n",
      "moter_no_2_y\n",
      "moter_no_3_y\n",
      "moter_no_4_y\n",
      "moter_no_5_y\n",
      "moter_no_6_y\n",
      "boat_no_1_y\n",
      "boat_no_2_y\n",
      "boat_no_3_y\n",
      "boat_no_4_y\n",
      "boat_no_5_y\n",
      "boat_no_6_y\n",
      "ET_1_x\n",
      "ET_2_x\n",
      "ET_3_x\n",
      "ET_4_x\n",
      "ET_5_x\n",
      "ET_6_x\n",
      "SC_1_y\n",
      "SC_2_y\n",
      "SC_3_y\n",
      "SC_4_y\n",
      "SC_5_y\n",
      "SC_6_y\n",
      "ST_1_y\n",
      "ST_2_y\n",
      "ST_3_y\n",
      "ST_4_y\n",
      "ST_5_y\n",
      "ST_6_y\n",
      "RT_1_y\n",
      "RT_2_y\n",
      "RT_3_y\n",
      "RT_4_y\n",
      "RT_5_y\n",
      "RT_6_y\n",
      "position_1_y\n",
      "position_2_y\n",
      "position_3_y\n",
      "position_4_y\n",
      "position_5_y\n",
      "position_6_y\n",
      "tkt_1t_y\n",
      "tkt_1f1_y\n",
      "tkt_1f2_y\n",
      "tkt_2t_y\n",
      "tkt_2f_y\n",
      "tkt_w1_y\n",
      "tkt_w2_y\n",
      "tkt_w3_y\n",
      "tkt_3t_y\n",
      "tkt_3f_y\n",
      "odds_1t_y\n",
      "odds_1f1_y\n",
      "odds_1f2_y\n",
      "odds_2t_y\n",
      "odds_2f_y\n",
      "odds_w1_y\n",
      "odds_w2_y\n",
      "odds_w3_y\n",
      "odds_3t_y\n",
      "odds_3f_y\n",
      "poprank_2t_y\n",
      "poprank_2f_y\n",
      "poprank_w1_y\n",
      "poprank_w2_y\n",
      "poprank_w3_y\n",
      "poprank_3t_y\n",
      "poprank_3f_y\n",
      "win_method_y\n",
      "wakunari_y\n",
      "date_y\n",
      "ET_1_y\n",
      "ET_2_y\n",
      "ET_3_y\n",
      "ET_4_y\n",
      "ET_5_y\n",
      "ET_6_y\n",
      "tilt_1\n",
      "tilt_2\n",
      "tilt_3\n",
      "tilt_4\n",
      "tilt_5\n",
      "tilt_6\n",
      "EST_1\n",
      "EST_2\n",
      "EST_3\n",
      "EST_4\n",
      "EST_5\n",
      "EST_6\n",
      "ESC_1\n",
      "ESC_2\n",
      "ESC_3\n",
      "ESC_4\n",
      "ESC_5\n",
      "ESC_6\n",
      "wether\n",
      "air_t\n",
      "wind_d\n",
      "wind_v\n",
      "water_t\n",
      "wave_h\n"
     ]
    }
   ],
   "source": [
    "for i in pd.merge(result_df, tmp, on=[\"race_no\", \"place_cd\"]).columns:\n",
    "    print(i)"
   ],
   "metadata": {
    "collapsed": false,
    "pycharm": {
     "name": "#%%\n"
    }
   }
  },
  {
   "cell_type": "code",
   "execution_count": 9,
   "outputs": [
    {
     "data": {
      "text/plain": "                      title  day      date_x  place_cd place  race_no  \\\n0       第2回オオムラグランプリ日本財団会長杯    4  2020-01-01        24    大村        1   \n1       第2回オオムラグランプリ日本財団会長杯    4  2020-01-01        24    大村        2   \n2       第2回オオムラグランプリ日本財団会長杯    4  2020-01-01        24    大村        3   \n3       第2回オオムラグランプリ日本財団会長杯    4  2020-01-01        24    大村        4   \n4       第2回オオムラグランプリ日本財団会長杯    4  2020-01-01        24    大村        5   \n..                      ...  ...         ...       ...   ...      ...   \n149  静岡新聞社・静岡放送NewYear'sCup    3  2020-01-01         6   浜名湖        8   \n150  静岡新聞社・静岡放送NewYear'sCup    3  2020-01-01         6   浜名湖        9   \n151  静岡新聞社・静岡放送NewYear'sCup    3  2020-01-01         6   浜名湖       10   \n152  静岡新聞社・静岡放送NewYear'sCup    3  2020-01-01         6   浜名湖       11   \n153  静岡新聞社・静岡放送NewYear'sCup    3  2020-01-01         6   浜名湖       12   \n\n    race_type  distance  toban_1  toban_2  ...  ESC_3  ESC_4  ESC_5  ESC_6  \\\n0      一般(B組)      1800     4164     2958  ...      3      4      5      6   \n1      一般(混合戦      1800     4005     3843  ...      3      4      5      6   \n2      一般(混合戦      1800     3501     3964  ...      3      4      5      6   \n3      一般(混合戦      1800     3527     3936  ...      3      4      5      6   \n4      一般(混合戦      1800     4553     4966  ...      3      4      5      6   \n..        ...       ...      ...      ...  ...    ...    ...    ...    ...   \n149        予選      1800     3990     4207  ...      3      4      5      6   \n150        予選      1800     4058     3630  ...      3      4      5      6   \n151        予選      1800     4524     4073  ...      3      4      5      6   \n152    静岡放送特選      1800     4342     4793  ...      3      4      5      6   \n153    静岡新聞社特      1800     4019     4124  ...      3      4      5      6   \n\n    wether air_t wind_d wind_v water_t wave_h  \n0        晴   6.0     15    1.0    12.0    1.0  \n1        晴   9.0     11    2.0    12.0    1.0  \n2        晴  10.0      9    1.0    12.0    1.0  \n3        晴  10.0     11    2.0    12.0    1.0  \n4        晴   9.0      9    2.0    12.0    1.0  \n..     ...   ...    ...    ...     ...    ...  \n149      晴   9.0      3    5.0    11.0    3.0  \n150      晴   9.0      3    4.0    11.0    2.0  \n151      晴   9.0      3    4.0    11.0    2.0  \n152      晴   9.0      3    4.0    11.0    2.0  \n153      晴   8.0      3    4.0    11.0    2.0  \n\n[154 rows x 122 columns]",
      "text/html": "<div>\n<style scoped>\n    .dataframe tbody tr th:only-of-type {\n        vertical-align: middle;\n    }\n\n    .dataframe tbody tr th {\n        vertical-align: top;\n    }\n\n    .dataframe thead th {\n        text-align: right;\n    }\n</style>\n<table border=\"1\" class=\"dataframe\">\n  <thead>\n    <tr style=\"text-align: right;\">\n      <th></th>\n      <th>title</th>\n      <th>day</th>\n      <th>date_x</th>\n      <th>place_cd</th>\n      <th>place</th>\n      <th>race_no</th>\n      <th>race_type</th>\n      <th>distance</th>\n      <th>toban_1</th>\n      <th>toban_2</th>\n      <th>...</th>\n      <th>ESC_3</th>\n      <th>ESC_4</th>\n      <th>ESC_5</th>\n      <th>ESC_6</th>\n      <th>wether</th>\n      <th>air_t</th>\n      <th>wind_d</th>\n      <th>wind_v</th>\n      <th>water_t</th>\n      <th>wave_h</th>\n    </tr>\n  </thead>\n  <tbody>\n    <tr>\n      <th>0</th>\n      <td>第2回オオムラグランプリ日本財団会長杯</td>\n      <td>4</td>\n      <td>2020-01-01</td>\n      <td>24</td>\n      <td>大村</td>\n      <td>1</td>\n      <td>一般(B組)</td>\n      <td>1800</td>\n      <td>4164</td>\n      <td>2958</td>\n      <td>...</td>\n      <td>3</td>\n      <td>4</td>\n      <td>5</td>\n      <td>6</td>\n      <td>晴</td>\n      <td>6.0</td>\n      <td>15</td>\n      <td>1.0</td>\n      <td>12.0</td>\n      <td>1.0</td>\n    </tr>\n    <tr>\n      <th>1</th>\n      <td>第2回オオムラグランプリ日本財団会長杯</td>\n      <td>4</td>\n      <td>2020-01-01</td>\n      <td>24</td>\n      <td>大村</td>\n      <td>2</td>\n      <td>一般(混合戦</td>\n      <td>1800</td>\n      <td>4005</td>\n      <td>3843</td>\n      <td>...</td>\n      <td>3</td>\n      <td>4</td>\n      <td>5</td>\n      <td>6</td>\n      <td>晴</td>\n      <td>9.0</td>\n      <td>11</td>\n      <td>2.0</td>\n      <td>12.0</td>\n      <td>1.0</td>\n    </tr>\n    <tr>\n      <th>2</th>\n      <td>第2回オオムラグランプリ日本財団会長杯</td>\n      <td>4</td>\n      <td>2020-01-01</td>\n      <td>24</td>\n      <td>大村</td>\n      <td>3</td>\n      <td>一般(混合戦</td>\n      <td>1800</td>\n      <td>3501</td>\n      <td>3964</td>\n      <td>...</td>\n      <td>3</td>\n      <td>4</td>\n      <td>5</td>\n      <td>6</td>\n      <td>晴</td>\n      <td>10.0</td>\n      <td>9</td>\n      <td>1.0</td>\n      <td>12.0</td>\n      <td>1.0</td>\n    </tr>\n    <tr>\n      <th>3</th>\n      <td>第2回オオムラグランプリ日本財団会長杯</td>\n      <td>4</td>\n      <td>2020-01-01</td>\n      <td>24</td>\n      <td>大村</td>\n      <td>4</td>\n      <td>一般(混合戦</td>\n      <td>1800</td>\n      <td>3527</td>\n      <td>3936</td>\n      <td>...</td>\n      <td>3</td>\n      <td>4</td>\n      <td>5</td>\n      <td>6</td>\n      <td>晴</td>\n      <td>10.0</td>\n      <td>11</td>\n      <td>2.0</td>\n      <td>12.0</td>\n      <td>1.0</td>\n    </tr>\n    <tr>\n      <th>4</th>\n      <td>第2回オオムラグランプリ日本財団会長杯</td>\n      <td>4</td>\n      <td>2020-01-01</td>\n      <td>24</td>\n      <td>大村</td>\n      <td>5</td>\n      <td>一般(混合戦</td>\n      <td>1800</td>\n      <td>4553</td>\n      <td>4966</td>\n      <td>...</td>\n      <td>3</td>\n      <td>4</td>\n      <td>5</td>\n      <td>6</td>\n      <td>晴</td>\n      <td>9.0</td>\n      <td>9</td>\n      <td>2.0</td>\n      <td>12.0</td>\n      <td>1.0</td>\n    </tr>\n    <tr>\n      <th>...</th>\n      <td>...</td>\n      <td>...</td>\n      <td>...</td>\n      <td>...</td>\n      <td>...</td>\n      <td>...</td>\n      <td>...</td>\n      <td>...</td>\n      <td>...</td>\n      <td>...</td>\n      <td>...</td>\n      <td>...</td>\n      <td>...</td>\n      <td>...</td>\n      <td>...</td>\n      <td>...</td>\n      <td>...</td>\n      <td>...</td>\n      <td>...</td>\n      <td>...</td>\n      <td>...</td>\n    </tr>\n    <tr>\n      <th>149</th>\n      <td>静岡新聞社・静岡放送NewYear'sCup</td>\n      <td>3</td>\n      <td>2020-01-01</td>\n      <td>6</td>\n      <td>浜名湖</td>\n      <td>8</td>\n      <td>予選</td>\n      <td>1800</td>\n      <td>3990</td>\n      <td>4207</td>\n      <td>...</td>\n      <td>3</td>\n      <td>4</td>\n      <td>5</td>\n      <td>6</td>\n      <td>晴</td>\n      <td>9.0</td>\n      <td>3</td>\n      <td>5.0</td>\n      <td>11.0</td>\n      <td>3.0</td>\n    </tr>\n    <tr>\n      <th>150</th>\n      <td>静岡新聞社・静岡放送NewYear'sCup</td>\n      <td>3</td>\n      <td>2020-01-01</td>\n      <td>6</td>\n      <td>浜名湖</td>\n      <td>9</td>\n      <td>予選</td>\n      <td>1800</td>\n      <td>4058</td>\n      <td>3630</td>\n      <td>...</td>\n      <td>3</td>\n      <td>4</td>\n      <td>5</td>\n      <td>6</td>\n      <td>晴</td>\n      <td>9.0</td>\n      <td>3</td>\n      <td>4.0</td>\n      <td>11.0</td>\n      <td>2.0</td>\n    </tr>\n    <tr>\n      <th>151</th>\n      <td>静岡新聞社・静岡放送NewYear'sCup</td>\n      <td>3</td>\n      <td>2020-01-01</td>\n      <td>6</td>\n      <td>浜名湖</td>\n      <td>10</td>\n      <td>予選</td>\n      <td>1800</td>\n      <td>4524</td>\n      <td>4073</td>\n      <td>...</td>\n      <td>3</td>\n      <td>4</td>\n      <td>5</td>\n      <td>6</td>\n      <td>晴</td>\n      <td>9.0</td>\n      <td>3</td>\n      <td>4.0</td>\n      <td>11.0</td>\n      <td>2.0</td>\n    </tr>\n    <tr>\n      <th>152</th>\n      <td>静岡新聞社・静岡放送NewYear'sCup</td>\n      <td>3</td>\n      <td>2020-01-01</td>\n      <td>6</td>\n      <td>浜名湖</td>\n      <td>11</td>\n      <td>静岡放送特選</td>\n      <td>1800</td>\n      <td>4342</td>\n      <td>4793</td>\n      <td>...</td>\n      <td>3</td>\n      <td>4</td>\n      <td>5</td>\n      <td>6</td>\n      <td>晴</td>\n      <td>9.0</td>\n      <td>3</td>\n      <td>4.0</td>\n      <td>11.0</td>\n      <td>2.0</td>\n    </tr>\n    <tr>\n      <th>153</th>\n      <td>静岡新聞社・静岡放送NewYear'sCup</td>\n      <td>3</td>\n      <td>2020-01-01</td>\n      <td>6</td>\n      <td>浜名湖</td>\n      <td>12</td>\n      <td>静岡新聞社特</td>\n      <td>1800</td>\n      <td>4019</td>\n      <td>4124</td>\n      <td>...</td>\n      <td>3</td>\n      <td>4</td>\n      <td>5</td>\n      <td>6</td>\n      <td>晴</td>\n      <td>8.0</td>\n      <td>3</td>\n      <td>4.0</td>\n      <td>11.0</td>\n      <td>2.0</td>\n    </tr>\n  </tbody>\n</table>\n<p>154 rows × 122 columns</p>\n</div>"
     },
     "execution_count": 9,
     "metadata": {},
     "output_type": "execute_result"
    }
   ],
   "source": [
    "tmp"
   ],
   "metadata": {
    "collapsed": false,
    "pycharm": {
     "name": "#%%\n"
    }
   }
  },
  {
   "cell_type": "code",
   "execution_count": 13,
   "outputs": [
    {
     "name": "stdout",
     "output_type": "stream",
     "text": [
      "425\n"
     ]
    }
   ],
   "source": [
    "files = glob.glob(\"dataset/rawdata_beforeinfo/*\")\n",
    "print(len(files))"
   ],
   "metadata": {
    "collapsed": false,
    "pycharm": {
     "name": "#%%\n"
    }
   }
  },
  {
   "cell_type": "code",
   "execution_count": 15,
   "outputs": [],
   "source": [
    "files.sort()"
   ],
   "metadata": {
    "collapsed": false,
    "pycharm": {
     "name": "#%%\n"
    }
   }
  },
  {
   "cell_type": "code",
   "execution_count": 16,
   "outputs": [
    {
     "data": {
      "text/plain": "['dataset/rawdata_beforeinfo/2020-1-10_before_info.csv',\n 'dataset/rawdata_beforeinfo/2020-1-11_before_info.csv',\n 'dataset/rawdata_beforeinfo/2020-1-12_before_info.csv',\n 'dataset/rawdata_beforeinfo/2020-1-13_before_info.csv',\n 'dataset/rawdata_beforeinfo/2020-1-14_before_info.csv',\n 'dataset/rawdata_beforeinfo/2020-1-15_before_info.csv',\n 'dataset/rawdata_beforeinfo/2020-1-16_before_info.csv',\n 'dataset/rawdata_beforeinfo/2020-1-17_before_info.csv',\n 'dataset/rawdata_beforeinfo/2020-1-18_before_info.csv',\n 'dataset/rawdata_beforeinfo/2020-1-19_before_info.csv',\n 'dataset/rawdata_beforeinfo/2020-1-1_before_info.csv',\n 'dataset/rawdata_beforeinfo/2020-1-20_before_info.csv',\n 'dataset/rawdata_beforeinfo/2020-1-21_before_info.csv',\n 'dataset/rawdata_beforeinfo/2020-1-22_before_info.csv',\n 'dataset/rawdata_beforeinfo/2020-1-23_before_info.csv',\n 'dataset/rawdata_beforeinfo/2020-1-24_before_info.csv',\n 'dataset/rawdata_beforeinfo/2020-1-25_before_info.csv',\n 'dataset/rawdata_beforeinfo/2020-1-26_before_info.csv',\n 'dataset/rawdata_beforeinfo/2020-1-27_before_info.csv',\n 'dataset/rawdata_beforeinfo/2020-1-28_before_info.csv',\n 'dataset/rawdata_beforeinfo/2020-1-29_before_info.csv',\n 'dataset/rawdata_beforeinfo/2020-1-2_before_info.csv',\n 'dataset/rawdata_beforeinfo/2020-1-30_before_info.csv',\n 'dataset/rawdata_beforeinfo/2020-1-31_before_info.csv',\n 'dataset/rawdata_beforeinfo/2020-1-3_before_info.csv',\n 'dataset/rawdata_beforeinfo/2020-1-4_before_info.csv',\n 'dataset/rawdata_beforeinfo/2020-1-5_before_info.csv',\n 'dataset/rawdata_beforeinfo/2020-1-6_before_info.csv',\n 'dataset/rawdata_beforeinfo/2020-1-7_before_info.csv',\n 'dataset/rawdata_beforeinfo/2020-1-8_before_info.csv',\n 'dataset/rawdata_beforeinfo/2020-1-9_before_info.csv',\n 'dataset/rawdata_beforeinfo/2020-2-10_before_info.csv',\n 'dataset/rawdata_beforeinfo/2020-2-11_before_info.csv',\n 'dataset/rawdata_beforeinfo/2020-2-12_before_info.csv',\n 'dataset/rawdata_beforeinfo/2020-2-13_before_info.csv',\n 'dataset/rawdata_beforeinfo/2020-2-14_before_info.csv',\n 'dataset/rawdata_beforeinfo/2020-2-15_before_info.csv',\n 'dataset/rawdata_beforeinfo/2020-2-16_before_info.csv',\n 'dataset/rawdata_beforeinfo/2020-2-17_before_info.csv',\n 'dataset/rawdata_beforeinfo/2020-2-18_before_info.csv',\n 'dataset/rawdata_beforeinfo/2020-2-19_before_info.csv',\n 'dataset/rawdata_beforeinfo/2020-2-1_before_info.csv',\n 'dataset/rawdata_beforeinfo/2020-2-20_before_info.csv',\n 'dataset/rawdata_beforeinfo/2020-2-21_before_info.csv',\n 'dataset/rawdata_beforeinfo/2020-2-22_before_info.csv',\n 'dataset/rawdata_beforeinfo/2020-2-23_before_info.csv',\n 'dataset/rawdata_beforeinfo/2020-2-24_before_info.csv',\n 'dataset/rawdata_beforeinfo/2020-2-25_before_info.csv',\n 'dataset/rawdata_beforeinfo/2020-2-26_before_info.csv',\n 'dataset/rawdata_beforeinfo/2020-2-27_before_info.csv',\n 'dataset/rawdata_beforeinfo/2020-2-28_before_info.csv',\n 'dataset/rawdata_beforeinfo/2020-2-29_before_info.csv',\n 'dataset/rawdata_beforeinfo/2020-2-2_before_info.csv',\n 'dataset/rawdata_beforeinfo/2020-2-3_before_info.csv',\n 'dataset/rawdata_beforeinfo/2020-2-4_before_info.csv',\n 'dataset/rawdata_beforeinfo/2020-2-5_before_info.csv',\n 'dataset/rawdata_beforeinfo/2020-2-6_before_info.csv',\n 'dataset/rawdata_beforeinfo/2020-2-7_before_info.csv',\n 'dataset/rawdata_beforeinfo/2020-2-8_before_info.csv',\n 'dataset/rawdata_beforeinfo/2020-2-9_before_info.csv',\n 'dataset/rawdata_beforeinfo/2021-1-10_before_info.csv',\n 'dataset/rawdata_beforeinfo/2021-1-11_before_info.csv',\n 'dataset/rawdata_beforeinfo/2021-1-12_before_info.csv',\n 'dataset/rawdata_beforeinfo/2021-1-13_before_info.csv',\n 'dataset/rawdata_beforeinfo/2021-1-14_before_info.csv',\n 'dataset/rawdata_beforeinfo/2021-1-15_before_info.csv',\n 'dataset/rawdata_beforeinfo/2021-1-16_before_info.csv',\n 'dataset/rawdata_beforeinfo/2021-1-17_before_info.csv',\n 'dataset/rawdata_beforeinfo/2021-1-18_before_info.csv',\n 'dataset/rawdata_beforeinfo/2021-1-19_before_info.csv',\n 'dataset/rawdata_beforeinfo/2021-1-1_before_info.csv',\n 'dataset/rawdata_beforeinfo/2021-1-20_before_info.csv',\n 'dataset/rawdata_beforeinfo/2021-1-21_before_info.csv',\n 'dataset/rawdata_beforeinfo/2021-1-22_before_info.csv',\n 'dataset/rawdata_beforeinfo/2021-1-23_before_info.csv',\n 'dataset/rawdata_beforeinfo/2021-1-24_before_info.csv',\n 'dataset/rawdata_beforeinfo/2021-1-25_before_info.csv',\n 'dataset/rawdata_beforeinfo/2021-1-26_before_info.csv',\n 'dataset/rawdata_beforeinfo/2021-1-27_before_info.csv',\n 'dataset/rawdata_beforeinfo/2021-1-28_before_info.csv',\n 'dataset/rawdata_beforeinfo/2021-1-29_before_info.csv',\n 'dataset/rawdata_beforeinfo/2021-1-2_before_info.csv',\n 'dataset/rawdata_beforeinfo/2021-1-30_before_info.csv',\n 'dataset/rawdata_beforeinfo/2021-1-31_before_info.csv',\n 'dataset/rawdata_beforeinfo/2021-1-3_before_info.csv',\n 'dataset/rawdata_beforeinfo/2021-1-4_before_info.csv',\n 'dataset/rawdata_beforeinfo/2021-1-5_before_info.csv',\n 'dataset/rawdata_beforeinfo/2021-1-6_before_info.csv',\n 'dataset/rawdata_beforeinfo/2021-1-7_before_info.csv',\n 'dataset/rawdata_beforeinfo/2021-1-8_before_info.csv',\n 'dataset/rawdata_beforeinfo/2021-1-9_before_info.csv',\n 'dataset/rawdata_beforeinfo/2021-10-10_before_info.csv',\n 'dataset/rawdata_beforeinfo/2021-10-11_before_info.csv',\n 'dataset/rawdata_beforeinfo/2021-10-12_before_info.csv',\n 'dataset/rawdata_beforeinfo/2021-10-13_before_info.csv',\n 'dataset/rawdata_beforeinfo/2021-10-14_before_info.csv',\n 'dataset/rawdata_beforeinfo/2021-10-15_before_info.csv',\n 'dataset/rawdata_beforeinfo/2021-10-16_before_info.csv',\n 'dataset/rawdata_beforeinfo/2021-10-17_before_info.csv',\n 'dataset/rawdata_beforeinfo/2021-10-18_before_info.csv',\n 'dataset/rawdata_beforeinfo/2021-10-19_before_info.csv',\n 'dataset/rawdata_beforeinfo/2021-10-1_before_info.csv',\n 'dataset/rawdata_beforeinfo/2021-10-20_before_info.csv',\n 'dataset/rawdata_beforeinfo/2021-10-21_before_info.csv',\n 'dataset/rawdata_beforeinfo/2021-10-22_before_info.csv',\n 'dataset/rawdata_beforeinfo/2021-10-23_before_info.csv',\n 'dataset/rawdata_beforeinfo/2021-10-24_before_info.csv',\n 'dataset/rawdata_beforeinfo/2021-10-25_before_info.csv',\n 'dataset/rawdata_beforeinfo/2021-10-26_before_info.csv',\n 'dataset/rawdata_beforeinfo/2021-10-27_before_info.csv',\n 'dataset/rawdata_beforeinfo/2021-10-28_before_info.csv',\n 'dataset/rawdata_beforeinfo/2021-10-29_before_info.csv',\n 'dataset/rawdata_beforeinfo/2021-10-2_before_info.csv',\n 'dataset/rawdata_beforeinfo/2021-10-30_before_info.csv',\n 'dataset/rawdata_beforeinfo/2021-10-31_before_info.csv',\n 'dataset/rawdata_beforeinfo/2021-10-3_before_info.csv',\n 'dataset/rawdata_beforeinfo/2021-10-4_before_info.csv',\n 'dataset/rawdata_beforeinfo/2021-10-5_before_info.csv',\n 'dataset/rawdata_beforeinfo/2021-10-6_before_info.csv',\n 'dataset/rawdata_beforeinfo/2021-10-7_before_info.csv',\n 'dataset/rawdata_beforeinfo/2021-10-8_before_info.csv',\n 'dataset/rawdata_beforeinfo/2021-10-9_before_info.csv',\n 'dataset/rawdata_beforeinfo/2021-11-10_before_info.csv',\n 'dataset/rawdata_beforeinfo/2021-11-11_before_info.csv',\n 'dataset/rawdata_beforeinfo/2021-11-12_before_info.csv',\n 'dataset/rawdata_beforeinfo/2021-11-13_before_info.csv',\n 'dataset/rawdata_beforeinfo/2021-11-14_before_info.csv',\n 'dataset/rawdata_beforeinfo/2021-11-15_before_info.csv',\n 'dataset/rawdata_beforeinfo/2021-11-16_before_info.csv',\n 'dataset/rawdata_beforeinfo/2021-11-17_before_info.csv',\n 'dataset/rawdata_beforeinfo/2021-11-18_before_info.csv',\n 'dataset/rawdata_beforeinfo/2021-11-19_before_info.csv',\n 'dataset/rawdata_beforeinfo/2021-11-1_before_info.csv',\n 'dataset/rawdata_beforeinfo/2021-11-20_before_info.csv',\n 'dataset/rawdata_beforeinfo/2021-11-21_before_info.csv',\n 'dataset/rawdata_beforeinfo/2021-11-22_before_info.csv',\n 'dataset/rawdata_beforeinfo/2021-11-23_before_info.csv',\n 'dataset/rawdata_beforeinfo/2021-11-24_before_info.csv',\n 'dataset/rawdata_beforeinfo/2021-11-25_before_info.csv',\n 'dataset/rawdata_beforeinfo/2021-11-26_before_info.csv',\n 'dataset/rawdata_beforeinfo/2021-11-27_before_info.csv',\n 'dataset/rawdata_beforeinfo/2021-11-28_before_info.csv',\n 'dataset/rawdata_beforeinfo/2021-11-29_before_info.csv',\n 'dataset/rawdata_beforeinfo/2021-11-2_before_info.csv',\n 'dataset/rawdata_beforeinfo/2021-11-30_before_info.csv',\n 'dataset/rawdata_beforeinfo/2021-11-3_before_info.csv',\n 'dataset/rawdata_beforeinfo/2021-11-4_before_info.csv',\n 'dataset/rawdata_beforeinfo/2021-11-5_before_info.csv',\n 'dataset/rawdata_beforeinfo/2021-11-6_before_info.csv',\n 'dataset/rawdata_beforeinfo/2021-11-7_before_info.csv',\n 'dataset/rawdata_beforeinfo/2021-11-8_before_info.csv',\n 'dataset/rawdata_beforeinfo/2021-11-9_before_info.csv',\n 'dataset/rawdata_beforeinfo/2021-12-10_before_info.csv',\n 'dataset/rawdata_beforeinfo/2021-12-11_before_info.csv',\n 'dataset/rawdata_beforeinfo/2021-12-12_before_info.csv',\n 'dataset/rawdata_beforeinfo/2021-12-13_before_info.csv',\n 'dataset/rawdata_beforeinfo/2021-12-14_before_info.csv',\n 'dataset/rawdata_beforeinfo/2021-12-15_before_info.csv',\n 'dataset/rawdata_beforeinfo/2021-12-16_before_info.csv',\n 'dataset/rawdata_beforeinfo/2021-12-17_before_info.csv',\n 'dataset/rawdata_beforeinfo/2021-12-18_before_info.csv',\n 'dataset/rawdata_beforeinfo/2021-12-19_before_info.csv',\n 'dataset/rawdata_beforeinfo/2021-12-1_before_info.csv',\n 'dataset/rawdata_beforeinfo/2021-12-20_before_info.csv',\n 'dataset/rawdata_beforeinfo/2021-12-21_before_info.csv',\n 'dataset/rawdata_beforeinfo/2021-12-22_before_info.csv',\n 'dataset/rawdata_beforeinfo/2021-12-23_before_info.csv',\n 'dataset/rawdata_beforeinfo/2021-12-24_before_info.csv',\n 'dataset/rawdata_beforeinfo/2021-12-25_before_info.csv',\n 'dataset/rawdata_beforeinfo/2021-12-26_before_info.csv',\n 'dataset/rawdata_beforeinfo/2021-12-27_before_info.csv',\n 'dataset/rawdata_beforeinfo/2021-12-28_before_info.csv',\n 'dataset/rawdata_beforeinfo/2021-12-29_before_info.csv',\n 'dataset/rawdata_beforeinfo/2021-12-2_before_info.csv',\n 'dataset/rawdata_beforeinfo/2021-12-30_before_info.csv',\n 'dataset/rawdata_beforeinfo/2021-12-31_before_info.csv',\n 'dataset/rawdata_beforeinfo/2021-12-3_before_info.csv',\n 'dataset/rawdata_beforeinfo/2021-12-4_before_info.csv',\n 'dataset/rawdata_beforeinfo/2021-12-5_before_info.csv',\n 'dataset/rawdata_beforeinfo/2021-12-6_before_info.csv',\n 'dataset/rawdata_beforeinfo/2021-12-7_before_info.csv',\n 'dataset/rawdata_beforeinfo/2021-12-8_before_info.csv',\n 'dataset/rawdata_beforeinfo/2021-12-9_before_info.csv',\n 'dataset/rawdata_beforeinfo/2021-2-10_before_info.csv',\n 'dataset/rawdata_beforeinfo/2021-2-11_before_info.csv',\n 'dataset/rawdata_beforeinfo/2021-2-12_before_info.csv',\n 'dataset/rawdata_beforeinfo/2021-2-13_before_info.csv',\n 'dataset/rawdata_beforeinfo/2021-2-14_before_info.csv',\n 'dataset/rawdata_beforeinfo/2021-2-15_before_info.csv',\n 'dataset/rawdata_beforeinfo/2021-2-16_before_info.csv',\n 'dataset/rawdata_beforeinfo/2021-2-17_before_info.csv',\n 'dataset/rawdata_beforeinfo/2021-2-18_before_info.csv',\n 'dataset/rawdata_beforeinfo/2021-2-19_before_info.csv',\n 'dataset/rawdata_beforeinfo/2021-2-1_before_info.csv',\n 'dataset/rawdata_beforeinfo/2021-2-20_before_info.csv',\n 'dataset/rawdata_beforeinfo/2021-2-21_before_info.csv',\n 'dataset/rawdata_beforeinfo/2021-2-22_before_info.csv',\n 'dataset/rawdata_beforeinfo/2021-2-23_before_info.csv',\n 'dataset/rawdata_beforeinfo/2021-2-24_before_info.csv',\n 'dataset/rawdata_beforeinfo/2021-2-25_before_info.csv',\n 'dataset/rawdata_beforeinfo/2021-2-26_before_info.csv',\n 'dataset/rawdata_beforeinfo/2021-2-27_before_info.csv',\n 'dataset/rawdata_beforeinfo/2021-2-28_before_info.csv',\n 'dataset/rawdata_beforeinfo/2021-2-2_before_info.csv',\n 'dataset/rawdata_beforeinfo/2021-2-3_before_info.csv',\n 'dataset/rawdata_beforeinfo/2021-2-4_before_info.csv',\n 'dataset/rawdata_beforeinfo/2021-2-5_before_info.csv',\n 'dataset/rawdata_beforeinfo/2021-2-6_before_info.csv',\n 'dataset/rawdata_beforeinfo/2021-2-7_before_info.csv',\n 'dataset/rawdata_beforeinfo/2021-2-8_before_info.csv',\n 'dataset/rawdata_beforeinfo/2021-2-9_before_info.csv',\n 'dataset/rawdata_beforeinfo/2021-3-10_before_info.csv',\n 'dataset/rawdata_beforeinfo/2021-3-11_before_info.csv',\n 'dataset/rawdata_beforeinfo/2021-3-12_before_info.csv',\n 'dataset/rawdata_beforeinfo/2021-3-13_before_info.csv',\n 'dataset/rawdata_beforeinfo/2021-3-14_before_info.csv',\n 'dataset/rawdata_beforeinfo/2021-3-15_before_info.csv',\n 'dataset/rawdata_beforeinfo/2021-3-16_before_info.csv',\n 'dataset/rawdata_beforeinfo/2021-3-17_before_info.csv',\n 'dataset/rawdata_beforeinfo/2021-3-18_before_info.csv',\n 'dataset/rawdata_beforeinfo/2021-3-19_before_info.csv',\n 'dataset/rawdata_beforeinfo/2021-3-1_before_info.csv',\n 'dataset/rawdata_beforeinfo/2021-3-20_before_info.csv',\n 'dataset/rawdata_beforeinfo/2021-3-21_before_info.csv',\n 'dataset/rawdata_beforeinfo/2021-3-22_before_info.csv',\n 'dataset/rawdata_beforeinfo/2021-3-23_before_info.csv',\n 'dataset/rawdata_beforeinfo/2021-3-24_before_info.csv',\n 'dataset/rawdata_beforeinfo/2021-3-25_before_info.csv',\n 'dataset/rawdata_beforeinfo/2021-3-26_before_info.csv',\n 'dataset/rawdata_beforeinfo/2021-3-27_before_info.csv',\n 'dataset/rawdata_beforeinfo/2021-3-28_before_info.csv',\n 'dataset/rawdata_beforeinfo/2021-3-29_before_info.csv',\n 'dataset/rawdata_beforeinfo/2021-3-2_before_info.csv',\n 'dataset/rawdata_beforeinfo/2021-3-30_before_info.csv',\n 'dataset/rawdata_beforeinfo/2021-3-31_before_info.csv',\n 'dataset/rawdata_beforeinfo/2021-3-3_before_info.csv',\n 'dataset/rawdata_beforeinfo/2021-3-4_before_info.csv',\n 'dataset/rawdata_beforeinfo/2021-3-5_before_info.csv',\n 'dataset/rawdata_beforeinfo/2021-3-6_before_info.csv',\n 'dataset/rawdata_beforeinfo/2021-3-7_before_info.csv',\n 'dataset/rawdata_beforeinfo/2021-3-8_before_info.csv',\n 'dataset/rawdata_beforeinfo/2021-3-9_before_info.csv',\n 'dataset/rawdata_beforeinfo/2021-4-10_before_info.csv',\n 'dataset/rawdata_beforeinfo/2021-4-11_before_info.csv',\n 'dataset/rawdata_beforeinfo/2021-4-12_before_info.csv',\n 'dataset/rawdata_beforeinfo/2021-4-13_before_info.csv',\n 'dataset/rawdata_beforeinfo/2021-4-14_before_info.csv',\n 'dataset/rawdata_beforeinfo/2021-4-15_before_info.csv',\n 'dataset/rawdata_beforeinfo/2021-4-16_before_info.csv',\n 'dataset/rawdata_beforeinfo/2021-4-17_before_info.csv',\n 'dataset/rawdata_beforeinfo/2021-4-18_before_info.csv',\n 'dataset/rawdata_beforeinfo/2021-4-19_before_info.csv',\n 'dataset/rawdata_beforeinfo/2021-4-1_before_info.csv',\n 'dataset/rawdata_beforeinfo/2021-4-20_before_info.csv',\n 'dataset/rawdata_beforeinfo/2021-4-21_before_info.csv',\n 'dataset/rawdata_beforeinfo/2021-4-22_before_info.csv',\n 'dataset/rawdata_beforeinfo/2021-4-23_before_info.csv',\n 'dataset/rawdata_beforeinfo/2021-4-24_before_info.csv',\n 'dataset/rawdata_beforeinfo/2021-4-25_before_info.csv',\n 'dataset/rawdata_beforeinfo/2021-4-26_before_info.csv',\n 'dataset/rawdata_beforeinfo/2021-4-27_before_info.csv',\n 'dataset/rawdata_beforeinfo/2021-4-28_before_info.csv',\n 'dataset/rawdata_beforeinfo/2021-4-29_before_info.csv',\n 'dataset/rawdata_beforeinfo/2021-4-2_before_info.csv',\n 'dataset/rawdata_beforeinfo/2021-4-30_before_info.csv',\n 'dataset/rawdata_beforeinfo/2021-4-3_before_info.csv',\n 'dataset/rawdata_beforeinfo/2021-4-4_before_info.csv',\n 'dataset/rawdata_beforeinfo/2021-4-5_before_info.csv',\n 'dataset/rawdata_beforeinfo/2021-4-6_before_info.csv',\n 'dataset/rawdata_beforeinfo/2021-4-7_before_info.csv',\n 'dataset/rawdata_beforeinfo/2021-4-8_before_info.csv',\n 'dataset/rawdata_beforeinfo/2021-4-9_before_info.csv',\n 'dataset/rawdata_beforeinfo/2021-5-10_before_info.csv',\n 'dataset/rawdata_beforeinfo/2021-5-11_before_info.csv',\n 'dataset/rawdata_beforeinfo/2021-5-12_before_info.csv',\n 'dataset/rawdata_beforeinfo/2021-5-14_before_info.csv',\n 'dataset/rawdata_beforeinfo/2021-5-15_before_info.csv',\n 'dataset/rawdata_beforeinfo/2021-5-16_before_info.csv',\n 'dataset/rawdata_beforeinfo/2021-5-17_before_info.csv',\n 'dataset/rawdata_beforeinfo/2021-5-18_before_info.csv',\n 'dataset/rawdata_beforeinfo/2021-5-19_before_info.csv',\n 'dataset/rawdata_beforeinfo/2021-5-1_before_info.csv',\n 'dataset/rawdata_beforeinfo/2021-5-20_before_info.csv',\n 'dataset/rawdata_beforeinfo/2021-5-21_before_info.csv',\n 'dataset/rawdata_beforeinfo/2021-5-22_before_info.csv',\n 'dataset/rawdata_beforeinfo/2021-5-23_before_info.csv',\n 'dataset/rawdata_beforeinfo/2021-5-24_before_info.csv',\n 'dataset/rawdata_beforeinfo/2021-5-25_before_info.csv',\n 'dataset/rawdata_beforeinfo/2021-5-26_before_info.csv',\n 'dataset/rawdata_beforeinfo/2021-5-27_before_info.csv',\n 'dataset/rawdata_beforeinfo/2021-5-28_before_info.csv',\n 'dataset/rawdata_beforeinfo/2021-5-29_before_info.csv',\n 'dataset/rawdata_beforeinfo/2021-5-2_before_info.csv',\n 'dataset/rawdata_beforeinfo/2021-5-30_before_info.csv',\n 'dataset/rawdata_beforeinfo/2021-5-31_before_info.csv',\n 'dataset/rawdata_beforeinfo/2021-5-3_before_info.csv',\n 'dataset/rawdata_beforeinfo/2021-5-4_before_info.csv',\n 'dataset/rawdata_beforeinfo/2021-5-5_before_info.csv',\n 'dataset/rawdata_beforeinfo/2021-5-6_before_info.csv',\n 'dataset/rawdata_beforeinfo/2021-5-7_before_info.csv',\n 'dataset/rawdata_beforeinfo/2021-5-8_before_info.csv',\n 'dataset/rawdata_beforeinfo/2021-5-9_before_info.csv',\n 'dataset/rawdata_beforeinfo/2021-6-10_before_info.csv',\n 'dataset/rawdata_beforeinfo/2021-6-11_before_info.csv',\n 'dataset/rawdata_beforeinfo/2021-6-12_before_info.csv',\n 'dataset/rawdata_beforeinfo/2021-6-13_before_info.csv',\n 'dataset/rawdata_beforeinfo/2021-6-14_before_info.csv',\n 'dataset/rawdata_beforeinfo/2021-6-15_before_info.csv',\n 'dataset/rawdata_beforeinfo/2021-6-16_before_info.csv',\n 'dataset/rawdata_beforeinfo/2021-6-17_before_info.csv',\n 'dataset/rawdata_beforeinfo/2021-6-18_before_info.csv',\n 'dataset/rawdata_beforeinfo/2021-6-19_before_info.csv',\n 'dataset/rawdata_beforeinfo/2021-6-1_before_info.csv',\n 'dataset/rawdata_beforeinfo/2021-6-20_before_info.csv',\n 'dataset/rawdata_beforeinfo/2021-6-21_before_info.csv',\n 'dataset/rawdata_beforeinfo/2021-6-22_before_info.csv',\n 'dataset/rawdata_beforeinfo/2021-6-23_before_info.csv',\n 'dataset/rawdata_beforeinfo/2021-6-24_before_info.csv',\n 'dataset/rawdata_beforeinfo/2021-6-25_before_info.csv',\n 'dataset/rawdata_beforeinfo/2021-6-26_before_info.csv',\n 'dataset/rawdata_beforeinfo/2021-6-27_before_info.csv',\n 'dataset/rawdata_beforeinfo/2021-6-28_before_info.csv',\n 'dataset/rawdata_beforeinfo/2021-6-29_before_info.csv',\n 'dataset/rawdata_beforeinfo/2021-6-2_before_info.csv',\n 'dataset/rawdata_beforeinfo/2021-6-30_before_info.csv',\n 'dataset/rawdata_beforeinfo/2021-6-3_before_info.csv',\n 'dataset/rawdata_beforeinfo/2021-6-4_before_info.csv',\n 'dataset/rawdata_beforeinfo/2021-6-5_before_info.csv',\n 'dataset/rawdata_beforeinfo/2021-6-6_before_info.csv',\n 'dataset/rawdata_beforeinfo/2021-6-7_before_info.csv',\n 'dataset/rawdata_beforeinfo/2021-6-8_before_info.csv',\n 'dataset/rawdata_beforeinfo/2021-6-9_before_info.csv',\n 'dataset/rawdata_beforeinfo/2021-7-10_before_info.csv',\n 'dataset/rawdata_beforeinfo/2021-7-11_before_info.csv',\n 'dataset/rawdata_beforeinfo/2021-7-12_before_info.csv',\n 'dataset/rawdata_beforeinfo/2021-7-13_before_info.csv',\n 'dataset/rawdata_beforeinfo/2021-7-14_before_info.csv',\n 'dataset/rawdata_beforeinfo/2021-7-15_before_info.csv',\n 'dataset/rawdata_beforeinfo/2021-7-16_before_info.csv',\n 'dataset/rawdata_beforeinfo/2021-7-17_before_info.csv',\n 'dataset/rawdata_beforeinfo/2021-7-18_before_info.csv',\n 'dataset/rawdata_beforeinfo/2021-7-19_before_info.csv',\n 'dataset/rawdata_beforeinfo/2021-7-1_before_info.csv',\n 'dataset/rawdata_beforeinfo/2021-7-20_before_info.csv',\n 'dataset/rawdata_beforeinfo/2021-7-21_before_info.csv',\n 'dataset/rawdata_beforeinfo/2021-7-22_before_info.csv',\n 'dataset/rawdata_beforeinfo/2021-7-23_before_info.csv',\n 'dataset/rawdata_beforeinfo/2021-7-24_before_info.csv',\n 'dataset/rawdata_beforeinfo/2021-7-25_before_info.csv',\n 'dataset/rawdata_beforeinfo/2021-7-26_before_info.csv',\n 'dataset/rawdata_beforeinfo/2021-7-27_before_info.csv',\n 'dataset/rawdata_beforeinfo/2021-7-28_before_info.csv',\n 'dataset/rawdata_beforeinfo/2021-7-29_before_info.csv',\n 'dataset/rawdata_beforeinfo/2021-7-2_before_info.csv',\n 'dataset/rawdata_beforeinfo/2021-7-30_before_info.csv',\n 'dataset/rawdata_beforeinfo/2021-7-31_before_info.csv',\n 'dataset/rawdata_beforeinfo/2021-7-3_before_info.csv',\n 'dataset/rawdata_beforeinfo/2021-7-4_before_info.csv',\n 'dataset/rawdata_beforeinfo/2021-7-5_before_info.csv',\n 'dataset/rawdata_beforeinfo/2021-7-6_before_info.csv',\n 'dataset/rawdata_beforeinfo/2021-7-7_before_info.csv',\n 'dataset/rawdata_beforeinfo/2021-7-8_before_info.csv',\n 'dataset/rawdata_beforeinfo/2021-7-9_before_info.csv',\n 'dataset/rawdata_beforeinfo/2021-8-10_before_info.csv',\n 'dataset/rawdata_beforeinfo/2021-8-11_before_info.csv',\n 'dataset/rawdata_beforeinfo/2021-8-12_before_info.csv',\n 'dataset/rawdata_beforeinfo/2021-8-13_before_info.csv',\n 'dataset/rawdata_beforeinfo/2021-8-14_before_info.csv',\n 'dataset/rawdata_beforeinfo/2021-8-15_before_info.csv',\n 'dataset/rawdata_beforeinfo/2021-8-16_before_info.csv',\n 'dataset/rawdata_beforeinfo/2021-8-17_before_info.csv',\n 'dataset/rawdata_beforeinfo/2021-8-18_before_info.csv',\n 'dataset/rawdata_beforeinfo/2021-8-19_before_info.csv',\n 'dataset/rawdata_beforeinfo/2021-8-1_before_info.csv',\n 'dataset/rawdata_beforeinfo/2021-8-20_before_info.csv',\n 'dataset/rawdata_beforeinfo/2021-8-21_before_info.csv',\n 'dataset/rawdata_beforeinfo/2021-8-22_before_info.csv',\n 'dataset/rawdata_beforeinfo/2021-8-23_before_info.csv',\n 'dataset/rawdata_beforeinfo/2021-8-24_before_info.csv',\n 'dataset/rawdata_beforeinfo/2021-8-25_before_info.csv',\n 'dataset/rawdata_beforeinfo/2021-8-26_before_info.csv',\n 'dataset/rawdata_beforeinfo/2021-8-27_before_info.csv',\n 'dataset/rawdata_beforeinfo/2021-8-28_before_info.csv',\n 'dataset/rawdata_beforeinfo/2021-8-29_before_info.csv',\n 'dataset/rawdata_beforeinfo/2021-8-2_before_info.csv',\n 'dataset/rawdata_beforeinfo/2021-8-30_before_info.csv',\n 'dataset/rawdata_beforeinfo/2021-8-31_before_info.csv',\n 'dataset/rawdata_beforeinfo/2021-8-3_before_info.csv',\n 'dataset/rawdata_beforeinfo/2021-8-4_before_info.csv',\n 'dataset/rawdata_beforeinfo/2021-8-5_before_info.csv',\n 'dataset/rawdata_beforeinfo/2021-8-6_before_info.csv',\n 'dataset/rawdata_beforeinfo/2021-8-7_before_info.csv',\n 'dataset/rawdata_beforeinfo/2021-8-8_before_info.csv',\n 'dataset/rawdata_beforeinfo/2021-8-9_before_info.csv',\n 'dataset/rawdata_beforeinfo/2021-9-10_before_info.csv',\n 'dataset/rawdata_beforeinfo/2021-9-11_before_info.csv',\n 'dataset/rawdata_beforeinfo/2021-9-12_before_info.csv',\n 'dataset/rawdata_beforeinfo/2021-9-13_before_info.csv',\n 'dataset/rawdata_beforeinfo/2021-9-14_before_info.csv',\n 'dataset/rawdata_beforeinfo/2021-9-15_before_info.csv',\n 'dataset/rawdata_beforeinfo/2021-9-16_before_info.csv',\n 'dataset/rawdata_beforeinfo/2021-9-17_before_info.csv',\n 'dataset/rawdata_beforeinfo/2021-9-18_before_info.csv',\n 'dataset/rawdata_beforeinfo/2021-9-19_before_info.csv',\n 'dataset/rawdata_beforeinfo/2021-9-1_before_info.csv',\n 'dataset/rawdata_beforeinfo/2021-9-20_before_info.csv',\n 'dataset/rawdata_beforeinfo/2021-9-21_before_info.csv',\n 'dataset/rawdata_beforeinfo/2021-9-22_before_info.csv',\n 'dataset/rawdata_beforeinfo/2021-9-23_before_info.csv',\n 'dataset/rawdata_beforeinfo/2021-9-24_before_info.csv',\n 'dataset/rawdata_beforeinfo/2021-9-25_before_info.csv',\n 'dataset/rawdata_beforeinfo/2021-9-26_before_info.csv',\n 'dataset/rawdata_beforeinfo/2021-9-27_before_info.csv',\n 'dataset/rawdata_beforeinfo/2021-9-28_before_info.csv',\n 'dataset/rawdata_beforeinfo/2021-9-29_before_info.csv',\n 'dataset/rawdata_beforeinfo/2021-9-2_before_info.csv',\n 'dataset/rawdata_beforeinfo/2021-9-30_before_info.csv',\n 'dataset/rawdata_beforeinfo/2021-9-3_before_info.csv',\n 'dataset/rawdata_beforeinfo/2021-9-4_before_info.csv',\n 'dataset/rawdata_beforeinfo/2021-9-5_before_info.csv',\n 'dataset/rawdata_beforeinfo/2021-9-6_before_info.csv',\n 'dataset/rawdata_beforeinfo/2021-9-7_before_info.csv',\n 'dataset/rawdata_beforeinfo/2021-9-8_before_info.csv',\n 'dataset/rawdata_beforeinfo/2021-9-9_before_info.csv',\n 'dataset/rawdata_beforeinfo/bi_2021-03-28_1_22.csv']"
     },
     "execution_count": 16,
     "metadata": {},
     "output_type": "execute_result"
    }
   ],
   "source": [
    "files\n"
   ],
   "metadata": {
    "collapsed": false,
    "pycharm": {
     "name": "#%%\n"
    }
   }
  },
  {
   "cell_type": "code",
   "execution_count": 39,
   "outputs": [],
   "source": [
    "years = [2021]\n",
    "months = [i for i in range(1, 13)]\n",
    "days = [i for i in range(1, 32)]\n",
    "\n",
    "before_files = glob.glob(\"dataset/rawdata_beforeinfo/*\")\n",
    "race_info_files = glob.glob(\"dataset/rawdata_syussouhyou/*\")\n",
    "result_info_files = glob.glob(\"dataset/rawdata_result/*\")\n",
    "\n",
    "for year_i in years:\n",
    "    for month_i in months:\n",
    "        for day_i in days:\n",
    "            tmp_df_list = []\n",
    "            date = f\"{year_i}-{month_i}-{day_i}\"\n",
    "\n",
    "            before_name = [s for s in before_files if (s.split(\"/\")[2].split(\"_\")[0].split(\"-\")[0] == f\"{year_i}\"\n",
    "                                                       and s.split(\"/\")[2].split(\"_\")[0].split(\"-\")[1] == f\"{month_i}\"\n",
    "                                                       and s.split(\"/\")[2].split(\"_\")[0].split(\"-\")[2] == f\"{day_i}\")]\n",
    "\n",
    "            race_info_name = [s for s in race_info_files if (s.split(\"/\")[2].split(\"_\")[0].split(\"-\")[0] == f\"{year_i}\"\n",
    "                                                             and s.split(\"/\")[2].split(\"_\")[0].split(\"-\")[\n",
    "                                                                 1] == f\"{month_i}\"\n",
    "                                                             and s.split(\"/\")[2].split(\"_\")[0].split(\"-\")[\n",
    "                                                                 2] == f\"{day_i}\")]\n",
    "\n",
    "            result_info_name = [s for s in race_info_files if\n",
    "                                (s.split(\"/\")[2].split(\"_\")[0].split(\"-\")[0] == f\"{year_i}\"\n",
    "                                 and s.split(\"/\")[2].split(\"_\")[0].split(\"-\")[1] == f\"{month_i}\"\n",
    "                                 and s.split(\"/\")[2].split(\"_\")[0].split(\"-\")[2] == f\"{day_i}\")]\n",
    "\n",
    "            for i, name in enumerate(before_name):\n",
    "                before_df = pd.read_csv(name, index_col=0)\n",
    "                race_info_df = pd.read_csv(race_info_name[i], index_col=0)\n",
    "                result_df = pd.read_csv(result_info_name[i], index_col=0)\n",
    "\n",
    "                tmp = pd.merge(race_info_df, before_df, on=[\"race_no\", \"place_cd\"])\n",
    "                hoge = pd.merge(result_df, tmp, on=[\"race_no\", \"place_cd\"])\n",
    "\n",
    "\n"
   ],
   "metadata": {
    "collapsed": false,
    "pycharm": {
     "name": "#%%\n"
    }
   }
  },
  {
   "cell_type": "code",
   "execution_count": 54,
   "outputs": [
    {
     "name": "stderr",
     "output_type": "stream",
     "text": [
      "/var/folders/s6/7jf_zlp94gg5cpb8c5lrx2j80000gn/T/ipykernel_2745/290011153.py:1: DtypeWarning: Columns (39,40,41,42,43,44) have mixed types. Specify dtype option on import or set low_memory=False.\n",
      "  hoge = pd.read_csv(\"dataset/all_data_2021.csv\", index_col=0)\n"
     ]
    }
   ],
   "source": [
    "\n",
    "hoge = pd.read_csv(\"dataset/all_data_2021.csv\", index_col=0)"
   ],
   "metadata": {
    "collapsed": false,
    "pycharm": {
     "name": "#%%\n"
    }
   }
  },
  {
   "cell_type": "code",
   "execution_count": 55,
   "outputs": [],
   "source": [
    "drop_list_x = [s for s in hoge.columns if \"_x\" in s]"
   ],
   "metadata": {
    "collapsed": false,
    "pycharm": {
     "name": "#%%\n"
    }
   }
  },
  {
   "cell_type": "code",
   "execution_count": 56,
   "outputs": [],
   "source": [
    "drop_df = hoge.drop(drop_list_x, axis=1)"
   ],
   "metadata": {
    "collapsed": false,
    "pycharm": {
     "name": "#%%\n"
    }
   }
  },
  {
   "cell_type": "code",
   "execution_count": 57,
   "outputs": [
    {
     "data": {
      "text/plain": "           date  place_cd  race_no  ET_1  ET_2  ET_3  ET_4  ET_5  ET_6  \\\n0    2021-05-04        22        1  6.91  6.94  6.97  6.93  6.99  7.05   \n1    2021-05-04        22        2  6.93  6.85  6.98  6.92  6.96  6.93   \n2    2021-05-04        22        3  6.84  6.86  6.83  6.89  6.85  6.85   \n3    2021-05-04        22        4  6.82  6.83  6.83  6.90  6.81  6.83   \n4    2021-05-04        22        5  6.89  6.90  6.90  6.93  6.87  6.87   \n..          ...       ...      ...   ...   ...   ...   ...   ...   ...   \n171  2021-05-09         2        8  6.81  6.84  6.89  6.78  6.82  6.95   \n172  2021-05-09         2        9  6.87  6.85  6.86  6.87  6.79  6.87   \n173  2021-05-09         2       10  6.86  6.85  6.89  6.86  6.93  6.86   \n174  2021-05-09         2       11  6.84  6.86  6.81  6.83  6.92  6.94   \n175  2021-05-09         2       12  6.90  6.82  6.83  6.81  6.84  6.78   \n\n     tilt_1  ...  ESC_3  ESC_4  ESC_5  ESC_6  wether  air_t  wind_d  wind_v  \\\n0      -0.5  ...      3      4      6      5      曇り   21.0      14     3.0   \n1      -0.5  ...      5      6      3      4      曇り   21.0       4     4.0   \n2       0.0  ...      3      4      5      6      曇り   21.0       4     3.0   \n3      -0.5  ...      3      4      5      6      曇り   21.0      14     3.0   \n4       0.0  ...      3      4      5      6      曇り   22.0       2     2.0   \n..      ...  ...    ...    ...    ...    ...     ...    ...     ...     ...   \n171    -0.5  ...      3      6      4      5       晴   27.0      16     2.0   \n172    -0.5  ...      3      4      5      6      曇り   27.0      16     1.0   \n173    -0.5  ...      3      4      5      6       晴   27.0       4     1.0   \n174     0.0  ...      3      4      5      6       晴   27.0       4     3.0   \n175    -0.5  ...      3      4      5      6       晴   27.0       4     1.0   \n\n     water_t  wave_h  \n0       15.0     3.0  \n1       15.0     4.0  \n2       15.0     3.0  \n3       15.0     3.0  \n4       15.0     2.0  \n..       ...     ...  \n171     22.0     1.0  \n172     22.0     0.0  \n173     22.0     1.0  \n174     22.0     2.0  \n175     22.0     1.0  \n\n[51949 rows x 33 columns]",
      "text/html": "<div>\n<style scoped>\n    .dataframe tbody tr th:only-of-type {\n        vertical-align: middle;\n    }\n\n    .dataframe tbody tr th {\n        vertical-align: top;\n    }\n\n    .dataframe thead th {\n        text-align: right;\n    }\n</style>\n<table border=\"1\" class=\"dataframe\">\n  <thead>\n    <tr style=\"text-align: right;\">\n      <th></th>\n      <th>date</th>\n      <th>place_cd</th>\n      <th>race_no</th>\n      <th>ET_1</th>\n      <th>ET_2</th>\n      <th>ET_3</th>\n      <th>ET_4</th>\n      <th>ET_5</th>\n      <th>ET_6</th>\n      <th>tilt_1</th>\n      <th>...</th>\n      <th>ESC_3</th>\n      <th>ESC_4</th>\n      <th>ESC_5</th>\n      <th>ESC_6</th>\n      <th>wether</th>\n      <th>air_t</th>\n      <th>wind_d</th>\n      <th>wind_v</th>\n      <th>water_t</th>\n      <th>wave_h</th>\n    </tr>\n  </thead>\n  <tbody>\n    <tr>\n      <th>0</th>\n      <td>2021-05-04</td>\n      <td>22</td>\n      <td>1</td>\n      <td>6.91</td>\n      <td>6.94</td>\n      <td>6.97</td>\n      <td>6.93</td>\n      <td>6.99</td>\n      <td>7.05</td>\n      <td>-0.5</td>\n      <td>...</td>\n      <td>3</td>\n      <td>4</td>\n      <td>6</td>\n      <td>5</td>\n      <td>曇り</td>\n      <td>21.0</td>\n      <td>14</td>\n      <td>3.0</td>\n      <td>15.0</td>\n      <td>3.0</td>\n    </tr>\n    <tr>\n      <th>1</th>\n      <td>2021-05-04</td>\n      <td>22</td>\n      <td>2</td>\n      <td>6.93</td>\n      <td>6.85</td>\n      <td>6.98</td>\n      <td>6.92</td>\n      <td>6.96</td>\n      <td>6.93</td>\n      <td>-0.5</td>\n      <td>...</td>\n      <td>5</td>\n      <td>6</td>\n      <td>3</td>\n      <td>4</td>\n      <td>曇り</td>\n      <td>21.0</td>\n      <td>4</td>\n      <td>4.0</td>\n      <td>15.0</td>\n      <td>4.0</td>\n    </tr>\n    <tr>\n      <th>2</th>\n      <td>2021-05-04</td>\n      <td>22</td>\n      <td>3</td>\n      <td>6.84</td>\n      <td>6.86</td>\n      <td>6.83</td>\n      <td>6.89</td>\n      <td>6.85</td>\n      <td>6.85</td>\n      <td>0.0</td>\n      <td>...</td>\n      <td>3</td>\n      <td>4</td>\n      <td>5</td>\n      <td>6</td>\n      <td>曇り</td>\n      <td>21.0</td>\n      <td>4</td>\n      <td>3.0</td>\n      <td>15.0</td>\n      <td>3.0</td>\n    </tr>\n    <tr>\n      <th>3</th>\n      <td>2021-05-04</td>\n      <td>22</td>\n      <td>4</td>\n      <td>6.82</td>\n      <td>6.83</td>\n      <td>6.83</td>\n      <td>6.90</td>\n      <td>6.81</td>\n      <td>6.83</td>\n      <td>-0.5</td>\n      <td>...</td>\n      <td>3</td>\n      <td>4</td>\n      <td>5</td>\n      <td>6</td>\n      <td>曇り</td>\n      <td>21.0</td>\n      <td>14</td>\n      <td>3.0</td>\n      <td>15.0</td>\n      <td>3.0</td>\n    </tr>\n    <tr>\n      <th>4</th>\n      <td>2021-05-04</td>\n      <td>22</td>\n      <td>5</td>\n      <td>6.89</td>\n      <td>6.90</td>\n      <td>6.90</td>\n      <td>6.93</td>\n      <td>6.87</td>\n      <td>6.87</td>\n      <td>0.0</td>\n      <td>...</td>\n      <td>3</td>\n      <td>4</td>\n      <td>5</td>\n      <td>6</td>\n      <td>曇り</td>\n      <td>22.0</td>\n      <td>2</td>\n      <td>2.0</td>\n      <td>15.0</td>\n      <td>2.0</td>\n    </tr>\n    <tr>\n      <th>...</th>\n      <td>...</td>\n      <td>...</td>\n      <td>...</td>\n      <td>...</td>\n      <td>...</td>\n      <td>...</td>\n      <td>...</td>\n      <td>...</td>\n      <td>...</td>\n      <td>...</td>\n      <td>...</td>\n      <td>...</td>\n      <td>...</td>\n      <td>...</td>\n      <td>...</td>\n      <td>...</td>\n      <td>...</td>\n      <td>...</td>\n      <td>...</td>\n      <td>...</td>\n      <td>...</td>\n    </tr>\n    <tr>\n      <th>171</th>\n      <td>2021-05-09</td>\n      <td>2</td>\n      <td>8</td>\n      <td>6.81</td>\n      <td>6.84</td>\n      <td>6.89</td>\n      <td>6.78</td>\n      <td>6.82</td>\n      <td>6.95</td>\n      <td>-0.5</td>\n      <td>...</td>\n      <td>3</td>\n      <td>6</td>\n      <td>4</td>\n      <td>5</td>\n      <td>晴</td>\n      <td>27.0</td>\n      <td>16</td>\n      <td>2.0</td>\n      <td>22.0</td>\n      <td>1.0</td>\n    </tr>\n    <tr>\n      <th>172</th>\n      <td>2021-05-09</td>\n      <td>2</td>\n      <td>9</td>\n      <td>6.87</td>\n      <td>6.85</td>\n      <td>6.86</td>\n      <td>6.87</td>\n      <td>6.79</td>\n      <td>6.87</td>\n      <td>-0.5</td>\n      <td>...</td>\n      <td>3</td>\n      <td>4</td>\n      <td>5</td>\n      <td>6</td>\n      <td>曇り</td>\n      <td>27.0</td>\n      <td>16</td>\n      <td>1.0</td>\n      <td>22.0</td>\n      <td>0.0</td>\n    </tr>\n    <tr>\n      <th>173</th>\n      <td>2021-05-09</td>\n      <td>2</td>\n      <td>10</td>\n      <td>6.86</td>\n      <td>6.85</td>\n      <td>6.89</td>\n      <td>6.86</td>\n      <td>6.93</td>\n      <td>6.86</td>\n      <td>-0.5</td>\n      <td>...</td>\n      <td>3</td>\n      <td>4</td>\n      <td>5</td>\n      <td>6</td>\n      <td>晴</td>\n      <td>27.0</td>\n      <td>4</td>\n      <td>1.0</td>\n      <td>22.0</td>\n      <td>1.0</td>\n    </tr>\n    <tr>\n      <th>174</th>\n      <td>2021-05-09</td>\n      <td>2</td>\n      <td>11</td>\n      <td>6.84</td>\n      <td>6.86</td>\n      <td>6.81</td>\n      <td>6.83</td>\n      <td>6.92</td>\n      <td>6.94</td>\n      <td>0.0</td>\n      <td>...</td>\n      <td>3</td>\n      <td>4</td>\n      <td>5</td>\n      <td>6</td>\n      <td>晴</td>\n      <td>27.0</td>\n      <td>4</td>\n      <td>3.0</td>\n      <td>22.0</td>\n      <td>2.0</td>\n    </tr>\n    <tr>\n      <th>175</th>\n      <td>2021-05-09</td>\n      <td>2</td>\n      <td>12</td>\n      <td>6.90</td>\n      <td>6.82</td>\n      <td>6.83</td>\n      <td>6.81</td>\n      <td>6.84</td>\n      <td>6.78</td>\n      <td>-0.5</td>\n      <td>...</td>\n      <td>3</td>\n      <td>4</td>\n      <td>5</td>\n      <td>6</td>\n      <td>晴</td>\n      <td>27.0</td>\n      <td>4</td>\n      <td>1.0</td>\n      <td>22.0</td>\n      <td>1.0</td>\n    </tr>\n  </tbody>\n</table>\n<p>51949 rows × 33 columns</p>\n</div>"
     },
     "execution_count": 57,
     "metadata": {},
     "output_type": "execute_result"
    }
   ],
   "source": [
    "drop_df"
   ],
   "metadata": {
    "collapsed": false,
    "pycharm": {
     "name": "#%%\n"
    }
   }
  },
  {
   "cell_type": "code",
   "execution_count": 53,
   "outputs": [],
   "source": [
    "drop_df.to_csv(\"dataset/all_data_2021.csv\", encoding='utf_8_sig')"
   ],
   "metadata": {
    "collapsed": false,
    "pycharm": {
     "name": "#%%\n"
    }
   }
  },
  {
   "cell_type": "code",
   "execution_count": 61,
   "outputs": [],
   "source": [
    "usecols = [f'{k}_{i}' for k in ('class', 'glob_win', 'glob_in2',\n",
    "                                 'loc_win', 'loc_in2', 'moter_in2', 'boat_in2')\n",
    "            for i in range(1, 7)]"
   ],
   "metadata": {
    "collapsed": false,
    "pycharm": {
     "name": "#%%\n"
    }
   }
  },
  {
   "cell_type": "code",
   "execution_count": 62,
   "outputs": [
    {
     "data": {
      "text/plain": "['glob_win_1',\n 'glob_win_2',\n 'glob_win_3',\n 'glob_win_4',\n 'glob_win_5',\n 'glob_win_6',\n 'glob_in2_1',\n 'glob_in2_2',\n 'glob_in2_3',\n 'glob_in2_4',\n 'glob_in2_5',\n 'glob_in2_6',\n 'loc_win_1',\n 'loc_win_2',\n 'loc_win_3',\n 'loc_win_4',\n 'loc_win_5',\n 'loc_win_6',\n 'loc_in2_1',\n 'loc_in2_2',\n 'loc_in2_3',\n 'loc_in2_4',\n 'loc_in2_5',\n 'loc_in2_6',\n 'moter_in2_1',\n 'moter_in2_2',\n 'moter_in2_3',\n 'moter_in2_4',\n 'moter_in2_5',\n 'moter_in2_6',\n 'boat_in2_1',\n 'boat_in2_2',\n 'boat_in2_3',\n 'boat_in2_4',\n 'boat_in2_5',\n 'boat_in2_6']"
     },
     "execution_count": 62,
     "metadata": {},
     "output_type": "execute_result"
    }
   ],
   "source": [
    "usecols"
   ],
   "metadata": {
    "collapsed": false,
    "pycharm": {
     "name": "#%%\n"
    }
   }
  },
  {
   "cell_type": "code",
   "execution_count": null,
   "outputs": [],
   "source": [
    "hoge = pd.read_csv(\"dataset/all_data_2021.csv\")\n"
   ],
   "metadata": {
    "collapsed": false,
    "pycharm": {
     "name": "#%%\n"
    }
   }
  }
 ],
 "metadata": {
  "kernelspec": {
   "display_name": "Python 3",
   "language": "python",
   "name": "python3"
  },
  "language_info": {
   "codemirror_mode": {
    "name": "ipython",
    "version": 2
   },
   "file_extension": ".py",
   "mimetype": "text/x-python",
   "name": "python",
   "nbconvert_exporter": "python",
   "pygments_lexer": "ipython2",
   "version": "2.7.6"
  }
 },
 "nbformat": 4,
 "nbformat_minor": 0
}