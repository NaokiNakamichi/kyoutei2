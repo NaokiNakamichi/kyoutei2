{
 "cells": [
  {
   "cell_type": "code",
   "execution_count": 1,
   "metadata": {
    "collapsed": true
   },
   "outputs": [],
   "source": [
    "import matplotlib.pyplot as plt\n",
    "import pandas as pd\n",
    "import numpy as np"
   ]
  },
  {
   "cell_type": "code",
   "execution_count": 8,
   "outputs": [],
   "source": [],
   "metadata": {
    "collapsed": false,
    "pycharm": {
     "name": "#%%\n"
    }
   }
  },
  {
   "cell_type": "code",
   "execution_count": 15,
   "outputs": [
    {
     "data": {
      "text/plain": "(array([16., 17.,  9., 13.,  7., 11.,  7.,  8.,  5.,  0.,  5.,  5.,  1.,\n         1.,  2.,  4.,  5.,  3.,  5.,  0.,  3.,  1.,  1.,  1.,  2.,  1.,\n         2.,  1.,  1.,  0.,  1.,  2.,  0.,  0.,  1.,  1.,  2.,  0.,  1.,\n         0.,  1.,  1.,  0.,  0.,  2.,  1.,  0.,  1.,  1.,  0.,  1.,  1.,\n         0.,  1.,  0.,  0.,  0.,  3.,  0.,  0.,  1.,  2.,  0.,  1.,  0.,\n         0.,  1.,  2.,  0.,  0.,  4.,  0.,  0.,  0.,  0.,  0.,  0.,  2.,\n         1.,  0.,  0.,  1.,  0.,  1.,  0.,  0.,  0.,  0.,  2.,  0.,  0.,\n         0.,  0.,  0.,  0.,  1.,  0.,  0.,  0.,  0.]),\n array([ 1.  ,  1.09,  1.18,  1.27,  1.36,  1.45,  1.54,  1.63,  1.72,\n         1.81,  1.9 ,  1.99,  2.08,  2.17,  2.26,  2.35,  2.44,  2.53,\n         2.62,  2.71,  2.8 ,  2.89,  2.98,  3.07,  3.16,  3.25,  3.34,\n         3.43,  3.52,  3.61,  3.7 ,  3.79,  3.88,  3.97,  4.06,  4.15,\n         4.24,  4.33,  4.42,  4.51,  4.6 ,  4.69,  4.78,  4.87,  4.96,\n         5.05,  5.14,  5.23,  5.32,  5.41,  5.5 ,  5.59,  5.68,  5.77,\n         5.86,  5.95,  6.04,  6.13,  6.22,  6.31,  6.4 ,  6.49,  6.58,\n         6.67,  6.76,  6.85,  6.94,  7.03,  7.12,  7.21,  7.3 ,  7.39,\n         7.48,  7.57,  7.66,  7.75,  7.84,  7.93,  8.02,  8.11,  8.2 ,\n         8.29,  8.38,  8.47,  8.56,  8.65,  8.74,  8.83,  8.92,  9.01,\n         9.1 ,  9.19,  9.28,  9.37,  9.46,  9.55,  9.64,  9.73,  9.82,\n         9.91, 10.  ]),\n <BarContainer object of 100 artists>)"
     },
     "execution_count": 15,
     "metadata": {},
     "output_type": "execute_result"
    },
    {
     "data": {
      "text/plain": "<Figure size 432x288 with 1 Axes>",
      "image/png": "[encoded data removed]"
     },
     "metadata": {
      "needs_background": "light"
     },
     "output_type": "display_data"
    }
   ],
   "source": [],
   "metadata": {
    "collapsed": false,
    "pycharm": {
     "name": "#%%\n"
    }
   }
  },
  {
   "cell_type": "code",
   "execution_count": 5,
   "outputs": [
    {
     "name": "stderr",
     "output_type": "stream",
     "text": [
      "/var/folders/s6/7jf_zlp94gg5cpb8c5lrx2j80000gn/T/ipykernel_4530/4168998115.py:1: DtypeWarning: Columns (4,5,6,7,8,9) have mixed types. Specify dtype option on import or set low_memory=False.\n",
      "  sanren_df = pd.read_csv(\"dataset/all_data_2021_2022_03.csv\",index_col=0)\n"
     ]
    }
   ],
   "source": [
    "sanren_df = pd.read_csv(\"dataset/all_data_2021_2022_03.csv\",index_col=0)"
   ],
   "metadata": {
    "collapsed": false,
    "pycharm": {
     "name": "#%%\n"
    }
   }
  },
  {
   "cell_type": "code",
   "execution_count": 13,
   "outputs": [
    {
     "data": {
      "text/plain": "<AxesSubplot:>"
     },
     "execution_count": 13,
     "metadata": {},
     "output_type": "execute_result"
    },
    {
     "data": {
      "text/plain": "<Figure size 432x288 with 1 Axes>",
      "image/png": "[encoded data removed]"
     },
     "metadata": {
      "needs_background": "light"
     },
     "output_type": "display_data"
    }
   ],
   "source": [
    "sanren_df[\"tkt_3t\"].value_counts().plot(kind=\"bar\")"
   ],
   "metadata": {
    "collapsed": false,
    "pycharm": {
     "name": "#%%\n"
    }
   }
  },
  {
   "cell_type": "code",
   "execution_count": 15,
   "outputs": [
    {
     "data": {
      "text/plain": "1-2-3    3207\n1-2-4    2365\n1-3-2    2288\n1-3-4    2009\n1-2-5    1598\n         ... \n6-5-4      45\n6-5-1      45\n6-4-3      44\n6-3-5      41\n6-5-2      34\nName: tkt_3t, Length: 120, dtype: int64"
     },
     "execution_count": 15,
     "metadata": {},
     "output_type": "execute_result"
    }
   ],
   "source": [
    "sanren_df[\"tkt_3t\"].value_counts()"
   ],
   "metadata": {
    "collapsed": false,
    "pycharm": {
     "name": "#%%\n"
    }
   }
  },
  {
   "cell_type": "code",
   "execution_count": 30,
   "outputs": [
    {
     "data": {
      "text/plain": "place_cd  tkt_3t\n1         1-2-3     138\n          1-3-2     125\n          1-3-4     100\n          1-2-4      96\n          1-3-5      73\n                   ... \n24        6-3-2       1\n          5-3-4       1\n          4-6-3       1\n          2-6-3       1\n          6-5-3       1\nLength: 2703, dtype: int64"
     },
     "execution_count": 30,
     "metadata": {},
     "output_type": "execute_result"
    }
   ],
   "source": [
    "sanren_df[[\"place_cd\",\"tkt_3t\"]].groupby(\"place_cd\").value_counts()"
   ],
   "metadata": {
    "collapsed": false,
    "pycharm": {
     "name": "#%%\n"
    }
   }
  },
  {
   "cell_type": "code",
   "execution_count": 6,
   "outputs": [
    {
     "data": {
      "text/plain": "<AxesSubplot:>"
     },
     "execution_count": 6,
     "metadata": {},
     "output_type": "execute_result"
    },
    {
     "data": {
      "text/plain": "<Figure size 432x288 with 1 Axes>",
      "image/png": "[encoded data removed]"
     },
     "metadata": {
      "needs_background": "light"
     },
     "output_type": "display_data"
    }
   ],
   "source": [
    "sanren_df[\"tkt_3f\"].value_counts().plot(kind=\"bar\")"
   ],
   "metadata": {
    "collapsed": false,
    "pycharm": {
     "name": "#%%\n"
    }
   }
  },
  {
   "cell_type": "code",
   "execution_count": null,
   "outputs": [],
   "source": [],
   "metadata": {
    "collapsed": false,
    "pycharm": {
     "name": "#%%\n"
    }
   }
  }
 ],
 "metadata": {
  "kernelspec": {
   "display_name": "Python 3",
   "language": "python",
   "name": "python3"
  },
  "language_info": {
   "codemirror_mode": {
    "name": "ipython",
    "version": 2
   },
   "file_extension": ".py",
   "mimetype": "text/x-python",
   "name": "python",
   "nbconvert_exporter": "python",
   "pygments_lexer": "ipython2",
   "version": "2.7.6"
  }
 },
 "nbformat": 4,
 "nbformat_minor": 0
}