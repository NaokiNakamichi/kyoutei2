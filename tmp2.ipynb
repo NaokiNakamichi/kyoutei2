{
 "cells": [
  {
   "cell_type": "code",
   "execution_count": 1,
   "metadata": {
    "collapsed": true
   },
   "outputs": [
    {
     "name": "stderr",
     "output_type": "stream",
     "text": [
      "/var/folders/s6/7jf_zlp94gg5cpb8c5lrx2j80000gn/T/ipykernel_53700/981788236.py:5: DeprecationWarning: Importing display from IPython.core.display is deprecated since IPython 7.14, please import from IPython display\n",
      "  from IPython.core.display import display\n"
     ]
    }
   ],
   "source": [
    "import numpy as np\n",
    "import data_get\n",
    "import race_before_data\n",
    "import pandas as pd\n",
    "from IPython.core.display import display\n",
    "import glob"
   ]
  },
  {
   "cell_type": "code",
   "execution_count": 2,
   "outputs": [],
   "source": [
    "usecols = [f'{k}_{i}' for k in ('class', 'glob_win', 'glob_in2',\n",
    "                                'loc_win', 'loc_in2', 'moter_in2', 'boat_in2', 'EST','ESC' )\n",
    "            for i in range(1, 7)]\n",
    "\n",
    "usecols += [f'ET_{i}_y'\n",
    "            for i in range(1, 7)]"
   ],
   "metadata": {
    "collapsed": false,
    "pycharm": {
     "name": "#%%\n"
    }
   }
  },
  {
   "cell_type": "code",
   "execution_count": 3,
   "outputs": [
    {
     "name": "stderr",
     "output_type": "stream",
     "text": [
      "/var/folders/s6/7jf_zlp94gg5cpb8c5lrx2j80000gn/T/ipykernel_53700/2006806904.py:1: DtypeWarning: Columns (4,5,6,7,8,9) have mixed types. Specify dtype option on import or set low_memory=False.\n",
      "  hoge = pd.read_csv(\"dataset/all_data_2021.csv\")\n"
     ]
    }
   ],
   "source": [
    "hoge = pd.read_csv(\"dataset/all_data_2021.csv\")"
   ],
   "metadata": {
    "collapsed": false,
    "pycharm": {
     "name": "#%%\n"
    }
   }
  },
  {
   "cell_type": "code",
   "execution_count": 4,
   "outputs": [],
   "source": [
    "tmp = hoge[usecols]"
   ],
   "metadata": {
    "collapsed": false,
    "pycharm": {
     "name": "#%%\n"
    }
   }
  },
  {
   "cell_type": "code",
   "execution_count": 5,
   "outputs": [],
   "source": [
    "def rank_mapper(x):\n",
    "    if 'A1' in x:\n",
    "        y = 4\n",
    "    elif 'A2' in x:\n",
    "        y = 3\n",
    "    elif 'B1' in x:\n",
    "        y = 2\n",
    "    else:\n",
    "        y = 1\n",
    "    return y"
   ],
   "metadata": {
    "collapsed": false,
    "pycharm": {
     "name": "#%%\n"
    }
   }
  },
  {
   "cell_type": "code",
   "execution_count": 6,
   "outputs": [
    {
     "name": "stderr",
     "output_type": "stream",
     "text": [
      "/var/folders/s6/7jf_zlp94gg5cpb8c5lrx2j80000gn/T/ipykernel_53700/3960710544.py:3: SettingWithCopyWarning: \n",
      "A value is trying to be set on a copy of a slice from a DataFrame.\n",
      "Try using .loc[row_indexer,col_indexer] = value instead\n",
      "\n",
      "See the caveats in the documentation: https://pandas.pydata.org/pandas-docs/stable/user_guide/indexing.html#returning-a-view-versus-a-copy\n",
      "  tmp.loc[:, col_name_class] = tmp.loc[:, col_name_class].map(rank_mapper)\n"
     ]
    }
   ],
   "source": [
    "for i in range(1,7):\n",
    "    col_name_class = f\"class_{i}\"\n",
    "    tmp.loc[:, col_name_class] = tmp.loc[:, col_name_class].map(rank_mapper)"
   ],
   "metadata": {
    "collapsed": false,
    "pycharm": {
     "name": "#%%\n"
    }
   }
  },
  {
   "cell_type": "code",
   "execution_count": 7,
   "outputs": [],
   "source": [
    "class_col = [s for s in tmp.columns if \"class\" in s]"
   ],
   "metadata": {
    "collapsed": false,
    "pycharm": {
     "name": "#%%\n"
    }
   }
  },
  {
   "cell_type": "code",
   "execution_count": 8,
   "outputs": [
    {
     "name": "stderr",
     "output_type": "stream",
     "text": [
      "/var/folders/s6/7jf_zlp94gg5cpb8c5lrx2j80000gn/T/ipykernel_53700/3214705363.py:8: SettingWithCopyWarning: \n",
      "A value is trying to be set on a copy of a slice from a DataFrame.\n",
      "Try using .loc[row_indexer,col_indexer] = value instead\n",
      "\n",
      "See the caveats in the documentation: https://pandas.pydata.org/pandas-docs/stable/user_guide/indexing.html#returning-a-view-versus-a-copy\n",
      "  tmp.loc[:, class_col] = tmp.loc[:,class_col].apply(hensachi,axis=1)\n"
     ]
    }
   ],
   "source": [
    "def hensachi(x):\n",
    "    if x.std() == 0:\n",
    "        return np.full(6,50.0)\n",
    "\n",
    "    hensa = (x - x.mean())*10/x.std()+50\n",
    "\n",
    "    return hensa\n",
    "tmp.loc[:, class_col] = tmp.loc[:,class_col].apply(hensachi,axis=1)\n"
   ],
   "metadata": {
    "collapsed": false,
    "pycharm": {
     "name": "#%%\n"
    }
   }
  },
  {
   "cell_type": "code",
   "execution_count": 9,
   "outputs": [
    {
     "name": "stderr",
     "output_type": "stream",
     "text": [
      "/var/folders/s6/7jf_zlp94gg5cpb8c5lrx2j80000gn/T/ipykernel_53700/267683165.py:5: SettingWithCopyWarning: \n",
      "A value is trying to be set on a copy of a slice from a DataFrame.\n",
      "Try using .loc[row_indexer,col_indexer] = value instead\n",
      "\n",
      "See the caveats in the documentation: https://pandas.pydata.org/pandas-docs/stable/user_guide/indexing.html#returning-a-view-versus-a-copy\n",
      "  tmp.loc[: , class_col] = tmp.loc[:, class_col].apply(hensachi,axis=1)\n",
      "/var/folders/s6/7jf_zlp94gg5cpb8c5lrx2j80000gn/T/ipykernel_53700/267683165.py:5: SettingWithCopyWarning: \n",
      "A value is trying to be set on a copy of a slice from a DataFrame.\n",
      "Try using .loc[row_indexer,col_indexer] = value instead\n",
      "\n",
      "See the caveats in the documentation: https://pandas.pydata.org/pandas-docs/stable/user_guide/indexing.html#returning-a-view-versus-a-copy\n",
      "  tmp.loc[: , class_col] = tmp.loc[:, class_col].apply(hensachi,axis=1)\n",
      "/var/folders/s6/7jf_zlp94gg5cpb8c5lrx2j80000gn/T/ipykernel_53700/267683165.py:5: SettingWithCopyWarning: \n",
      "A value is trying to be set on a copy of a slice from a DataFrame.\n",
      "Try using .loc[row_indexer,col_indexer] = value instead\n",
      "\n",
      "See the caveats in the documentation: https://pandas.pydata.org/pandas-docs/stable/user_guide/indexing.html#returning-a-view-versus-a-copy\n",
      "  tmp.loc[: , class_col] = tmp.loc[:, class_col].apply(hensachi,axis=1)\n",
      "/var/folders/s6/7jf_zlp94gg5cpb8c5lrx2j80000gn/T/ipykernel_53700/267683165.py:5: SettingWithCopyWarning: \n",
      "A value is trying to be set on a copy of a slice from a DataFrame.\n",
      "Try using .loc[row_indexer,col_indexer] = value instead\n",
      "\n",
      "See the caveats in the documentation: https://pandas.pydata.org/pandas-docs/stable/user_guide/indexing.html#returning-a-view-versus-a-copy\n",
      "  tmp.loc[: , class_col] = tmp.loc[:, class_col].apply(hensachi,axis=1)\n",
      "/var/folders/s6/7jf_zlp94gg5cpb8c5lrx2j80000gn/T/ipykernel_53700/267683165.py:5: SettingWithCopyWarning: \n",
      "A value is trying to be set on a copy of a slice from a DataFrame.\n",
      "Try using .loc[row_indexer,col_indexer] = value instead\n",
      "\n",
      "See the caveats in the documentation: https://pandas.pydata.org/pandas-docs/stable/user_guide/indexing.html#returning-a-view-versus-a-copy\n",
      "  tmp.loc[: , class_col] = tmp.loc[:, class_col].apply(hensachi,axis=1)\n",
      "/var/folders/s6/7jf_zlp94gg5cpb8c5lrx2j80000gn/T/ipykernel_53700/267683165.py:5: SettingWithCopyWarning: \n",
      "A value is trying to be set on a copy of a slice from a DataFrame.\n",
      "Try using .loc[row_indexer,col_indexer] = value instead\n",
      "\n",
      "See the caveats in the documentation: https://pandas.pydata.org/pandas-docs/stable/user_guide/indexing.html#returning-a-view-versus-a-copy\n",
      "  tmp.loc[: , class_col] = tmp.loc[:, class_col].apply(hensachi,axis=1)\n",
      "/var/folders/s6/7jf_zlp94gg5cpb8c5lrx2j80000gn/T/ipykernel_53700/267683165.py:5: SettingWithCopyWarning: \n",
      "A value is trying to be set on a copy of a slice from a DataFrame.\n",
      "Try using .loc[row_indexer,col_indexer] = value instead\n",
      "\n",
      "See the caveats in the documentation: https://pandas.pydata.org/pandas-docs/stable/user_guide/indexing.html#returning-a-view-versus-a-copy\n",
      "  tmp.loc[: , class_col] = tmp.loc[:, class_col].apply(hensachi,axis=1)\n",
      "/var/folders/s6/7jf_zlp94gg5cpb8c5lrx2j80000gn/T/ipykernel_53700/267683165.py:5: SettingWithCopyWarning: \n",
      "A value is trying to be set on a copy of a slice from a DataFrame.\n",
      "Try using .loc[row_indexer,col_indexer] = value instead\n",
      "\n",
      "See the caveats in the documentation: https://pandas.pydata.org/pandas-docs/stable/user_guide/indexing.html#returning-a-view-versus-a-copy\n",
      "  tmp.loc[: , class_col] = tmp.loc[:, class_col].apply(hensachi,axis=1)\n",
      "/var/folders/s6/7jf_zlp94gg5cpb8c5lrx2j80000gn/T/ipykernel_53700/267683165.py:5: SettingWithCopyWarning: \n",
      "A value is trying to be set on a copy of a slice from a DataFrame.\n",
      "Try using .loc[row_indexer,col_indexer] = value instead\n",
      "\n",
      "See the caveats in the documentation: https://pandas.pydata.org/pandas-docs/stable/user_guide/indexing.html#returning-a-view-versus-a-copy\n",
      "  tmp.loc[: , class_col] = tmp.loc[:, class_col].apply(hensachi,axis=1)\n"
     ]
    },
    {
     "data": {
      "text/plain": "         class_1    class_2    class_3    class_4    class_5    class_6  \\\n0      55.976143  44.023857  44.023857  67.928429  44.023857  44.023857   \n1      66.329932  54.082483  41.835034  54.082483  41.835034  41.835034   \n2      54.767313  64.301939  45.232687  45.232687  54.767313  35.698061   \n3      44.023857  55.976143  44.023857  44.023857  67.928429  44.023857   \n4      41.835034  66.329932  41.835034  54.082483  41.835034  54.082483   \n...          ...        ...        ...        ...        ...        ...   \n44793  46.772514  46.772514  56.454972  37.090056  46.772514  66.137431   \n44794  56.454972  37.090056  56.454972  56.454972  37.090056  56.454972   \n44795  65.498260  38.929814  52.214037  38.929814  52.214037  52.214037   \n44796  65.498260  52.214037  52.214037  52.214037  38.929814  38.929814   \n44797  54.082483  54.082483  29.587585  54.082483  54.082483  54.082483   \n\n       glob_win_1  glob_win_2  glob_win_3  glob_win_4  ...      ESC_3  \\\n0       49.809997   45.304201   48.832836   68.321757  ...  52.672612   \n1       64.161019   52.391519   48.199643   55.535427  ...  47.327388   \n2       58.489989   58.586741   50.749828   46.734620  ...  47.327388   \n3       44.880599   61.578181   42.380426   37.380080  ...  47.327388   \n4       34.875193   53.745710   45.817472   50.404056  ...  47.327388   \n...           ...         ...         ...         ...  ...        ...   \n44793   52.255058   46.465044   51.523688   32.569010  ...  47.327388   \n44794   49.953542   42.055598   51.254379   66.028179  ...  47.327388   \n44795   61.677814   35.777604   52.135631   44.229252  ...  47.327388   \n44796   56.816773   65.345817   46.930837   43.247841  ...  47.327388   \n44797   62.707807   44.685826   60.397297   36.830091  ...  47.327388   \n\n           ESC_4      ESC_5      ESC_6     ET_1_y     ET_2_y     ET_3_y  \\\n0      41.982163  58.017837  63.363062  66.736548  46.652690  39.121244   \n1      52.672612  58.017837  63.363062  55.536102  31.378565  55.536102   \n2      52.672612  58.017837  63.363062  62.346620  47.530676  45.061352   \n3      52.672612  58.017837  63.363062  56.099375  63.418626  48.780125   \n4      52.672612  58.017837  63.363062  51.977041  32.997443  51.977041   \n...          ...        ...        ...        ...        ...        ...   \n44793  63.363062  52.672612  58.017837  43.795105  48.651110  56.744452   \n44794  52.672612  58.017837  63.363062  55.866354  49.466695  52.666524   \n44795  52.672612  58.017837  63.363062  45.027548  41.712581  54.972452   \n44796  52.672612  58.017837  63.363062  44.874322  48.718580  39.107934   \n44797  52.672612  58.017837  63.363062  67.500000  47.500000  50.000000   \n\n          ET_4_y     ET_5_y     ET_6_y  \n0      44.142208  56.694619  46.652690  \n1      58.555795  52.516410  46.477026  \n2      35.184056  59.877296  50.000000  \n3      34.141624  52.439750  45.120500  \n4      63.839290  47.232142  51.977041  \n...          ...        ...        ...  \n44793  38.939099  45.413773  66.456462  \n44794  55.866354  30.267719  55.866354  \n44795  45.027548  68.232322  45.027548  \n44796  42.952192  60.251357  64.095615  \n44797  45.000000  52.500000  37.500000  \n\n[44798 rows x 60 columns]",
      "text/html": "<div>\n<style scoped>\n    .dataframe tbody tr th:only-of-type {\n        vertical-align: middle;\n    }\n\n    .dataframe tbody tr th {\n        vertical-align: top;\n    }\n\n    .dataframe thead th {\n        text-align: right;\n    }\n</style>\n<table border=\"1\" class=\"dataframe\">\n  <thead>\n    <tr style=\"text-align: right;\">\n      <th></th>\n      <th>class_1</th>\n      <th>class_2</th>\n      <th>class_3</th>\n      <th>class_4</th>\n      <th>class_5</th>\n      <th>class_6</th>\n      <th>glob_win_1</th>\n      <th>glob_win_2</th>\n      <th>glob_win_3</th>\n      <th>glob_win_4</th>\n      <th>...</th>\n      <th>ESC_3</th>\n      <th>ESC_4</th>\n      <th>ESC_5</th>\n      <th>ESC_6</th>\n      <th>ET_1_y</th>\n      <th>ET_2_y</th>\n      <th>ET_3_y</th>\n      <th>ET_4_y</th>\n      <th>ET_5_y</th>\n      <th>ET_6_y</th>\n    </tr>\n  </thead>\n  <tbody>\n    <tr>\n      <th>0</th>\n      <td>55.976143</td>\n      <td>44.023857</td>\n      <td>44.023857</td>\n      <td>67.928429</td>\n      <td>44.023857</td>\n      <td>44.023857</td>\n      <td>49.809997</td>\n      <td>45.304201</td>\n      <td>48.832836</td>\n      <td>68.321757</td>\n      <td>...</td>\n      <td>52.672612</td>\n      <td>41.982163</td>\n      <td>58.017837</td>\n      <td>63.363062</td>\n      <td>66.736548</td>\n      <td>46.652690</td>\n      <td>39.121244</td>\n      <td>44.142208</td>\n      <td>56.694619</td>\n      <td>46.652690</td>\n    </tr>\n    <tr>\n      <th>1</th>\n      <td>66.329932</td>\n      <td>54.082483</td>\n      <td>41.835034</td>\n      <td>54.082483</td>\n      <td>41.835034</td>\n      <td>41.835034</td>\n      <td>64.161019</td>\n      <td>52.391519</td>\n      <td>48.199643</td>\n      <td>55.535427</td>\n      <td>...</td>\n      <td>47.327388</td>\n      <td>52.672612</td>\n      <td>58.017837</td>\n      <td>63.363062</td>\n      <td>55.536102</td>\n      <td>31.378565</td>\n      <td>55.536102</td>\n      <td>58.555795</td>\n      <td>52.516410</td>\n      <td>46.477026</td>\n    </tr>\n    <tr>\n      <th>2</th>\n      <td>54.767313</td>\n      <td>64.301939</td>\n      <td>45.232687</td>\n      <td>45.232687</td>\n      <td>54.767313</td>\n      <td>35.698061</td>\n      <td>58.489989</td>\n      <td>58.586741</td>\n      <td>50.749828</td>\n      <td>46.734620</td>\n      <td>...</td>\n      <td>47.327388</td>\n      <td>52.672612</td>\n      <td>58.017837</td>\n      <td>63.363062</td>\n      <td>62.346620</td>\n      <td>47.530676</td>\n      <td>45.061352</td>\n      <td>35.184056</td>\n      <td>59.877296</td>\n      <td>50.000000</td>\n    </tr>\n    <tr>\n      <th>3</th>\n      <td>44.023857</td>\n      <td>55.976143</td>\n      <td>44.023857</td>\n      <td>44.023857</td>\n      <td>67.928429</td>\n      <td>44.023857</td>\n      <td>44.880599</td>\n      <td>61.578181</td>\n      <td>42.380426</td>\n      <td>37.380080</td>\n      <td>...</td>\n      <td>47.327388</td>\n      <td>52.672612</td>\n      <td>58.017837</td>\n      <td>63.363062</td>\n      <td>56.099375</td>\n      <td>63.418626</td>\n      <td>48.780125</td>\n      <td>34.141624</td>\n      <td>52.439750</td>\n      <td>45.120500</td>\n    </tr>\n    <tr>\n      <th>4</th>\n      <td>41.835034</td>\n      <td>66.329932</td>\n      <td>41.835034</td>\n      <td>54.082483</td>\n      <td>41.835034</td>\n      <td>54.082483</td>\n      <td>34.875193</td>\n      <td>53.745710</td>\n      <td>45.817472</td>\n      <td>50.404056</td>\n      <td>...</td>\n      <td>47.327388</td>\n      <td>52.672612</td>\n      <td>58.017837</td>\n      <td>63.363062</td>\n      <td>51.977041</td>\n      <td>32.997443</td>\n      <td>51.977041</td>\n      <td>63.839290</td>\n      <td>47.232142</td>\n      <td>51.977041</td>\n    </tr>\n    <tr>\n      <th>...</th>\n      <td>...</td>\n      <td>...</td>\n      <td>...</td>\n      <td>...</td>\n      <td>...</td>\n      <td>...</td>\n      <td>...</td>\n      <td>...</td>\n      <td>...</td>\n      <td>...</td>\n      <td>...</td>\n      <td>...</td>\n      <td>...</td>\n      <td>...</td>\n      <td>...</td>\n      <td>...</td>\n      <td>...</td>\n      <td>...</td>\n      <td>...</td>\n      <td>...</td>\n      <td>...</td>\n    </tr>\n    <tr>\n      <th>44793</th>\n      <td>46.772514</td>\n      <td>46.772514</td>\n      <td>56.454972</td>\n      <td>37.090056</td>\n      <td>46.772514</td>\n      <td>66.137431</td>\n      <td>52.255058</td>\n      <td>46.465044</td>\n      <td>51.523688</td>\n      <td>32.569010</td>\n      <td>...</td>\n      <td>47.327388</td>\n      <td>63.363062</td>\n      <td>52.672612</td>\n      <td>58.017837</td>\n      <td>43.795105</td>\n      <td>48.651110</td>\n      <td>56.744452</td>\n      <td>38.939099</td>\n      <td>45.413773</td>\n      <td>66.456462</td>\n    </tr>\n    <tr>\n      <th>44794</th>\n      <td>56.454972</td>\n      <td>37.090056</td>\n      <td>56.454972</td>\n      <td>56.454972</td>\n      <td>37.090056</td>\n      <td>56.454972</td>\n      <td>49.953542</td>\n      <td>42.055598</td>\n      <td>51.254379</td>\n      <td>66.028179</td>\n      <td>...</td>\n      <td>47.327388</td>\n      <td>52.672612</td>\n      <td>58.017837</td>\n      <td>63.363062</td>\n      <td>55.866354</td>\n      <td>49.466695</td>\n      <td>52.666524</td>\n      <td>55.866354</td>\n      <td>30.267719</td>\n      <td>55.866354</td>\n    </tr>\n    <tr>\n      <th>44795</th>\n      <td>65.498260</td>\n      <td>38.929814</td>\n      <td>52.214037</td>\n      <td>38.929814</td>\n      <td>52.214037</td>\n      <td>52.214037</td>\n      <td>61.677814</td>\n      <td>35.777604</td>\n      <td>52.135631</td>\n      <td>44.229252</td>\n      <td>...</td>\n      <td>47.327388</td>\n      <td>52.672612</td>\n      <td>58.017837</td>\n      <td>63.363062</td>\n      <td>45.027548</td>\n      <td>41.712581</td>\n      <td>54.972452</td>\n      <td>45.027548</td>\n      <td>68.232322</td>\n      <td>45.027548</td>\n    </tr>\n    <tr>\n      <th>44796</th>\n      <td>65.498260</td>\n      <td>52.214037</td>\n      <td>52.214037</td>\n      <td>52.214037</td>\n      <td>38.929814</td>\n      <td>38.929814</td>\n      <td>56.816773</td>\n      <td>65.345817</td>\n      <td>46.930837</td>\n      <td>43.247841</td>\n      <td>...</td>\n      <td>47.327388</td>\n      <td>52.672612</td>\n      <td>58.017837</td>\n      <td>63.363062</td>\n      <td>44.874322</td>\n      <td>48.718580</td>\n      <td>39.107934</td>\n      <td>42.952192</td>\n      <td>60.251357</td>\n      <td>64.095615</td>\n    </tr>\n    <tr>\n      <th>44797</th>\n      <td>54.082483</td>\n      <td>54.082483</td>\n      <td>29.587585</td>\n      <td>54.082483</td>\n      <td>54.082483</td>\n      <td>54.082483</td>\n      <td>62.707807</td>\n      <td>44.685826</td>\n      <td>60.397297</td>\n      <td>36.830091</td>\n      <td>...</td>\n      <td>47.327388</td>\n      <td>52.672612</td>\n      <td>58.017837</td>\n      <td>63.363062</td>\n      <td>67.500000</td>\n      <td>47.500000</td>\n      <td>50.000000</td>\n      <td>45.000000</td>\n      <td>52.500000</td>\n      <td>37.500000</td>\n    </tr>\n  </tbody>\n</table>\n<p>44798 rows × 60 columns</p>\n</div>"
     },
     "execution_count": 9,
     "metadata": {},
     "output_type": "execute_result"
    }
   ],
   "source": [
    "hensa_col = ['glob_win', 'glob_in2','loc_win', 'loc_in2', 'moter_in2', 'boat_in2', 'EST', \"ET\",\"ESC\"]\n",
    "\n",
    "for i in hensa_col:\n",
    "    class_col = [s for s in tmp.columns if i in s]\n",
    "    tmp.loc[: , class_col] = tmp.loc[:, class_col].apply(hensachi,axis=1)\n",
    "\n",
    "tmp"
   ],
   "metadata": {
    "collapsed": false,
    "pycharm": {
     "name": "#%%\n"
    }
   }
  },
  {
   "cell_type": "code",
   "execution_count": 10,
   "outputs": [
    {
     "data": {
      "text/plain": "array(['1', '1', '4', ..., '1', '3', '4'], dtype=object)"
     },
     "execution_count": 10,
     "metadata": {},
     "output_type": "execute_result"
    }
   ],
   "source": [
    "hoge.loc[:, \"tkt_1t\"].values"
   ],
   "metadata": {
    "collapsed": false,
    "pycharm": {
     "name": "#%%\n"
    }
   }
  },
  {
   "cell_type": "code",
   "execution_count": 10,
   "outputs": [],
   "source": [],
   "metadata": {
    "collapsed": false,
    "pycharm": {
     "name": "#%%\n"
    }
   }
  }
 ],
 "metadata": {
  "kernelspec": {
   "display_name": "Python 3",
   "language": "python",
   "name": "python3"
  },
  "language_info": {
   "codemirror_mode": {
    "name": "ipython",
    "version": 2
   },
   "file_extension": ".py",
   "mimetype": "text/x-python",
   "name": "python",
   "nbconvert_exporter": "python",
   "pygments_lexer": "ipython2",
   "version": "2.7.6"
  }
 },
 "nbformat": 4,
 "nbformat_minor": 0
}