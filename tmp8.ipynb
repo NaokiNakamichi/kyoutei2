{
 "cells": [
  {
   "cell_type": "code",
   "execution_count": 15,
   "outputs": [
    {
     "name": "stdout",
     "output_type": "stream",
     "text": [
      "1648955398.082921\n",
      "1648955398.086427\n",
      "1648955398.086616\n"
     ]
    }
   ],
   "source": [
    "import lightgbm as lgb\n",
    "import pandas as pd # 基本ライブラリ\n",
    "import numpy as np # 基本ライブラリ\n",
    "import matplotlib.pyplot as plt # グラフ描画用\n",
    "\n",
    "import data_get\n",
    "import race_before_data\n",
    "import time\n",
    "import datetime\n",
    "import sched\n",
    "\n",
    "run_time = [\n",
    "    '2022-04-03 11:49:00','2022-04-03 11:49:05','2022-04-03 11:49:10',\n",
    "]\n",
    "\n",
    "def func():\n",
    "    print(time.time())\n",
    "\n",
    "s = sched.scheduler(time.time)\n",
    "for rt in run_time:\n",
    "    t = time.strptime(rt, '%Y-%m-%d %H:%M:%S')\n",
    "    t = time.mktime(t)\n",
    "    s.enterabs(t, 1, func)\n",
    "s.run()"
   ],
   "metadata": {
    "collapsed": false,
    "pycharm": {
     "name": "#%%\n"
    }
   }
  },
  {
   "cell_type": "code",
   "execution_count": 19,
   "outputs": [],
   "source": [
    "date = '2022-04-03'\n",
    "data_get.download_file('racelists', date)\n",
    "df_race = data_get.get_racelists(date)\n",
    "\n",
    "df_race.to_csv(f\"dataset/rawdata_syussouhyou/{date}_race_list.csv\", encoding='utf_8_sig')\n",
    "df_race = df_race.sort_values(by=\"deadline\")\n",
    "\n",
    "data_get.download_file('results', date)\n",
    "df_result = data_get.get_results(date)\n",
    "\n",
    "deadlines_list = df_race[\"deadline\"].values"
   ],
   "metadata": {
    "collapsed": false,
    "pycharm": {
     "name": "#%%\n"
    }
   }
  },
  {
   "cell_type": "code",
   "execution_count": 20,
   "outputs": [
    {
     "data": {
      "text/plain": "array(['08:59', '09:28', '09:57', '10:26', '10:30', '10:53', '10:54',\n       '10:57', '11:05', '11:11', '11:19', '11:23', '11:24', '11:31',\n       '11:34', '11:42', '11:46', '11:52', '11:52', '11:55', '11:58',\n       '12:00', '12:14', '12:19', '12:21', '12:22', '12:25', '12:26',\n       '12:44', '12:46', '12:50', '12:53', '12:53', '12:54', '13:10',\n       '13:14', '13:14', '13:19', '13:21', '13:23', '13:26', '13:40',\n       '13:45', '13:48', '13:48', '13:51', '13:53', '14:01', '14:10',\n       '14:16', '14:18', '14:21', '14:24', '14:24', '14:40', '14:48',\n       '14:48', '14:55', '14:58', '14:58', '15:15', '15:17', '15:19',\n       '15:21', '15:26', '15:30', '15:33', '15:36', '15:39', '15:44',\n       '15:49', '15:52', '15:55', '15:58', '15:58', '16:06', '16:09',\n       '16:14', '16:15', '16:25', '16:27', '16:30', '16:30', '16:33',\n       '16:37', '16:41', '16:48', '16:53', '17:00', '17:03', '17:05',\n       '17:11', '17:21', '17:29', '17:38', '17:40', '17:47', '17:55',\n       '18:05', '18:15', '18:24', '18:32', '18:44', '18:53', '19:01',\n       '19:15', '19:24', '19:32', '19:46', '19:57', '20:05', '20:14',\n       '20:37', '20:39', '20:43'], dtype=object)"
     },
     "execution_count": 20,
     "metadata": {},
     "output_type": "execute_result"
    }
   ],
   "source": [
    "\n",
    "deadlines_list"
   ],
   "metadata": {
    "collapsed": false,
    "pycharm": {
     "name": "#%%\n"
    }
   }
  },
  {
   "cell_type": "code",
   "execution_count": 21,
   "outputs": [],
   "source": [
    "format_deadlines = [date + \" \" + s + \":00\" for s in deadlines_list]"
   ],
   "metadata": {
    "collapsed": false,
    "pycharm": {
     "name": "#%%\n"
    }
   }
  },
  {
   "cell_type": "code",
   "execution_count": 32,
   "outputs": [],
   "source": [
    "def create_ex_time(x):\n",
    "    date_format = '%Y-%m-%d %H:%M:%S'\n",
    "    diff = datetime.timedelta(seconds=30)\n",
    "\n",
    "    date_dt = datetime.datetime.strptime(x, date_format)\n",
    "    date_dt_new = date_dt - diff\n",
    "\n",
    "    date_str_new = date_dt_new.strftime(date_format)\n",
    "    return date_str_new"
   ],
   "metadata": {
    "collapsed": false,
    "pycharm": {
     "name": "#%%\n"
    }
   }
  },
  {
   "cell_type": "code",
   "execution_count": 33,
   "outputs": [
    {
     "data": {
      "text/plain": "['2022-04-03 08:58:30',\n '2022-04-03 09:27:30',\n '2022-04-03 09:56:30',\n '2022-04-03 10:25:30',\n '2022-04-03 10:29:30',\n '2022-04-03 10:52:30',\n '2022-04-03 10:53:30',\n '2022-04-03 10:56:30',\n '2022-04-03 11:04:30',\n '2022-04-03 11:10:30',\n '2022-04-03 11:18:30',\n '2022-04-03 11:22:30',\n '2022-04-03 11:23:30',\n '2022-04-03 11:30:30',\n '2022-04-03 11:33:30',\n '2022-04-03 11:41:30',\n '2022-04-03 11:45:30',\n '2022-04-03 11:51:30',\n '2022-04-03 11:51:30',\n '2022-04-03 11:54:30',\n '2022-04-03 11:57:30',\n '2022-04-03 11:59:30',\n '2022-04-03 12:13:30',\n '2022-04-03 12:18:30',\n '2022-04-03 12:20:30',\n '2022-04-03 12:21:30',\n '2022-04-03 12:24:30',\n '2022-04-03 12:25:30',\n '2022-04-03 12:43:30',\n '2022-04-03 12:45:30',\n '2022-04-03 12:49:30',\n '2022-04-03 12:52:30',\n '2022-04-03 12:52:30',\n '2022-04-03 12:53:30',\n '2022-04-03 13:09:30',\n '2022-04-03 13:13:30',\n '2022-04-03 13:13:30',\n '2022-04-03 13:18:30',\n '2022-04-03 13:20:30',\n '2022-04-03 13:22:30',\n '2022-04-03 13:25:30',\n '2022-04-03 13:39:30',\n '2022-04-03 13:44:30',\n '2022-04-03 13:47:30',\n '2022-04-03 13:47:30',\n '2022-04-03 13:50:30',\n '2022-04-03 13:52:30',\n '2022-04-03 14:00:30',\n '2022-04-03 14:09:30',\n '2022-04-03 14:15:30',\n '2022-04-03 14:17:30',\n '2022-04-03 14:20:30',\n '2022-04-03 14:23:30',\n '2022-04-03 14:23:30',\n '2022-04-03 14:39:30',\n '2022-04-03 14:47:30',\n '2022-04-03 14:47:30',\n '2022-04-03 14:54:30',\n '2022-04-03 14:57:30',\n '2022-04-03 14:57:30',\n '2022-04-03 15:14:30',\n '2022-04-03 15:16:30',\n '2022-04-03 15:18:30',\n '2022-04-03 15:20:30',\n '2022-04-03 15:25:30',\n '2022-04-03 15:29:30',\n '2022-04-03 15:32:30',\n '2022-04-03 15:35:30',\n '2022-04-03 15:38:30',\n '2022-04-03 15:43:30',\n '2022-04-03 15:48:30',\n '2022-04-03 15:51:30',\n '2022-04-03 15:54:30',\n '2022-04-03 15:57:30',\n '2022-04-03 15:57:30',\n '2022-04-03 16:05:30',\n '2022-04-03 16:08:30',\n '2022-04-03 16:13:30',\n '2022-04-03 16:14:30',\n '2022-04-03 16:24:30',\n '2022-04-03 16:26:30',\n '2022-04-03 16:29:30',\n '2022-04-03 16:29:30',\n '2022-04-03 16:32:30',\n '2022-04-03 16:36:30',\n '2022-04-03 16:40:30',\n '2022-04-03 16:47:30',\n '2022-04-03 16:52:30',\n '2022-04-03 16:59:30',\n '2022-04-03 17:02:30',\n '2022-04-03 17:04:30',\n '2022-04-03 17:10:30',\n '2022-04-03 17:20:30',\n '2022-04-03 17:28:30',\n '2022-04-03 17:37:30',\n '2022-04-03 17:39:30',\n '2022-04-03 17:46:30',\n '2022-04-03 17:54:30',\n '2022-04-03 18:04:30',\n '2022-04-03 18:14:30',\n '2022-04-03 18:23:30',\n '2022-04-03 18:31:30',\n '2022-04-03 18:43:30',\n '2022-04-03 18:52:30',\n '2022-04-03 19:00:30',\n '2022-04-03 19:14:30',\n '2022-04-03 19:23:30',\n '2022-04-03 19:31:30',\n '2022-04-03 19:45:30',\n '2022-04-03 19:56:30',\n '2022-04-03 20:04:30',\n '2022-04-03 20:13:30',\n '2022-04-03 20:36:30',\n '2022-04-03 20:38:30',\n '2022-04-03 20:42:30']"
     },
     "execution_count": 33,
     "metadata": {},
     "output_type": "execute_result"
    }
   ],
   "source": [
    "\n",
    "\n",
    "list(map(create_ex_time, format_deadlines))"
   ],
   "metadata": {
    "collapsed": false,
    "pycharm": {
     "name": "#%%\n"
    }
   }
  },
  {
   "cell_type": "code",
   "execution_count": 34,
   "outputs": [
    {
     "name": "stdout",
     "output_type": "stream",
     "text": [
      "1648956480.0027509\n"
     ]
    }
   ],
   "source": [
    "\n",
    "run_time = [\n",
    "    '2022-04-03 12:28:00','2022-04-03 11:49:05','2022-04-03 11:49:10',\n",
    "]\n",
    "\n",
    "def func():\n",
    "    print(time.time())\n",
    "\n",
    "s = sched.scheduler(time.time)\n",
    "t = time.strptime(run_time[0], '%Y-%m-%d %H:%M:%S')\n",
    "t = time.mktime(t)\n",
    "s.enterabs(t, 1, func)\n",
    "s.run()"
   ],
   "metadata": {
    "collapsed": false,
    "pycharm": {
     "name": "#%%\n"
    }
   }
  },
  {
   "cell_type": "code",
   "execution_count": 45,
   "outputs": [
    {
     "name": "stdout",
     "output_type": "stream",
     "text": [
      "2022-04-03 08:58:30\n",
      "0\n",
      "開催場所：芦屋\n",
      "レース番号：1\n",
      "締切時刻：08:59\n",
      "\n",
      "オッズ込み予想5,オッズ15.8\n",
      "2022-04-03 09:27:30\n",
      "1\n",
      "開催場所：芦屋\n",
      "レース番号：2\n",
      "締切時刻：09:28\n",
      "\n",
      "オッズ込み予想1,オッズ1.2\n",
      "2022-04-03 09:56:30\n",
      "2\n",
      "開催場所：芦屋\n",
      "レース番号：3\n",
      "締切時刻：09:57\n",
      "\n",
      "オッズ込み予想1,オッズ1.3\n",
      "2022-04-03 10:25:30\n",
      "3\n",
      "開催場所：芦屋\n",
      "レース番号：4\n",
      "締切時刻：10:26\n",
      "\n",
      "オッズ込み予想4,オッズ6.0\n",
      "2022-04-03 10:29:30\n",
      "4\n",
      "開催場所：津\n",
      "レース番号：1\n",
      "締切時刻：10:30\n",
      "\n",
      "オッズ込み予想1,オッズ1.0\n",
      "2022-04-03 10:52:30\n",
      "5\n",
      "開催場所：戸田\n",
      "レース番号：1\n",
      "締切時刻：10:53\n",
      "\n",
      "オッズ込み予想1,オッズ4.2\n",
      "2022-04-03 10:53:30\n",
      "6\n",
      "開催場所：芦屋\n",
      "レース番号：5\n",
      "締切時刻：10:54\n",
      "\n",
      "オッズ込み予想3,オッズ150.3\n",
      "2022-04-03 10:56:30\n",
      "7\n",
      "開催場所：津\n",
      "レース番号：2\n",
      "締切時刻：10:57\n",
      "\n",
      "オッズ込み予想4,オッズ6.9\n",
      "2022-04-03 11:04:30\n",
      "8\n",
      "開催場所：常滑\n",
      "レース番号：1\n",
      "締切時刻：11:05\n",
      "\n",
      "オッズ込み予想6,オッズ22.1\n",
      "2022-04-03 11:10:30\n",
      "9\n",
      "開催場所：児島\n",
      "レース番号：2\n",
      "締切時刻：11:11\n",
      "\n",
      "オッズ込み予想3,オッズ15.2\n",
      "2022-04-03 11:18:30\n",
      "10\n",
      "開催場所：戸田\n",
      "レース番号：2\n",
      "締切時刻：11:19\n",
      "\n",
      "オッズ込み予想1,オッズ3.3\n",
      "2022-04-03 11:22:30\n",
      "11\n",
      "開催場所：芦屋\n",
      "レース番号：6\n",
      "締切時刻：11:23\n",
      "\n",
      "オッズ込み予想4,オッズ5.8\n",
      "2022-04-03 11:23:30\n",
      "12\n",
      "開催場所：津\n",
      "レース番号：3\n",
      "締切時刻：11:24\n",
      "\n",
      "オッズ込み予想6,オッズ20.4\n",
      "2022-04-03 11:30:30\n",
      "13\n",
      "開催場所：常滑\n",
      "レース番号：2\n",
      "締切時刻：11:31\n",
      "\n",
      "オッズ込み予想2,オッズ33.0\n",
      "2022-04-03 11:33:30\n",
      "14\n",
      "開催場所：浜名湖\n",
      "レース番号：1\n",
      "締切時刻：11:34\n",
      "\n",
      "オッズ込み予想2,オッズ3.3\n",
      "2022-04-03 11:41:30\n",
      "15\n",
      "開催場所：児島\n",
      "レース番号：3\n",
      "締切時刻：11:42\n",
      "\n",
      "オッズ込み予想3,オッズ15.3\n",
      "2022-04-03 11:45:30\n",
      "16\n",
      "開催場所：戸田\n",
      "レース番号：3\n",
      "締切時刻：11:46\n",
      "\n",
      "オッズ込み予想1,オッズ1.3\n",
      "2022-04-03 11:51:30\n",
      "17\n",
      "開催場所：芦屋\n",
      "レース番号：7\n",
      "締切時刻：11:52\n",
      "\n",
      "オッズ込み予想1,オッズ1.9\n",
      "2022-04-03 11:51:30\n",
      "18\n",
      "開催場所：津\n",
      "レース番号：4\n",
      "締切時刻：11:52\n",
      "\n",
      "オッズ込み予想3,オッズ40.8\n",
      "2022-04-03 11:54:30\n",
      "19\n",
      "開催場所：多摩川\n",
      "レース番号：1\n",
      "締切時刻：11:55\n",
      "\n",
      "オッズ込み予想1,オッズ1.6\n",
      "2022-04-03 11:57:30\n",
      "20\n",
      "開催場所：常滑\n",
      "レース番号：3\n",
      "締切時刻：11:58\n",
      "\n",
      "オッズ込み予想4,オッズ6.2\n",
      "2022-04-03 11:59:30\n",
      "21\n",
      "開催場所：浜名湖\n",
      "レース番号：2\n",
      "締切時刻：12:00\n",
      "\n",
      "オッズ込み予想2,オッズ12.4\n",
      "2022-04-03 12:13:30\n",
      "22\n",
      "開催場所：戸田\n",
      "レース番号：4\n",
      "締切時刻：12:14\n",
      "\n",
      "オッズ込み予想1,オッズ1.4\n",
      "2022-04-03 12:18:30\n",
      "23\n",
      "開催場所：津\n",
      "レース番号：5\n",
      "締切時刻：12:19\n",
      "\n",
      "オッズ込み予想4,オッズ33.3\n",
      "2022-04-03 12:20:30\n",
      "24\n",
      "開催場所：芦屋\n",
      "レース番号：8\n",
      "締切時刻：12:21\n",
      "\n",
      "オッズ込み予想6,オッズ4.1\n",
      "2022-04-03 12:21:30\n",
      "25\n",
      "開催場所：多摩川\n",
      "レース番号：2\n",
      "締切時刻：12:22\n",
      "\n",
      "オッズ込み予想3,オッズ8.7\n",
      "2022-04-03 12:24:30\n",
      "26\n",
      "開催場所：常滑\n",
      "レース番号：4\n",
      "締切時刻：12:25\n",
      "\n",
      "オッズ込み予想1,オッズ1.7\n",
      "2022-04-03 12:25:30\n",
      "27\n",
      "開催場所：浜名湖\n",
      "レース番号：3\n",
      "締切時刻：12:26\n",
      "\n",
      "オッズ込み予想1,オッズ3.5\n",
      "2022-04-03 12:43:30\n",
      "28\n",
      "開催場所：戸田\n",
      "レース番号：5\n",
      "締切時刻：12:44\n",
      "\n",
      "オッズ込み予想1,オッズ2.7\n",
      "2022-04-03 12:45:30\n",
      "29\n",
      "開催場所：津\n",
      "レース番号：6\n",
      "締切時刻：12:46\n",
      "\n",
      "オッズ込み予想4,オッズ13.9\n",
      "2022-04-03 12:49:30\n",
      "30\n",
      "開催場所：多摩川\n",
      "レース番号：3\n",
      "締切時刻：12:50\n",
      "\n",
      "オッズ込み予想1,オッズ5.0\n",
      "2022-04-03 12:52:30\n",
      "31\n",
      "開催場所：常滑\n",
      "レース番号：5\n",
      "締切時刻：12:53\n",
      "\n",
      "オッズ込み予想4,オッズ82.5\n",
      "2022-04-03 12:52:30\n",
      "32\n",
      "開催場所：芦屋\n",
      "レース番号：9\n",
      "締切時刻：12:53\n",
      "\n",
      "オッズ込み予想2,オッズ3.3\n",
      "2022-04-03 12:53:30\n",
      "33\n",
      "開催場所：浜名湖\n",
      "レース番号：4\n",
      "締切時刻：12:54\n",
      "\n",
      "オッズ込み予想2,オッズ12.3\n",
      "2022-04-03 13:09:30\n",
      "34\n"
     ]
    },
    {
     "ename": "KeyboardInterrupt",
     "evalue": "",
     "output_type": "error",
     "traceback": [
      "\u001B[0;31m---------------------------------------------------------------------------\u001B[0m",
      "\u001B[0;31mKeyboardInterrupt\u001B[0m                         Traceback (most recent call last)",
      "Input \u001B[0;32mIn [45]\u001B[0m, in \u001B[0;36m<cell line: 112>\u001B[0;34m()\u001B[0m\n\u001B[1;32m    122\u001B[0m     t \u001B[38;5;241m=\u001B[39m time\u001B[38;5;241m.\u001B[39mmktime(t)\n\u001B[1;32m    123\u001B[0m     s\u001B[38;5;241m.\u001B[39menterabs(t, \u001B[38;5;241m1\u001B[39m, ex,kwargs\u001B[38;5;241m=\u001B[39m{\u001B[38;5;124m'\u001B[39m\u001B[38;5;124mindex\u001B[39m\u001B[38;5;124m'\u001B[39m:index,\u001B[38;5;124m'\u001B[39m\u001B[38;5;124mrow\u001B[39m\u001B[38;5;124m'\u001B[39m:row})\n\u001B[0;32m--> 124\u001B[0m     \u001B[43ms\u001B[49m\u001B[38;5;241;43m.\u001B[39;49m\u001B[43mrun\u001B[49m\u001B[43m(\u001B[49m\u001B[43m)\u001B[49m\n\u001B[1;32m    127\u001B[0m \u001B[38;5;28;01mexcept\u001B[39;00m \u001B[38;5;167;01mException\u001B[39;00m \u001B[38;5;28;01mas\u001B[39;00m e:\n\u001B[1;32m    128\u001B[0m     \u001B[38;5;28mprint\u001B[39m(\u001B[38;5;124m\"\u001B[39m\u001B[38;5;124mhoge\u001B[39m\u001B[38;5;124m\"\u001B[39m)\n",
      "File \u001B[0;32m~/.pyenv/versions/3.8.6/lib/python3.8/sched.py:149\u001B[0m, in \u001B[0;36mscheduler.run\u001B[0;34m(self, blocking)\u001B[0m\n\u001B[1;32m    147\u001B[0m     \u001B[38;5;28;01mif\u001B[39;00m \u001B[38;5;129;01mnot\u001B[39;00m blocking:\n\u001B[1;32m    148\u001B[0m         \u001B[38;5;28;01mreturn\u001B[39;00m time \u001B[38;5;241m-\u001B[39m now\n\u001B[0;32m--> 149\u001B[0m     \u001B[43mdelayfunc\u001B[49m\u001B[43m(\u001B[49m\u001B[43mtime\u001B[49m\u001B[43m \u001B[49m\u001B[38;5;241;43m-\u001B[39;49m\u001B[43m \u001B[49m\u001B[43mnow\u001B[49m\u001B[43m)\u001B[49m\n\u001B[1;32m    150\u001B[0m \u001B[38;5;28;01melse\u001B[39;00m:\n\u001B[1;32m    151\u001B[0m     action(\u001B[38;5;241m*\u001B[39margument, \u001B[38;5;241m*\u001B[39m\u001B[38;5;241m*\u001B[39mkwargs)\n",
      "\u001B[0;31mKeyboardInterrupt\u001B[0m: "
     ]
    }
   ],
   "source": [
    "import data_get\n",
    "import race_before_data\n",
    "import pickle\n",
    "import time\n",
    "import datetime\n",
    "import before_odds\n",
    "import sched\n",
    "\n",
    "\n",
    "\n",
    "\n",
    "def hensachi(x):\n",
    "    x = x.astype(float)\n",
    "    if x.std() == 0:\n",
    "        return pd.Series(np.full(6, 50.0))\n",
    "\n",
    "    hensa = (x - x.mean()) * 10 / x.std() + 50\n",
    "\n",
    "    return hensa\n",
    "\n",
    "\n",
    "def rank_mapper(x):\n",
    "    if 'A1' in x:\n",
    "        y = 4\n",
    "    elif 'A2' in x:\n",
    "        y = 3\n",
    "    elif 'B1' in x:\n",
    "        y = 2\n",
    "    else:\n",
    "        y = 1\n",
    "    return y\n",
    "\n",
    "def create_ex_time(x):\n",
    "    date_format = '%Y-%m-%d %H:%M:%S'\n",
    "    diff = datetime.timedelta(seconds=30)\n",
    "\n",
    "    date_dt = datetime.datetime.strptime(x, date_format)\n",
    "    date_dt_new = date_dt - diff\n",
    "\n",
    "    date_str_new = date_dt_new.strftime(date_format)\n",
    "    return date_str_new\n",
    "\n",
    "def ex(index, row):\n",
    "    time.sleep(1)\n",
    "    place = row[\"place\"]\n",
    "    print(f\"開催場所：{place}\")\n",
    "    place_cd, race_no, date = row[\"place_cd\"], row[\"race_no\"], row[\"date\"]\n",
    "    deadline = row[\"deadline\"]\n",
    "    print(f\"レース番号：{race_no}\")\n",
    "    bi = race_before_data.get_beforeinfo(date, place_cd, race_no)\n",
    "    tmp = pd.merge(pd.DataFrame(row).T, pd.DataFrame(bi).T, on=[\"race_no\", \"place_cd\"])\n",
    "    usecols = [f'{k}_{i}' for k in ('class', 'glob_win', 'glob_in2',\n",
    "                                    'loc_win', 'loc_in2', 'moter_in2', 'boat_in2', 'EST', 'ESC')\n",
    "               for i in range(1, 7)]\n",
    "    usecols += [f'ET_{i}'\n",
    "                for i in range(1, 7)]\n",
    "\n",
    "    tmp = tmp[usecols]\n",
    "\n",
    "    for i in range(1, 7):\n",
    "        col_name_class = f\"class_{i}\"\n",
    "        tmp[col_name_class] = tmp[col_name_class].map(rank_mapper)\n",
    "    class_col = [s for s in tmp.columns if \"class\" in s]\n",
    "\n",
    "    tmp.loc[:, class_col] = tmp.loc[:, class_col].apply(hensachi, axis=1)\n",
    "\n",
    "    hensa_col = ['glob_win', 'glob_in2', 'loc_win', 'loc_in2', 'moter_in2', 'boat_in2', 'EST', \"ET\", \"ESC\"]\n",
    "\n",
    "    for i in hensa_col:\n",
    "        class_col = [s for s in tmp.columns if i in s]\n",
    "        tmp[class_col] = tmp.loc[:, class_col].apply(hensachi, axis=1)\n",
    "\n",
    "    X = tmp.values\n",
    "    y_pred = model.predict(X)\n",
    "    # テストデータのクラス予測確率 (各クラスの予測確率 [クラス0の予測確率,クラス1の予測確率,クラス2の予測確率...] を返す)\n",
    "    y_pred_prob = model.predict_proba(X)\n",
    "    hoge = before_odds.get_odds(BET_TYPE=\"tf\", race_no=race_no, place_cd=place_cd, date=date)\n",
    "\n",
    "    before_odds_list = []\n",
    "\n",
    "    for i in hoge.select(\"td.oddsPoint\"):\n",
    "        before_odds_list.append(i.text)\n",
    "\n",
    "    hoge = [float(s) for s in before_odds_list]\n",
    "    # print(f\"予測確率：{y_pred_prob}\")\n",
    "    # print(f\"直前オッズ:{hoge}\")\n",
    "    # print(f\"オッズ＊予測{hoge*y_pred_prob}\")\n",
    "    oddsinpred = np.argmax(hoge * y_pred_prob)\n",
    "    print(np.max(hoge * y_pred_prob))\n",
    "    print(f\"開催場所：{place}, レース番号：{race_no},オッズ込み予想{oddsinpred + 1},オッズ{hoge[oddsinpred]}\")\n",
    "\n",
    "\n",
    "date = '2022-04-03'\n",
    "data_get.download_file('racelists', date)\n",
    "df_race = data_get.get_racelists(date)\n",
    "\n",
    "df_race.to_csv(f\"dataset/rawdata_syussouhyou/{date}_race_list.csv\", encoding='utf_8_sig')\n",
    "df_race = df_race.sort_values(by=\"deadline\").reset_index(drop=True)\n",
    "deadlines_list = df_race[\"deadline\"].values\n",
    "\n",
    "filename = '0402model.sav'\n",
    "model = pickle.load(open(filename, 'rb'))\n",
    "\n",
    "format_deadlines = [date + \" \" + s + \":00\" for s in deadlines_list]\n",
    "ex_time_list = list(map(create_ex_time, format_deadlines))\n",
    "\n",
    "\n",
    "\n",
    "\n",
    "\n",
    "for index, row in df_race.iterrows():\n",
    "\n",
    "    ex_time = ex_time_list[index]\n",
    "\n",
    "    try:\n",
    "        s = sched.scheduler(time.time)\n",
    "        t = time.strptime(ex_time, '%Y-%m-%d %H:%M:%S')\n",
    "        t = time.mktime(t)\n",
    "        s.enterabs(t, 1, ex,kwargs={'index':index,'row':row})\n",
    "        s.run()\n",
    "        print(\"============================\")\n",
    "\n",
    "\n",
    "    except Exception as e:\n",
    "        print(\"hoge\")\n",
    "        print(e, flush=True)"
   ],
   "metadata": {
    "collapsed": false,
    "pycharm": {
     "name": "#%%\n"
    }
   }
  },
  {
   "cell_type": "code",
   "execution_count": 44,
   "outputs": [
    {
     "data": {
      "text/plain": "0      08:59\n1      09:28\n2      09:57\n3      10:26\n43     10:30\n       ...  \n113    20:05\n41     20:14\n114    20:37\n23     20:39\n42     20:43\nName: deadline, Length: 115, dtype: object"
     },
     "execution_count": 44,
     "metadata": {},
     "output_type": "execute_result"
    }
   ],
   "source": [
    "df_race[\"deadline\"]"
   ],
   "metadata": {
    "collapsed": false,
    "pycharm": {
     "name": "#%%\n"
    }
   }
  },
  {
   "cell_type": "code",
   "execution_count": null,
   "outputs": [],
   "source": [],
   "metadata": {
    "collapsed": false,
    "pycharm": {
     "name": "#%%\n"
    }
   }
  }
 ],
 "metadata": {
  "kernelspec": {
   "display_name": "Python 3",
   "language": "python",
   "name": "python3"
  },
  "language_info": {
   "codemirror_mode": {
    "name": "ipython",
    "version": 2
   },
   "file_extension": ".py",
   "mimetype": "text/x-python",
   "name": "python",
   "nbconvert_exporter": "python",
   "pygments_lexer": "ipython2",
   "version": "2.7.6"
  }
 },
 "nbformat": 4,
 "nbformat_minor": 0
}